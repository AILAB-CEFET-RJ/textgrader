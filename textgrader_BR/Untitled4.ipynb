{
 "cells": [
  {
   "cell_type": "code",
   "execution_count": 1,
   "id": "06f9f02d-a96c-48cd-a9dc-ac06365f68aa",
   "metadata": {},
   "outputs": [
    {
     "name": "stdout",
     "output_type": "stream",
     "text": [
      "Collecting pyphen\n",
      "  Downloading pyphen-0.14.0-py3-none-any.whl (2.0 MB)\n",
      "     ---------------------------------------- 0.0/2.0 MB ? eta -:--:--\n",
      "     ---------------------------------------- 0.0/2.0 MB ? eta -:--:--\n",
      "     - -------------------------------------- 0.1/2.0 MB 1.6 MB/s eta 0:00:02\n",
      "     ---- ----------------------------------- 0.2/2.0 MB 2.5 MB/s eta 0:00:01\n",
      "     --------- ------------------------------ 0.5/2.0 MB 3.9 MB/s eta 0:00:01\n",
      "     --------------- ------------------------ 0.8/2.0 MB 4.5 MB/s eta 0:00:01\n",
      "     ----------------------------- ---------- 1.4/2.0 MB 7.1 MB/s eta 0:00:01\n",
      "     ---------------------------------------  2.0/2.0 MB 7.4 MB/s eta 0:00:01\n",
      "     ---------------------------------------- 2.0/2.0 MB 7.0 MB/s eta 0:00:00\n",
      "Installing collected packages: pyphen\n",
      "Successfully installed pyphen-0.14.0\n",
      "Note: you may need to restart the kernel to use updated packages.\n"
     ]
    }
   ],
   "source": [
    "pip install pyphen"
   ]
  },
  {
   "cell_type": "code",
   "execution_count": 10,
   "id": "0a364adc-0857-4209-a080-d7b6187ee91d",
   "metadata": {},
   "outputs": [
    {
     "data": {
      "text/html": [
       "<pre style=\"white-space:pre;overflow-x:auto;line-height:normal;font-family:Menlo,'DejaVu Sans Mono',consolas,'Courier New',monospace\"></pre>\n"
      ],
      "text/plain": []
     },
     "metadata": {},
     "output_type": "display_data"
    },
    {
     "data": {
      "text/plain": [
       "\u001b[32m'por-qui-nho--da-in-dia'\u001b[0m"
      ]
     },
     "execution_count": 10,
     "metadata": {},
     "output_type": "execute_result"
    }
   ],
   "source": [
    "import pyphen\n",
    "dic = pyphen.Pyphen(lang='pt_BR')\n",
    "\n",
    "pal = dic.inserted(pal)\n",
    "pal"
   ]
  },
  {
   "cell_type": "code",
   "execution_count": 11,
   "id": "3816671c-e817-40a6-8c42-132fc42b6c13",
   "metadata": {},
   "outputs": [],
   "source": [
    "from nltk import word_tokenize, sent_tokenize\n",
    "\n"
   ]
  },
  {
   "cell_type": "code",
   "execution_count": 21,
   "id": "db52dfba-9ce6-47f4-99f5-d4a623ec0111",
   "metadata": {},
   "outputs": [],
   "source": [
    "def conta_silabas(texto):\n",
    "    lista  = word_tokenize(texto)\n",
    "    contagem = 0\n",
    "    for i in lista:\n",
    "        dic = pyphen.Pyphen(lang='pt_BR')\n",
    "        pal = dic.inserted(i).split('-')\n",
    "        contagem = contagem + len(pal)\n",
    "\n",
    "    return contagem"
   ]
  },
  {
   "cell_type": "code",
   "execution_count": 22,
   "id": "23cd0a0b-2ce5-4e52-8166-aceb38358ee7",
   "metadata": {},
   "outputs": [],
   "source": [
    "texto = '''As armas e os barões assinalados,\n",
    "Que da ocidental praia Lusitana,\n",
    "Por mares nunca de antes navegados,\n",
    "Passaram ainda além da Taprobana,\n",
    "Em perigos e guerras esforçados,\n",
    "Mais do que prometia a força humana,\n",
    "E entre gente remota edificaram\n",
    "Novo Reino, que tanto sublimaram;\n",
    "E também as memórias gloriosas\n",
    "Daqueles Reis, que foram dilatando\n",
    "A Fé, o Império, e as terras viciosas\n",
    "De África e de Ásia andaram devastando;\n",
    "E aqueles, que por obras valerosas\n",
    "Se vão da lei da morte libertando;\n",
    "Cantando espalharei por toda parte,\n",
    "Se a tanto me ajudar o engenho e arte.'''"
   ]
  },
  {
   "cell_type": "code",
   "execution_count": 23,
   "id": "27a5cd77-1623-430d-82a0-3ebe8f2e7f63",
   "metadata": {},
   "outputs": [
    {
     "data": {
      "text/html": [
       "<pre style=\"white-space:pre;overflow-x:auto;line-height:normal;font-family:Menlo,'DejaVu Sans Mono',consolas,'Courier New',monospace\"></pre>\n"
      ],
      "text/plain": []
     },
     "metadata": {},
     "output_type": "display_data"
    },
    {
     "data": {
      "text/plain": [
       "\u001b[1;36m203\u001b[0m"
      ]
     },
     "execution_count": 23,
     "metadata": {},
     "output_type": "execute_result"
    }
   ],
   "source": [
    "conta_silabas(texto)"
   ]
  },
  {
   "cell_type": "code",
   "execution_count": null,
   "id": "4b0bed06-51da-4b3e-9d8c-73800ff4c462",
   "metadata": {},
   "outputs": [],
   "source": []
  }
 ],
 "metadata": {
  "kernelspec": {
   "display_name": "Kedro (textgrader)",
   "language": "python",
   "name": "kedro_textgrader"
  },
  "language_info": {
   "codemirror_mode": {
    "name": "ipython",
    "version": 3
   },
   "file_extension": ".py",
   "mimetype": "text/x-python",
   "name": "python",
   "nbconvert_exporter": "python",
   "pygments_lexer": "ipython3",
   "version": "3.9.18"
  }
 },
 "nbformat": 4,
 "nbformat_minor": 5
}
