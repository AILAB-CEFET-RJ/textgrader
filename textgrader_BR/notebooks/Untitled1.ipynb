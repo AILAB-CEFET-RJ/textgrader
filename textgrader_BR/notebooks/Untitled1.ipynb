{
 "cells": [
  {
   "cell_type": "code",
   "execution_count": 16,
   "id": "25a77314",
   "metadata": {},
   "outputs": [
    {
     "data": {
      "text/html": [
       "<pre style=\"white-space:pre;overflow-x:auto;line-height:normal;font-family:Menlo,'DejaVu Sans Mono',consolas,'Courier New',monospace\"><span style=\"color: #7fbfbf; text-decoration-color: #7fbfbf\">[11/12/23 23:16:54] </span><span style=\"color: #000080; text-decoration-color: #000080\">INFO    </span> Loading data from <span style=\"color: #008000; text-decoration-color: #008000\">'all_texts_parquet'</span> <span style=\"font-weight: bold\">(</span>ParquetDataset<span style=\"font-weight: bold\">)</span><span style=\"color: #808000; text-decoration-color: #808000\">...</span>          <a href=\"file://C:\\Users\\ramon.boucas\\Miniconda3\\lib\\site-packages\\kedro\\io\\data_catalog.py\" target=\"_blank\"><span style=\"color: #7f7f7f; text-decoration-color: #7f7f7f\">data_catalog.py</span></a><span style=\"color: #7f7f7f; text-decoration-color: #7f7f7f\">:</span><a href=\"file://C:\\Users\\ramon.boucas\\Miniconda3\\lib\\site-packages\\kedro\\io\\data_catalog.py#503\" target=\"_blank\"><span style=\"color: #7f7f7f; text-decoration-color: #7f7f7f\">503</span></a>\n",
       "</pre>\n"
      ],
      "text/plain": [
       "\u001b[2;36m[11/12/23 23:16:54]\u001b[0m\u001b[2;36m \u001b[0m\u001b[34mINFO    \u001b[0m Loading data from \u001b[32m'all_texts_parquet'\u001b[0m \u001b[1m(\u001b[0mParquetDataset\u001b[1m)\u001b[0m\u001b[33m...\u001b[0m          \u001b]8;id=547612;file://C:\\Users\\ramon.boucas\\Miniconda3\\lib\\site-packages\\kedro\\io\\data_catalog.py\u001b\\\u001b[2mdata_catalog.py\u001b[0m\u001b]8;;\u001b\\\u001b[2m:\u001b[0m\u001b]8;id=732770;file://C:\\Users\\ramon.boucas\\Miniconda3\\lib\\site-packages\\kedro\\io\\data_catalog.py#503\u001b\\\u001b[2m503\u001b[0m\u001b]8;;\u001b\\\n"
      ]
     },
     "metadata": {},
     "output_type": "display_data"
    },
    {
     "data": {
      "text/html": [
       "<pre style=\"white-space:pre;overflow-x:auto;line-height:normal;font-family:Menlo,'DejaVu Sans Mono',consolas,'Courier New',monospace\"></pre>\n"
      ],
      "text/plain": []
     },
     "metadata": {},
     "output_type": "display_data"
    },
    {
     "data": {
      "text/plain": [
       "\n",
       "\u001b[1;35marray\u001b[0m\u001b[1m(\u001b[0m\u001b[1m[\u001b[0m\u001b[1m{\u001b[0m\u001b[32m'competencia'\u001b[0m: \u001b[32m'Adequação ao Tema'\u001b[0m, \u001b[32m'motivo'\u001b[0m: \u001b[32m'2.0'\u001b[0m, \u001b[32m'nota'\u001b[0m: \u001b[32m'Avalia se o texto consegue explorar as possibilidades de ideias que o tema favorece. Como no vestibular, a redação que foge ao tema é zerada.'\u001b[0m\u001b[1m}\u001b[0m,\n",
       "       \u001b[1m{\u001b[0m\u001b[32m'competencia'\u001b[0m: \u001b[32m'Adequação e Leitura Crítica da Coletânea'\u001b[0m, \u001b[32m'motivo'\u001b[0m: \u001b[32m'1.5'\u001b[0m, \u001b[32m'nota'\u001b[0m: \u001b[32m'Avalia se o texto consegue perceber os pressupostos da coletânea, assim como fazer relação entre os pontos de vista apresentados e outras fontes de referência.'\u001b[0m\u001b[1m}\u001b[0m,\n",
       "       \u001b[1m{\u001b[0m\u001b[32m'competencia'\u001b[0m: \u001b[32m'Adequação ao Gênero Textual'\u001b[0m, \u001b[32m'motivo'\u001b[0m: \u001b[32m'2.0'\u001b[0m, \u001b[32m'nota'\u001b[0m: \u001b[32m'Avalia se o texto emprega de forma adequada as características do gênero textual e se consegue utilizá-las de forma consciente e enriquecedora a serviço do projeto de texto.'\u001b[0m\u001b[1m}\u001b[0m,\n",
       "       \u001b[1m{\u001b[0m\u001b[32m'competencia'\u001b[0m: \u001b[32m'Adequação à modalidade padrão da língua'\u001b[0m, \u001b[32m'motivo'\u001b[0m: \u001b[32m'1.5'\u001b[0m, \u001b[32m'nota'\u001b[0m: \u001b[32m'Avalia se o texto possui competência na modalidade escrita. Dessa forma, verifica o domínio morfológico, sintético, semântico e ortográfico.'\u001b[0m\u001b[1m}\u001b[0m,\n",
       "       \u001b[1m{\u001b[0m\u001b[32m'competencia'\u001b[0m: \u001b[32m'Coesão e Coerência'\u001b[0m, \u001b[32m'motivo'\u001b[0m: \u001b[32m'1.5'\u001b[0m, \u001b[32m'nota'\u001b[0m: \u001b[32m'Avalia se o texto possui domínio dos processos de predicação, construção frasal, paragrafação e vocabulário. Além da correta utilização dos sinais de pontuação e dos elementos de articulação textual.'\u001b[0m\u001b[1m}\u001b[0m,\n",
       "       \u001b[1m{\u001b[0m\u001b[32m'competencia'\u001b[0m: \u001b[32m'- Ruim'\u001b[0m, \u001b[32m'motivo'\u001b[0m: \u001b[32m'- Bom'\u001b[0m, \u001b[32m'nota'\u001b[0m: \u001b[32m'- Fraco'\u001b[0m\u001b[1m}\u001b[0m\u001b[1m]\u001b[0m,\n",
       "      \u001b[33mdtype\u001b[0m=\u001b[35mobject\u001b[0m\u001b[1m)\u001b[0m"
      ]
     },
     "execution_count": 16,
     "metadata": {},
     "output_type": "execute_result"
    }
   ],
   "source": [
    "df = catalog.load('all_texts_parquet')\n",
    "df[df['id'] == 9739]['competencias'][0]"
   ]
  },
  {
   "cell_type": "code",
   "execution_count": 9,
   "id": "27107602",
   "metadata": {},
   "outputs": [
    {
     "data": {
      "text/html": [
       "<pre style=\"white-space:pre;overflow-x:auto;line-height:normal;font-family:Menlo,'DejaVu Sans Mono',consolas,'Courier New',monospace\"></pre>\n"
      ],
      "text/plain": []
     },
     "metadata": {},
     "output_type": "display_data"
    },
    {
     "data": {
      "text/plain": [
       "\n",
       "\u001b[1;36m0\u001b[0m    \u001b[1m[\u001b[0m\u001b[1m{\u001b[0m\u001b[32m'competencia'\u001b[0m: \u001b[32m'Adequação ao Tema'\u001b[0m, \u001b[32m'motivo'\u001b[0m\u001b[33m...\u001b[0m\n",
       "\u001b[1;36m0\u001b[0m    \u001b[1m[\u001b[0m\u001b[1m{\u001b[0m\u001b[32m'competencia'\u001b[0m: \u001b[32m'Adequação ao Tema'\u001b[0m, \u001b[32m'motivo'\u001b[0m\u001b[33m...\u001b[0m\n",
       "\u001b[1;36m0\u001b[0m    \u001b[1m[\u001b[0m\u001b[1m{\u001b[0m\u001b[32m'competencia'\u001b[0m: \u001b[32m'Adequação ao Tema'\u001b[0m, \u001b[32m'motivo'\u001b[0m\u001b[33m...\u001b[0m\n",
       "\u001b[1;36m0\u001b[0m    \u001b[1m[\u001b[0m\u001b[1m{\u001b[0m\u001b[32m'competencia'\u001b[0m: \u001b[32m'Adequação ao Tema'\u001b[0m, \u001b[32m'motivo'\u001b[0m\u001b[33m...\u001b[0m\n",
       "\u001b[1;36m0\u001b[0m    \u001b[1m[\u001b[0m\u001b[1m{\u001b[0m\u001b[32m'competencia'\u001b[0m: \u001b[32m'Adequação ao Tema'\u001b[0m, \u001b[32m'motivo'\u001b[0m\u001b[33m...\u001b[0m\n",
       "                           \u001b[33m...\u001b[0m                        \n",
       "\u001b[1;36m0\u001b[0m    \u001b[1m[\u001b[0m\u001b[1m{\u001b[0m\u001b[32m'competencia'\u001b[0m: \u001b[32m'Adequação ao Tema'\u001b[0m, \u001b[32m'motivo'\u001b[0m\u001b[33m...\u001b[0m\n",
       "\u001b[1;36m0\u001b[0m    \u001b[1m[\u001b[0m\u001b[1m{\u001b[0m\u001b[32m'competencia'\u001b[0m: \u001b[32m'Adequação ao Tema'\u001b[0m, \u001b[32m'motivo'\u001b[0m\u001b[33m...\u001b[0m\n",
       "\u001b[1;36m0\u001b[0m    \u001b[1m[\u001b[0m\u001b[1m{\u001b[0m\u001b[32m'competencia'\u001b[0m: \u001b[32m'Adequação ao Tema'\u001b[0m, \u001b[32m'motivo'\u001b[0m\u001b[33m...\u001b[0m\n",
       "\u001b[1;36m0\u001b[0m    \u001b[1m[\u001b[0m\u001b[1m{\u001b[0m\u001b[32m'competencia'\u001b[0m: \u001b[32m'Adequação ao Tema'\u001b[0m, \u001b[32m'motivo'\u001b[0m\u001b[33m...\u001b[0m\n",
       "\u001b[1;36m0\u001b[0m    \u001b[1m[\u001b[0m\u001b[1m{\u001b[0m\u001b[32m'competencia'\u001b[0m: \u001b[32m'Adequação ao Tema'\u001b[0m, \u001b[32m'motivo'\u001b[0m\u001b[33m...\u001b[0m\n",
       "Name: competencias, Length: \u001b[1;36m164\u001b[0m, dtype: object"
      ]
     },
     "execution_count": 9,
     "metadata": {},
     "output_type": "execute_result"
    }
   ],
   "source": [
    "df['competencias'][0][0][0]"
   ]
  },
  {
   "cell_type": "code",
   "execution_count": null,
   "id": "94d7b2e7",
   "metadata": {},
   "outputs": [],
   "source": []
  }
 ],
 "metadata": {
  "kernelspec": {
   "display_name": "Kedro (textgrader)",
   "language": "python",
   "name": "kedro_textgrader"
  },
  "language_info": {
   "codemirror_mode": {
    "name": "ipython",
    "version": 3
   },
   "file_extension": ".py",
   "mimetype": "text/x-python",
   "name": "python",
   "nbconvert_exporter": "python",
   "pygments_lexer": "ipython3",
   "version": "3.7.13"
  }
 },
 "nbformat": 4,
 "nbformat_minor": 5
}
