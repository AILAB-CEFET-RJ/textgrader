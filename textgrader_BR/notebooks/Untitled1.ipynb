{
 "cells": [
  {
   "cell_type": "code",
   "execution_count": 6,
   "id": "5e5cd4ad-230e-447d-bd5d-c946686cdcea",
   "metadata": {},
   "outputs": [
    {
     "data": {
      "text/html": [
       "<pre style=\"white-space:pre;overflow-x:auto;line-height:normal;font-family:Menlo,'DejaVu Sans Mono',consolas,'Courier New',monospace\"><span style=\"color: #7fbfbf; text-decoration-color: #7fbfbf\">[02/04/24 20:41:58] </span><span style=\"color: #000080; text-decoration-color: #000080\">INFO    </span> Loading data from <span style=\"color: #008000; text-decoration-color: #008000\">'reg_pred_geral_lista'</span> <span style=\"font-weight: bold\">(</span>PartitionedDataset<span style=\"font-weight: bold\">)</span><span style=\"color: #808000; text-decoration-color: #808000\">...</span>   <a href=\"file://C:\\Users\\ramon.boucas\\.conda\\envs\\my_env\\lib\\site-packages\\kedro\\io\\data_catalog.py\" target=\"_blank\"><span style=\"color: #7f7f7f; text-decoration-color: #7f7f7f\">data_catalog.py</span></a><span style=\"color: #7f7f7f; text-decoration-color: #7f7f7f\">:</span><a href=\"file://C:\\Users\\ramon.boucas\\.conda\\envs\\my_env\\lib\\site-packages\\kedro\\io\\data_catalog.py#502\" target=\"_blank\"><span style=\"color: #7f7f7f; text-decoration-color: #7f7f7f\">502</span></a>\n",
       "</pre>\n"
      ],
      "text/plain": [
       "\u001b[2;36m[02/04/24 20:41:58]\u001b[0m\u001b[2;36m \u001b[0m\u001b[34mINFO    \u001b[0m Loading data from \u001b[32m'reg_pred_geral_lista'\u001b[0m \u001b[1m(\u001b[0mPartitionedDataset\u001b[1m)\u001b[0m\u001b[33m...\u001b[0m   \u001b]8;id=781855;file://C:\\Users\\ramon.boucas\\.conda\\envs\\my_env\\lib\\site-packages\\kedro\\io\\data_catalog.py\u001b\\\u001b[2mdata_catalog.py\u001b[0m\u001b]8;;\u001b\\\u001b[2m:\u001b[0m\u001b]8;id=561118;file://C:\\Users\\ramon.boucas\\.conda\\envs\\my_env\\lib\\site-packages\\kedro\\io\\data_catalog.py#502\u001b\\\u001b[2m502\u001b[0m\u001b]8;;\u001b\\\n"
      ]
     },
     "metadata": {},
     "output_type": "display_data"
    },
    {
     "data": {
      "text/html": [
       "<pre style=\"white-space:pre;overflow-x:auto;line-height:normal;font-family:Menlo,'DejaVu Sans Mono',consolas,'Courier New',monospace\"><span style=\"color: #7fbfbf; text-decoration-color: #7fbfbf\">                    </span><span style=\"color: #000080; text-decoration-color: #000080\">INFO    </span> Loading data from <span style=\"color: #008000; text-decoration-color: #008000\">'class_pred_geral_lista'</span> <span style=\"font-weight: bold\">(</span>PartitionedDataset<span style=\"font-weight: bold\">)</span><span style=\"color: #808000; text-decoration-color: #808000\">...</span> <a href=\"file://C:\\Users\\ramon.boucas\\.conda\\envs\\my_env\\lib\\site-packages\\kedro\\io\\data_catalog.py\" target=\"_blank\"><span style=\"color: #7f7f7f; text-decoration-color: #7f7f7f\">data_catalog.py</span></a><span style=\"color: #7f7f7f; text-decoration-color: #7f7f7f\">:</span><a href=\"file://C:\\Users\\ramon.boucas\\.conda\\envs\\my_env\\lib\\site-packages\\kedro\\io\\data_catalog.py#502\" target=\"_blank\"><span style=\"color: #7f7f7f; text-decoration-color: #7f7f7f\">502</span></a>\n",
       "</pre>\n"
      ],
      "text/plain": [
       "\u001b[2;36m                   \u001b[0m\u001b[2;36m \u001b[0m\u001b[34mINFO    \u001b[0m Loading data from \u001b[32m'class_pred_geral_lista'\u001b[0m \u001b[1m(\u001b[0mPartitionedDataset\u001b[1m)\u001b[0m\u001b[33m...\u001b[0m \u001b]8;id=772180;file://C:\\Users\\ramon.boucas\\.conda\\envs\\my_env\\lib\\site-packages\\kedro\\io\\data_catalog.py\u001b\\\u001b[2mdata_catalog.py\u001b[0m\u001b]8;;\u001b\\\u001b[2m:\u001b[0m\u001b]8;id=119579;file://C:\\Users\\ramon.boucas\\.conda\\envs\\my_env\\lib\\site-packages\\kedro\\io\\data_catalog.py#502\u001b\\\u001b[2m502\u001b[0m\u001b]8;;\u001b\\\n"
      ]
     },
     "metadata": {},
     "output_type": "display_data"
    }
   ],
   "source": [
    "import pandas as pd\n",
    "from sklearn.metrics import cohen_kappa_score\n",
    "from nltk import word_tokenize\n",
    "\n",
    "reg_dicio = catalog.load('reg_pred_geral_lista')\n",
    "class_dicio = catalog.load('class_pred_geral_lista')\n",
    "dicio = reg_dicio.update(class_dicio)"
   ]
  },
  {
   "cell_type": "code",
   "execution_count": 7,
   "id": "24b83ff2-3f3a-4dab-bbcb-ed40d7127bb9",
   "metadata": {},
   "outputs": [],
   "source": [
    "lista = []\n",
    "\n",
    "for key, value in reg_dicio.items():\n",
    "    df = value()\n",
    "    df['modelo'] = 'regressao_' + key\n",
    "    lista.append(df)\n",
    "\n",
    "\n",
    "reg_df = pd.concat(lista)\n"
   ]
  },
  {
   "cell_type": "code",
   "execution_count": 8,
   "id": "cc828476-e945-46b7-a7bf-612a2979e915",
   "metadata": {},
   "outputs": [],
   "source": [
    "lista = []\n",
    "\n",
    "for key, value in class_dicio.items():\n",
    "    df = value()\n",
    "    df['modelo'] = 'classificacao_' + key\n",
    "    lista.append(df)\n",
    "\n",
    "\n",
    "class_df = pd.concat(lista)"
   ]
  },
  {
   "cell_type": "code",
   "execution_count": 10,
   "id": "3aef30c1-3ae9-46e2-91ca-24a3ee06489e",
   "metadata": {},
   "outputs": [
    {
     "data": {
      "text/html": [
       "<pre style=\"white-space:pre;overflow-x:auto;line-height:normal;font-family:Menlo,'DejaVu Sans Mono',consolas,'Courier New',monospace\"></pre>\n"
      ],
      "text/plain": []
     },
     "metadata": {},
     "output_type": "display_data"
    },
    {
     "data": {
      "text/html": [
       "<div>\n",
       "<style scoped>\n",
       "    .dataframe tbody tr th:only-of-type {\n",
       "        vertical-align: middle;\n",
       "    }\n",
       "\n",
       "    .dataframe tbody tr th {\n",
       "        vertical-align: top;\n",
       "    }\n",
       "\n",
       "    .dataframe thead th {\n",
       "        text-align: right;\n",
       "    }\n",
       "</style>\n",
       "<table border=\"1\" class=\"dataframe\">\n",
       "  <thead>\n",
       "    <tr style=\"text-align: right;\">\n",
       "      <th></th>\n",
       "      <th>index</th>\n",
       "      <th>tema</th>\n",
       "      <th>conjunto</th>\n",
       "      <th>PRED_GERAL</th>\n",
       "      <th>TARGET</th>\n",
       "      <th>modelo</th>\n",
       "    </tr>\n",
       "  </thead>\n",
       "  <tbody>\n",
       "    <tr>\n",
       "      <th>0</th>\n",
       "      <td>14</td>\n",
       "      <td>2</td>\n",
       "      <td>1</td>\n",
       "      <td>800</td>\n",
       "      <td>840.0</td>\n",
       "      <td>regressao_LSI_32</td>\n",
       "    </tr>\n",
       "    <tr>\n",
       "      <th>1</th>\n",
       "      <td>104</td>\n",
       "      <td>39</td>\n",
       "      <td>1</td>\n",
       "      <td>880</td>\n",
       "      <td>840.0</td>\n",
       "      <td>regressao_LSI_32</td>\n",
       "    </tr>\n",
       "    <tr>\n",
       "      <th>2</th>\n",
       "      <td>80</td>\n",
       "      <td>13</td>\n",
       "      <td>1</td>\n",
       "      <td>880</td>\n",
       "      <td>520.0</td>\n",
       "      <td>regressao_LSI_32</td>\n",
       "    </tr>\n",
       "    <tr>\n",
       "      <th>3</th>\n",
       "      <td>77</td>\n",
       "      <td>2</td>\n",
       "      <td>1</td>\n",
       "      <td>840</td>\n",
       "      <td>920.0</td>\n",
       "      <td>regressao_LSI_32</td>\n",
       "    </tr>\n",
       "    <tr>\n",
       "      <th>4</th>\n",
       "      <td>40</td>\n",
       "      <td>54</td>\n",
       "      <td>1</td>\n",
       "      <td>640</td>\n",
       "      <td>640.0</td>\n",
       "      <td>regressao_LSI_32</td>\n",
       "    </tr>\n",
       "    <tr>\n",
       "      <th>...</th>\n",
       "      <td>...</td>\n",
       "      <td>...</td>\n",
       "      <td>...</td>\n",
       "      <td>...</td>\n",
       "      <td>...</td>\n",
       "      <td>...</td>\n",
       "    </tr>\n",
       "    <tr>\n",
       "      <th>1521</th>\n",
       "      <td>77</td>\n",
       "      <td>46</td>\n",
       "      <td>1</td>\n",
       "      <td>880</td>\n",
       "      <td>920.0</td>\n",
       "      <td>classificacao_d2v_64</td>\n",
       "    </tr>\n",
       "    <tr>\n",
       "      <th>1522</th>\n",
       "      <td>16</td>\n",
       "      <td>43</td>\n",
       "      <td>1</td>\n",
       "      <td>800</td>\n",
       "      <td>680.0</td>\n",
       "      <td>classificacao_d2v_64</td>\n",
       "    </tr>\n",
       "    <tr>\n",
       "      <th>1523</th>\n",
       "      <td>54</td>\n",
       "      <td>45</td>\n",
       "      <td>1</td>\n",
       "      <td>560</td>\n",
       "      <td>760.0</td>\n",
       "      <td>classificacao_d2v_64</td>\n",
       "    </tr>\n",
       "    <tr>\n",
       "      <th>1524</th>\n",
       "      <td>125</td>\n",
       "      <td>81</td>\n",
       "      <td>1</td>\n",
       "      <td>920</td>\n",
       "      <td>760.0</td>\n",
       "      <td>classificacao_d2v_64</td>\n",
       "    </tr>\n",
       "    <tr>\n",
       "      <th>1525</th>\n",
       "      <td>117</td>\n",
       "      <td>37</td>\n",
       "      <td>1</td>\n",
       "      <td>920</td>\n",
       "      <td>640.0</td>\n",
       "      <td>classificacao_d2v_64</td>\n",
       "    </tr>\n",
       "  </tbody>\n",
       "</table>\n",
       "<p>18312 rows × 6 columns</p>\n",
       "</div>"
      ],
      "text/plain": [
       "\n",
       "      index  tema  conjunto  PRED_GERAL  TARGET                modelo\n",
       "\u001b[1;36m0\u001b[0m        \u001b[1;36m14\u001b[0m     \u001b[1;36m2\u001b[0m         \u001b[1;36m1\u001b[0m         \u001b[1;36m800\u001b[0m   \u001b[1;36m840.0\u001b[0m      regressao_LSI_32\n",
       "\u001b[1;36m1\u001b[0m       \u001b[1;36m104\u001b[0m    \u001b[1;36m39\u001b[0m         \u001b[1;36m1\u001b[0m         \u001b[1;36m880\u001b[0m   \u001b[1;36m840.0\u001b[0m      regressao_LSI_32\n",
       "\u001b[1;36m2\u001b[0m        \u001b[1;36m80\u001b[0m    \u001b[1;36m13\u001b[0m         \u001b[1;36m1\u001b[0m         \u001b[1;36m880\u001b[0m   \u001b[1;36m520.0\u001b[0m      regressao_LSI_32\n",
       "\u001b[1;36m3\u001b[0m        \u001b[1;36m77\u001b[0m     \u001b[1;36m2\u001b[0m         \u001b[1;36m1\u001b[0m         \u001b[1;36m840\u001b[0m   \u001b[1;36m920.0\u001b[0m      regressao_LSI_32\n",
       "\u001b[1;36m4\u001b[0m        \u001b[1;36m40\u001b[0m    \u001b[1;36m54\u001b[0m         \u001b[1;36m1\u001b[0m         \u001b[1;36m640\u001b[0m   \u001b[1;36m640.0\u001b[0m      regressao_LSI_32\n",
       "\u001b[33m...\u001b[0m     \u001b[33m...\u001b[0m   \u001b[33m...\u001b[0m       \u001b[33m...\u001b[0m         \u001b[33m...\u001b[0m     \u001b[33m...\u001b[0m                   \u001b[33m...\u001b[0m\n",
       "\u001b[1;36m1521\u001b[0m     \u001b[1;36m77\u001b[0m    \u001b[1;36m46\u001b[0m         \u001b[1;36m1\u001b[0m         \u001b[1;36m880\u001b[0m   \u001b[1;36m920.0\u001b[0m  classificacao_d2v_64\n",
       "\u001b[1;36m1522\u001b[0m     \u001b[1;36m16\u001b[0m    \u001b[1;36m43\u001b[0m         \u001b[1;36m1\u001b[0m         \u001b[1;36m800\u001b[0m   \u001b[1;36m680.0\u001b[0m  classificacao_d2v_64\n",
       "\u001b[1;36m1523\u001b[0m     \u001b[1;36m54\u001b[0m    \u001b[1;36m45\u001b[0m         \u001b[1;36m1\u001b[0m         \u001b[1;36m560\u001b[0m   \u001b[1;36m760.0\u001b[0m  classificacao_d2v_64\n",
       "\u001b[1;36m1524\u001b[0m    \u001b[1;36m125\u001b[0m    \u001b[1;36m81\u001b[0m         \u001b[1;36m1\u001b[0m         \u001b[1;36m920\u001b[0m   \u001b[1;36m760.0\u001b[0m  classificacao_d2v_64\n",
       "\u001b[1;36m1525\u001b[0m    \u001b[1;36m117\u001b[0m    \u001b[1;36m37\u001b[0m         \u001b[1;36m1\u001b[0m         \u001b[1;36m920\u001b[0m   \u001b[1;36m640.0\u001b[0m  classificacao_d2v_64\n",
       "\n",
       "\u001b[1m[\u001b[0m\u001b[1;36m18312\u001b[0m rows x \u001b[1;36m6\u001b[0m columns\u001b[1m]\u001b[0m"
      ]
     },
     "execution_count": 10,
     "metadata": {},
     "output_type": "execute_result"
    }
   ],
   "source": [
    "dfzao = pd.concat([reg_df,class_df])\n",
    "dfzao"
   ]
  },
  {
   "cell_type": "code",
   "execution_count": 11,
   "id": "c1525650-214f-4419-93ad-1fb6e8346a32",
   "metadata": {},
   "outputs": [
    {
     "data": {
      "text/html": [
       "<pre style=\"white-space:pre;overflow-x:auto;line-height:normal;font-family:Menlo,'DejaVu Sans Mono',consolas,'Courier New',monospace\"></pre>\n"
      ],
      "text/plain": []
     },
     "metadata": {},
     "output_type": "display_data"
    },
    {
     "data": {
      "text/plain": [
       "\n",
       "\u001b[1;35marray\u001b[0m\u001b[1m(\u001b[0m\u001b[1m[\u001b[0m\u001b[32m'regressao_LSI_32'\u001b[0m, \u001b[32m'regressao_LSI_64'\u001b[0m, \u001b[32m'regressao_TF_IDF_32'\u001b[0m,\n",
       "       \u001b[32m'regressao_TF_IDF_64'\u001b[0m, \u001b[32m'regressao_d2v_32'\u001b[0m, \u001b[32m'regressao_d2v_64'\u001b[0m,\n",
       "       \u001b[32m'classificacao_LSI_32'\u001b[0m, \u001b[32m'classificacao_LSI_64'\u001b[0m,\n",
       "       \u001b[32m'classificacao_TF_IDF_32'\u001b[0m, \u001b[32m'classificacao_TF_IDF_64'\u001b[0m,\n",
       "       \u001b[32m'classificacao_d2v_32'\u001b[0m, \u001b[32m'classificacao_d2v_64'\u001b[0m\u001b[1m]\u001b[0m, \u001b[33mdtype\u001b[0m=\u001b[35mobject\u001b[0m\u001b[1m)\u001b[0m"
      ]
     },
     "execution_count": 11,
     "metadata": {},
     "output_type": "execute_result"
    }
   ],
   "source": [
    "dfzao['modelo'].unique()"
   ]
  },
  {
   "cell_type": "code",
   "execution_count": 12,
   "id": "3e6cd814-c9b8-4cd2-82fa-deaea1b831f5",
   "metadata": {},
   "outputs": [
    {
     "data": {
      "text/html": [
       "<pre style=\"white-space:pre;overflow-x:auto;line-height:normal;font-family:Menlo,'DejaVu Sans Mono',consolas,'Courier New',monospace\"></pre>\n"
      ],
      "text/plain": []
     },
     "metadata": {},
     "output_type": "display_data"
    },
    {
     "data": {
      "text/plain": [
       "\u001b[1;36m-0.00017315860876832012\u001b[0m"
      ]
     },
     "execution_count": 12,
     "metadata": {},
     "output_type": "execute_result"
    }
   ],
   "source": [
    "cohen_kappa_score(elef['SOMA_PREDS'],elef['TARGET'])"
   ]
  },
  {
   "cell_type": "code",
   "execution_count": 13,
   "id": "37fe57d0-aed9-45d1-913d-099bd978d012",
   "metadata": {},
   "outputs": [
    {
     "data": {
      "text/html": [
       "<pre style=\"white-space:pre;overflow-x:auto;line-height:normal;font-family:Menlo,'DejaVu Sans Mono',consolas,'Courier New',monospace\"></pre>\n"
      ],
      "text/plain": []
     },
     "metadata": {},
     "output_type": "display_data"
    },
    {
     "data": {
      "text/plain": [
       "\u001b[1;36m0.0009445858059033974\u001b[0m"
      ]
     },
     "execution_count": 13,
     "metadata": {},
     "output_type": "execute_result"
    }
   ],
   "source": [
    "cohen_kappa_score(elef['PRED_GERAL'],elef['TARGET'])"
   ]
  },
  {
   "cell_type": "code",
   "execution_count": 6,
   "id": "de482578-3444-430a-9bc6-8c756f9e6443",
   "metadata": {},
   "outputs": [],
   "source": [
    "a = dicio['TF_IDF_32']()\n",
    "b = dicio['TF_IDF_64']()\n",
    "c = dicio['d2v_32']()\n",
    "d = dicio['d2v_64']()"
   ]
  },
  {
   "cell_type": "code",
   "execution_count": 8,
   "id": "3d820a05-93b3-43a9-af67-e9b978e0d540",
   "metadata": {},
   "outputs": [
    {
     "data": {
      "text/html": [
       "<pre style=\"white-space:pre;overflow-x:auto;line-height:normal;font-family:Menlo,'DejaVu Sans Mono',consolas,'Courier New',monospace\"></pre>\n"
      ],
      "text/plain": []
     },
     "metadata": {},
     "output_type": "display_data"
    },
    {
     "data": {
      "text/plain": [
       "\u001b[1;36m-0.0008146381831632965\u001b[0m"
      ]
     },
     "execution_count": 8,
     "metadata": {},
     "output_type": "execute_result"
    }
   ],
   "source": [
    "cohen_kappa_score(d['PRED_GERAL'],d['TARGET'])"
   ]
  },
  {
   "cell_type": "code",
   "execution_count": 16,
   "id": "c4e6dd26-5728-4d79-a815-6a6511d65912",
   "metadata": {},
   "outputs": [
    {
     "data": {
      "text/html": [
       "<pre style=\"white-space:pre;overflow-x:auto;line-height:normal;font-family:Menlo,'DejaVu Sans Mono',consolas,'Courier New',monospace\"></pre>\n"
      ],
      "text/plain": []
     },
     "metadata": {},
     "output_type": "display_data"
    },
    {
     "data": {
      "text/plain": [
       "\u001b[1;36m0.0019551957261074726\u001b[0m"
      ]
     },
     "execution_count": 16,
     "metadata": {},
     "output_type": "execute_result"
    }
   ],
   "source": [
    "cohen_kappa_score(b['PRED_GERAL'],b['TARGET'])"
   ]
  },
  {
   "cell_type": "code",
   "execution_count": null,
   "id": "78b6e101-6a6c-4534-b379-850be51f415a",
   "metadata": {},
   "outputs": [],
   "source": []
  }
 ],
 "metadata": {
  "kernelspec": {
   "display_name": "Kedro (textgrader)",
   "language": "python",
   "name": "kedro_textgrader"
  },
  "language_info": {
   "codemirror_mode": {
    "name": "ipython",
    "version": 3
   },
   "file_extension": ".py",
   "mimetype": "text/x-python",
   "name": "python",
   "nbconvert_exporter": "python",
   "pygments_lexer": "ipython3",
   "version": "3.9.18"
  }
 },
 "nbformat": 4,
 "nbformat_minor": 5
}
