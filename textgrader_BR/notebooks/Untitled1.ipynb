{
 "cells": [
  {
   "cell_type": "code",
   "execution_count": 1,
   "id": "5e5cd4ad-230e-447d-bd5d-c946686cdcea",
   "metadata": {},
   "outputs": [
    {
     "data": {
      "text/html": [
       "<pre style=\"white-space:pre;overflow-x:auto;line-height:normal;font-family:Menlo,'DejaVu Sans Mono',consolas,'Courier New',monospace\"><span style=\"color: #7fbfbf; text-decoration-color: #7fbfbf\">[02/06/24 01:53:14] </span><span style=\"color: #000080; text-decoration-color: #000080\">INFO    </span> Loading data from <span style=\"color: #008000; text-decoration-color: #008000\">'reg_pred_geral_lista'</span> <span style=\"font-weight: bold\">(</span>PartitionedDataset<span style=\"font-weight: bold\">)</span><span style=\"color: #808000; text-decoration-color: #808000\">...</span>   <a href=\"file://C:\\Users\\ramon.boucas\\.conda\\envs\\my_env\\lib\\site-packages\\kedro\\io\\data_catalog.py\" target=\"_blank\"><span style=\"color: #7f7f7f; text-decoration-color: #7f7f7f\">data_catalog.py</span></a><span style=\"color: #7f7f7f; text-decoration-color: #7f7f7f\">:</span><a href=\"file://C:\\Users\\ramon.boucas\\.conda\\envs\\my_env\\lib\\site-packages\\kedro\\io\\data_catalog.py#502\" target=\"_blank\"><span style=\"color: #7f7f7f; text-decoration-color: #7f7f7f\">502</span></a>\n",
       "</pre>\n"
      ],
      "text/plain": [
       "\u001b[2;36m[02/06/24 01:53:14]\u001b[0m\u001b[2;36m \u001b[0m\u001b[34mINFO    \u001b[0m Loading data from \u001b[32m'reg_pred_geral_lista'\u001b[0m \u001b[1m(\u001b[0mPartitionedDataset\u001b[1m)\u001b[0m\u001b[33m...\u001b[0m   \u001b]8;id=940752;file://C:\\Users\\ramon.boucas\\.conda\\envs\\my_env\\lib\\site-packages\\kedro\\io\\data_catalog.py\u001b\\\u001b[2mdata_catalog.py\u001b[0m\u001b]8;;\u001b\\\u001b[2m:\u001b[0m\u001b]8;id=641029;file://C:\\Users\\ramon.boucas\\.conda\\envs\\my_env\\lib\\site-packages\\kedro\\io\\data_catalog.py#502\u001b\\\u001b[2m502\u001b[0m\u001b]8;;\u001b\\\n"
      ]
     },
     "metadata": {},
     "output_type": "display_data"
    },
    {
     "data": {
      "text/html": [
       "<pre style=\"white-space:pre;overflow-x:auto;line-height:normal;font-family:Menlo,'DejaVu Sans Mono',consolas,'Courier New',monospace\"><span style=\"color: #7fbfbf; text-decoration-color: #7fbfbf\">                    </span><span style=\"color: #000080; text-decoration-color: #000080\">INFO    </span> Loading data from <span style=\"color: #008000; text-decoration-color: #008000\">'class_pred_geral_lista'</span> <span style=\"font-weight: bold\">(</span>PartitionedDataset<span style=\"font-weight: bold\">)</span><span style=\"color: #808000; text-decoration-color: #808000\">...</span> <a href=\"file://C:\\Users\\ramon.boucas\\.conda\\envs\\my_env\\lib\\site-packages\\kedro\\io\\data_catalog.py\" target=\"_blank\"><span style=\"color: #7f7f7f; text-decoration-color: #7f7f7f\">data_catalog.py</span></a><span style=\"color: #7f7f7f; text-decoration-color: #7f7f7f\">:</span><a href=\"file://C:\\Users\\ramon.boucas\\.conda\\envs\\my_env\\lib\\site-packages\\kedro\\io\\data_catalog.py#502\" target=\"_blank\"><span style=\"color: #7f7f7f; text-decoration-color: #7f7f7f\">502</span></a>\n",
       "</pre>\n"
      ],
      "text/plain": [
       "\u001b[2;36m                   \u001b[0m\u001b[2;36m \u001b[0m\u001b[34mINFO    \u001b[0m Loading data from \u001b[32m'class_pred_geral_lista'\u001b[0m \u001b[1m(\u001b[0mPartitionedDataset\u001b[1m)\u001b[0m\u001b[33m...\u001b[0m \u001b]8;id=766009;file://C:\\Users\\ramon.boucas\\.conda\\envs\\my_env\\lib\\site-packages\\kedro\\io\\data_catalog.py\u001b\\\u001b[2mdata_catalog.py\u001b[0m\u001b]8;;\u001b\\\u001b[2m:\u001b[0m\u001b]8;id=390724;file://C:\\Users\\ramon.boucas\\.conda\\envs\\my_env\\lib\\site-packages\\kedro\\io\\data_catalog.py#502\u001b\\\u001b[2m502\u001b[0m\u001b]8;;\u001b\\\n"
      ]
     },
     "metadata": {},
     "output_type": "display_data"
    }
   ],
   "source": [
    "import pandas as pd\n",
    "from sklearn.metrics import cohen_kappa_score\n",
    "from nltk import word_tokenize\n",
    "\n",
    "reg_dicio = catalog.load('reg_pred_geral_lista')\n",
    "class_dicio = catalog.load('class_pred_geral_lista')\n",
    "dicio = reg_dicio.update(class_dicio)"
   ]
  },
  {
   "cell_type": "code",
   "execution_count": 2,
   "id": "24b83ff2-3f3a-4dab-bbcb-ed40d7127bb9",
   "metadata": {},
   "outputs": [],
   "source": [
    "lista = []\n",
    "\n",
    "for key, value in reg_dicio.items():\n",
    "    df = value()\n",
    "    df['modelo'] = 'regressao_' + key\n",
    "    lista.append(df)\n",
    "\n",
    "\n",
    "reg_df = pd.concat(lista)\n"
   ]
  },
  {
   "cell_type": "code",
   "execution_count": 26,
   "id": "cc828476-e945-46b7-a7bf-612a2979e915",
   "metadata": {},
   "outputs": [],
   "source": [
    "lista = []\n",
    "\n",
    "for key, value in class_dicio.items():\n",
    "    df = value()\n",
    "    df['modelo'] = 'classificacao_' + key\n",
    "    lista.append(df)\n",
    "\n",
    "\n",
    "class_df = pd.concat(lista)"
   ]
  },
  {
   "cell_type": "code",
   "execution_count": 27,
   "id": "3aef30c1-3ae9-46e2-91ca-24a3ee06489e",
   "metadata": {},
   "outputs": [
    {
     "data": {
      "text/html": [
       "<pre style=\"white-space:pre;overflow-x:auto;line-height:normal;font-family:Menlo,'DejaVu Sans Mono',consolas,'Courier New',monospace\"></pre>\n"
      ],
      "text/plain": []
     },
     "metadata": {},
     "output_type": "display_data"
    },
    {
     "data": {
      "text/html": [
       "<div>\n",
       "<style scoped>\n",
       "    .dataframe tbody tr th:only-of-type {\n",
       "        vertical-align: middle;\n",
       "    }\n",
       "\n",
       "    .dataframe tbody tr th {\n",
       "        vertical-align: top;\n",
       "    }\n",
       "\n",
       "    .dataframe thead th {\n",
       "        text-align: right;\n",
       "    }\n",
       "</style>\n",
       "<table border=\"1\" class=\"dataframe\">\n",
       "  <thead>\n",
       "    <tr style=\"text-align: right;\">\n",
       "      <th></th>\n",
       "      <th>index</th>\n",
       "      <th>tema</th>\n",
       "      <th>conjunto</th>\n",
       "      <th>PRED_GERAL</th>\n",
       "      <th>TARGET</th>\n",
       "      <th>abordagem</th>\n",
       "      <th>embedding</th>\n",
       "      <th>dimensionalidade</th>\n",
       "    </tr>\n",
       "  </thead>\n",
       "  <tbody>\n",
       "    <tr>\n",
       "      <th>0</th>\n",
       "      <td>14</td>\n",
       "      <td>2</td>\n",
       "      <td>1</td>\n",
       "      <td>800</td>\n",
       "      <td>840.0</td>\n",
       "      <td>regressao</td>\n",
       "      <td>LSI</td>\n",
       "      <td>128</td>\n",
       "    </tr>\n",
       "    <tr>\n",
       "      <th>1</th>\n",
       "      <td>104</td>\n",
       "      <td>39</td>\n",
       "      <td>1</td>\n",
       "      <td>880</td>\n",
       "      <td>840.0</td>\n",
       "      <td>regressao</td>\n",
       "      <td>LSI</td>\n",
       "      <td>128</td>\n",
       "    </tr>\n",
       "    <tr>\n",
       "      <th>2</th>\n",
       "      <td>80</td>\n",
       "      <td>13</td>\n",
       "      <td>1</td>\n",
       "      <td>800</td>\n",
       "      <td>520.0</td>\n",
       "      <td>regressao</td>\n",
       "      <td>LSI</td>\n",
       "      <td>128</td>\n",
       "    </tr>\n",
       "    <tr>\n",
       "      <th>3</th>\n",
       "      <td>77</td>\n",
       "      <td>2</td>\n",
       "      <td>1</td>\n",
       "      <td>800</td>\n",
       "      <td>920.0</td>\n",
       "      <td>regressao</td>\n",
       "      <td>LSI</td>\n",
       "      <td>128</td>\n",
       "    </tr>\n",
       "    <tr>\n",
       "      <th>4</th>\n",
       "      <td>40</td>\n",
       "      <td>54</td>\n",
       "      <td>1</td>\n",
       "      <td>800</td>\n",
       "      <td>640.0</td>\n",
       "      <td>regressao</td>\n",
       "      <td>LSI</td>\n",
       "      <td>128</td>\n",
       "    </tr>\n",
       "    <tr>\n",
       "      <th>...</th>\n",
       "      <td>...</td>\n",
       "      <td>...</td>\n",
       "      <td>...</td>\n",
       "      <td>...</td>\n",
       "      <td>...</td>\n",
       "      <td>...</td>\n",
       "      <td>...</td>\n",
       "      <td>...</td>\n",
       "    </tr>\n",
       "    <tr>\n",
       "      <th>1521</th>\n",
       "      <td>77</td>\n",
       "      <td>46</td>\n",
       "      <td>1</td>\n",
       "      <td>760</td>\n",
       "      <td>920.0</td>\n",
       "      <td>classificacao</td>\n",
       "      <td>d2v</td>\n",
       "      <td>64</td>\n",
       "    </tr>\n",
       "    <tr>\n",
       "      <th>1522</th>\n",
       "      <td>16</td>\n",
       "      <td>43</td>\n",
       "      <td>1</td>\n",
       "      <td>760</td>\n",
       "      <td>680.0</td>\n",
       "      <td>classificacao</td>\n",
       "      <td>d2v</td>\n",
       "      <td>64</td>\n",
       "    </tr>\n",
       "    <tr>\n",
       "      <th>1523</th>\n",
       "      <td>54</td>\n",
       "      <td>45</td>\n",
       "      <td>1</td>\n",
       "      <td>920</td>\n",
       "      <td>760.0</td>\n",
       "      <td>classificacao</td>\n",
       "      <td>d2v</td>\n",
       "      <td>64</td>\n",
       "    </tr>\n",
       "    <tr>\n",
       "      <th>1524</th>\n",
       "      <td>125</td>\n",
       "      <td>81</td>\n",
       "      <td>1</td>\n",
       "      <td>840</td>\n",
       "      <td>760.0</td>\n",
       "      <td>classificacao</td>\n",
       "      <td>d2v</td>\n",
       "      <td>64</td>\n",
       "    </tr>\n",
       "    <tr>\n",
       "      <th>1525</th>\n",
       "      <td>117</td>\n",
       "      <td>37</td>\n",
       "      <td>1</td>\n",
       "      <td>920</td>\n",
       "      <td>640.0</td>\n",
       "      <td>classificacao</td>\n",
       "      <td>d2v</td>\n",
       "      <td>64</td>\n",
       "    </tr>\n",
       "  </tbody>\n",
       "</table>\n",
       "<p>45780 rows × 8 columns</p>\n",
       "</div>"
      ],
      "text/plain": [
       "\n",
       "      index  tema  conjunto  PRED_GERAL  TARGET      abordagem embedding  \\\n",
       "\u001b[1;36m0\u001b[0m        \u001b[1;36m14\u001b[0m     \u001b[1;36m2\u001b[0m         \u001b[1;36m1\u001b[0m         \u001b[1;36m800\u001b[0m   \u001b[1;36m840.0\u001b[0m      regressao       LSI   \n",
       "\u001b[1;36m1\u001b[0m       \u001b[1;36m104\u001b[0m    \u001b[1;36m39\u001b[0m         \u001b[1;36m1\u001b[0m         \u001b[1;36m880\u001b[0m   \u001b[1;36m840.0\u001b[0m      regressao       LSI   \n",
       "\u001b[1;36m2\u001b[0m        \u001b[1;36m80\u001b[0m    \u001b[1;36m13\u001b[0m         \u001b[1;36m1\u001b[0m         \u001b[1;36m800\u001b[0m   \u001b[1;36m520.0\u001b[0m      regressao       LSI   \n",
       "\u001b[1;36m3\u001b[0m        \u001b[1;36m77\u001b[0m     \u001b[1;36m2\u001b[0m         \u001b[1;36m1\u001b[0m         \u001b[1;36m800\u001b[0m   \u001b[1;36m920.0\u001b[0m      regressao       LSI   \n",
       "\u001b[1;36m4\u001b[0m        \u001b[1;36m40\u001b[0m    \u001b[1;36m54\u001b[0m         \u001b[1;36m1\u001b[0m         \u001b[1;36m800\u001b[0m   \u001b[1;36m640.0\u001b[0m      regressao       LSI   \n",
       "\u001b[33m...\u001b[0m     \u001b[33m...\u001b[0m   \u001b[33m...\u001b[0m       \u001b[33m...\u001b[0m         \u001b[33m...\u001b[0m     \u001b[33m...\u001b[0m            \u001b[33m...\u001b[0m       \u001b[33m...\u001b[0m   \n",
       "\u001b[1;36m1521\u001b[0m     \u001b[1;36m77\u001b[0m    \u001b[1;36m46\u001b[0m         \u001b[1;36m1\u001b[0m         \u001b[1;36m760\u001b[0m   \u001b[1;36m920.0\u001b[0m  classificacao       d2v   \n",
       "\u001b[1;36m1522\u001b[0m     \u001b[1;36m16\u001b[0m    \u001b[1;36m43\u001b[0m         \u001b[1;36m1\u001b[0m         \u001b[1;36m760\u001b[0m   \u001b[1;36m680.0\u001b[0m  classificacao       d2v   \n",
       "\u001b[1;36m1523\u001b[0m     \u001b[1;36m54\u001b[0m    \u001b[1;36m45\u001b[0m         \u001b[1;36m1\u001b[0m         \u001b[1;36m920\u001b[0m   \u001b[1;36m760.0\u001b[0m  classificacao       d2v   \n",
       "\u001b[1;36m1524\u001b[0m    \u001b[1;36m125\u001b[0m    \u001b[1;36m81\u001b[0m         \u001b[1;36m1\u001b[0m         \u001b[1;36m840\u001b[0m   \u001b[1;36m760.0\u001b[0m  classificacao       d2v   \n",
       "\u001b[1;36m1525\u001b[0m    \u001b[1;36m117\u001b[0m    \u001b[1;36m37\u001b[0m         \u001b[1;36m1\u001b[0m         \u001b[1;36m920\u001b[0m   \u001b[1;36m640.0\u001b[0m  classificacao       d2v   \n",
       "\n",
       "     dimensionalidade  \n",
       "\u001b[1;36m0\u001b[0m                 \u001b[1;36m128\u001b[0m  \n",
       "\u001b[1;36m1\u001b[0m                 \u001b[1;36m128\u001b[0m  \n",
       "\u001b[1;36m2\u001b[0m                 \u001b[1;36m128\u001b[0m  \n",
       "\u001b[1;36m3\u001b[0m                 \u001b[1;36m128\u001b[0m  \n",
       "\u001b[1;36m4\u001b[0m                 \u001b[1;36m128\u001b[0m  \n",
       "\u001b[33m...\u001b[0m               \u001b[33m...\u001b[0m  \n",
       "\u001b[1;36m1521\u001b[0m               \u001b[1;36m64\u001b[0m  \n",
       "\u001b[1;36m1522\u001b[0m               \u001b[1;36m64\u001b[0m  \n",
       "\u001b[1;36m1523\u001b[0m               \u001b[1;36m64\u001b[0m  \n",
       "\u001b[1;36m1524\u001b[0m               \u001b[1;36m64\u001b[0m  \n",
       "\u001b[1;36m1525\u001b[0m               \u001b[1;36m64\u001b[0m  \n",
       "\n",
       "\u001b[1m[\u001b[0m\u001b[1;36m45780\u001b[0m rows x \u001b[1;36m8\u001b[0m columns\u001b[1m]\u001b[0m"
      ]
     },
     "execution_count": 27,
     "metadata": {},
     "output_type": "execute_result"
    }
   ],
   "source": [
    "dfzao = pd.concat([reg_df,class_df])\n",
    "dfzao['abordagem'] = dfzao['modelo'].apply(lambda x:x.split('_')[0])\n",
    "dfzao['embedding'] =  dfzao['modelo'].apply(lambda x:x.split('_')[1])\n",
    "dfzao['dimensionalidade'] =  dfzao['modelo'].apply(lambda x:x.split('_')[-1])\n",
    "dfzao = dfzao.drop(columns = ['modelo'])\n",
    "dfzao"
   ]
  },
  {
   "cell_type": "code",
   "execution_count": 28,
   "id": "5475d20b-0e23-40ad-ac73-761ab0aadcc3",
   "metadata": {},
   "outputs": [
    {
     "data": {
      "text/html": [
       "<pre style=\"white-space:pre;overflow-x:auto;line-height:normal;font-family:Menlo,'DejaVu Sans Mono',consolas,'Courier New',monospace\"></pre>\n"
      ],
      "text/plain": []
     },
     "metadata": {},
     "output_type": "display_data"
    },
    {
     "data": {
      "text/plain": [
       "\u001b[1;35marray\u001b[0m\u001b[1m(\u001b[0m\u001b[1m[\u001b[0m\u001b[32m'128'\u001b[0m, \u001b[32m'256'\u001b[0m, \u001b[32m'32'\u001b[0m, \u001b[32m'512'\u001b[0m, \u001b[32m'64'\u001b[0m\u001b[1m]\u001b[0m, \u001b[33mdtype\u001b[0m=\u001b[35mobject\u001b[0m\u001b[1m)\u001b[0m"
      ]
     },
     "execution_count": 28,
     "metadata": {},
     "output_type": "execute_result"
    }
   ],
   "source": [
    "dfzao['dimensionalidade'].unique()"
   ]
  },
  {
   "cell_type": "code",
   "execution_count": 29,
   "id": "e8632c91-6137-45fe-b5f8-2a2ad1c1ac10",
   "metadata": {},
   "outputs": [
    {
     "data": {
      "text/html": [
       "<pre style=\"white-space:pre;overflow-x:auto;line-height:normal;font-family:Menlo,'DejaVu Sans Mono',consolas,'Courier New',monospace\"><span style=\"color: #7fbfbf; text-decoration-color: #7fbfbf\">[02/06/24 02:16:16] </span><span style=\"color: #800000; text-decoration-color: #800000\">WARNING </span> C:\\Users\\ramon.boucas\\AppData\\Local\\Temp\\ipykernel_25612\\<span style=\"color: #008080; text-decoration-color: #008080; font-weight: bold\">583045003.</span>py: <a href=\"file://C:\\Users\\ramon.boucas\\.conda\\envs\\my_env\\lib\\warnings.py\" target=\"_blank\"><span style=\"color: #7f7f7f; text-decoration-color: #7f7f7f\">warnings.py</span></a><span style=\"color: #7f7f7f; text-decoration-color: #7f7f7f\">:</span><a href=\"file://C:\\Users\\ramon.boucas\\.conda\\envs\\my_env\\lib\\warnings.py#109\" target=\"_blank\"><span style=\"color: #7f7f7f; text-decoration-color: #7f7f7f\">109</span></a>\n",
       "<span style=\"color: #7fbfbf; text-decoration-color: #7fbfbf\">                    </span>         <span style=\"color: #008080; text-decoration-color: #008080; font-weight: bold\">1</span>: DeprecationWarning: DataFrameGroupBy.apply operated on the grouping <span style=\"color: #7f7f7f; text-decoration-color: #7f7f7f\">               </span>\n",
       "<span style=\"color: #7fbfbf; text-decoration-color: #7fbfbf\">                    </span>         columns. This behavior is deprecated, and in a future version of       <span style=\"color: #7f7f7f; text-decoration-color: #7f7f7f\">               </span>\n",
       "<span style=\"color: #7fbfbf; text-decoration-color: #7fbfbf\">                    </span>         pandas the grouping columns will be excluded from the operation.       <span style=\"color: #7f7f7f; text-decoration-color: #7f7f7f\">               </span>\n",
       "<span style=\"color: #7fbfbf; text-decoration-color: #7fbfbf\">                    </span>         Either pass `<span style=\"color: #808000; text-decoration-color: #808000\">include_groups</span>=<span style=\"color: #ff0000; text-decoration-color: #ff0000; font-style: italic\">False</span>` to exclude the groupings or         <span style=\"color: #7f7f7f; text-decoration-color: #7f7f7f\">               </span>\n",
       "<span style=\"color: #7fbfbf; text-decoration-color: #7fbfbf\">                    </span>         explicitly select the grouping columns after groupby to silence this   <span style=\"color: #7f7f7f; text-decoration-color: #7f7f7f\">               </span>\n",
       "<span style=\"color: #7fbfbf; text-decoration-color: #7fbfbf\">                    </span>         warning.                                                               <span style=\"color: #7f7f7f; text-decoration-color: #7f7f7f\">               </span>\n",
       "<span style=\"color: #7fbfbf; text-decoration-color: #7fbfbf\">                    </span>           resultado =                                                          <span style=\"color: #7f7f7f; text-decoration-color: #7f7f7f\">               </span>\n",
       "<span style=\"color: #7fbfbf; text-decoration-color: #7fbfbf\">                    </span>         <span style=\"color: #800080; text-decoration-color: #800080; font-weight: bold\">dfzao.groupby</span><span style=\"font-weight: bold\">([</span><span style=\"color: #008000; text-decoration-color: #008000\">'abordagem'</span>,<span style=\"color: #008000; text-decoration-color: #008000\">'embedding'</span>,<span style=\"color: #008000; text-decoration-color: #008000\">'dimensionalidade'</span><span style=\"font-weight: bold\">])</span><span style=\"color: #800080; text-decoration-color: #800080; font-weight: bold\">.apply</span><span style=\"font-weight: bold\">(</span>lamb <span style=\"color: #7f7f7f; text-decoration-color: #7f7f7f\">               </span>\n",
       "<span style=\"color: #7fbfbf; text-decoration-color: #7fbfbf\">                    </span>         da x: <span style=\"color: #800080; text-decoration-color: #800080; font-weight: bold\">cohen_kappa_score</span><span style=\"font-weight: bold\">(</span>x<span style=\"font-weight: bold\">[</span><span style=\"color: #008000; text-decoration-color: #008000\">'PRED_GERAL'</span><span style=\"font-weight: bold\">]</span>,x<span style=\"font-weight: bold\">[</span><span style=\"color: #008000; text-decoration-color: #008000\">'TAR</span><span style=\"color: #808000; text-decoration-color: #808000; font-weight: bold\">GET</span><span style=\"color: #008000; text-decoration-color: #008000\">'</span><span style=\"font-weight: bold\">]))</span><span style=\"color: #800080; text-decoration-color: #800080; font-weight: bold\">.reset_index</span><span style=\"font-weight: bold\">()</span>    <span style=\"color: #7f7f7f; text-decoration-color: #7f7f7f\">               </span>\n",
       "<span style=\"color: #7fbfbf; text-decoration-color: #7fbfbf\">                    </span>                                                                                <span style=\"color: #7f7f7f; text-decoration-color: #7f7f7f\">               </span>\n",
       "</pre>\n"
      ],
      "text/plain": [
       "\u001b[2;36m[02/06/24 02:16:16]\u001b[0m\u001b[2;36m \u001b[0m\u001b[31mWARNING \u001b[0m C:\\Users\\ramon.boucas\\AppData\\Local\\Temp\\ipykernel_25612\\\u001b[1;36m583045003.\u001b[0mpy: \u001b]8;id=167203;file://C:\\Users\\ramon.boucas\\.conda\\envs\\my_env\\lib\\warnings.py\u001b\\\u001b[2mwarnings.py\u001b[0m\u001b]8;;\u001b\\\u001b[2m:\u001b[0m\u001b]8;id=720962;file://C:\\Users\\ramon.boucas\\.conda\\envs\\my_env\\lib\\warnings.py#109\u001b\\\u001b[2m109\u001b[0m\u001b]8;;\u001b\\\n",
       "\u001b[2;36m                    \u001b[0m         \u001b[1;36m1\u001b[0m: DeprecationWarning: DataFrameGroupBy.apply operated on the grouping \u001b[2m               \u001b[0m\n",
       "\u001b[2;36m                    \u001b[0m         columns. This behavior is deprecated, and in a future version of       \u001b[2m               \u001b[0m\n",
       "\u001b[2;36m                    \u001b[0m         pandas the grouping columns will be excluded from the operation.       \u001b[2m               \u001b[0m\n",
       "\u001b[2;36m                    \u001b[0m         Either pass `\u001b[33minclude_groups\u001b[0m=\u001b[3;91mFalse\u001b[0m` to exclude the groupings or         \u001b[2m               \u001b[0m\n",
       "\u001b[2;36m                    \u001b[0m         explicitly select the grouping columns after groupby to silence this   \u001b[2m               \u001b[0m\n",
       "\u001b[2;36m                    \u001b[0m         warning.                                                               \u001b[2m               \u001b[0m\n",
       "\u001b[2;36m                    \u001b[0m           resultado =                                                          \u001b[2m               \u001b[0m\n",
       "\u001b[2;36m                    \u001b[0m         \u001b[1;35mdfzao.groupby\u001b[0m\u001b[1m(\u001b[0m\u001b[1m[\u001b[0m\u001b[32m'abordagem'\u001b[0m,\u001b[32m'embedding'\u001b[0m,\u001b[32m'dimensionalidade'\u001b[0m\u001b[1m]\u001b[0m\u001b[1m)\u001b[0m\u001b[1;35m.apply\u001b[0m\u001b[1m(\u001b[0mlamb \u001b[2m               \u001b[0m\n",
       "\u001b[2;36m                    \u001b[0m         da x: \u001b[1;35mcohen_kappa_score\u001b[0m\u001b[1m(\u001b[0mx\u001b[1m[\u001b[0m\u001b[32m'PRED_GERAL'\u001b[0m\u001b[1m]\u001b[0m,x\u001b[1m[\u001b[0m\u001b[32m'TAR\u001b[0m\u001b[1;33mGET\u001b[0m\u001b[32m'\u001b[0m\u001b[1m]\u001b[0m\u001b[1m)\u001b[0m\u001b[1m)\u001b[0m\u001b[1;35m.reset_index\u001b[0m\u001b[1m(\u001b[0m\u001b[1m)\u001b[0m    \u001b[2m               \u001b[0m\n",
       "\u001b[2;36m                    \u001b[0m                                                                                \u001b[2m               \u001b[0m\n"
      ]
     },
     "metadata": {},
     "output_type": "display_data"
    }
   ],
   "source": [
    "resultado = dfzao.groupby(['abordagem','embedding','dimensionalidade']).apply(lambda x: cohen_kappa_score(x['PRED_GERAL'],x['TARGET'])).reset_index()"
   ]
  },
  {
   "cell_type": "code",
   "execution_count": 30,
   "id": "864b1f1d-401c-4dfb-851a-a910e3007438",
   "metadata": {
    "scrolled": true
   },
   "outputs": [
    {
     "name": "stdout",
     "output_type": "stream",
     "text": [
      "\\begin{tabular}{llllr}\n",
      "\\toprule\n",
      " & Abordagem & Embedding & Dimensionalidade & Score \\\\\n",
      "\\midrule\n",
      "0 & classificacao & LSI & 128 & 0.013114 \\\\\n",
      "1 & classificacao & LSI & 256 & 0.003602 \\\\\n",
      "2 & classificacao & LSI & 32 & 0.012377 \\\\\n",
      "3 & classificacao & LSI & 512 & -0.005016 \\\\\n",
      "4 & classificacao & LSI & 64 & -0.003283 \\\\\n",
      "5 & classificacao & TF & 128 & -0.006496 \\\\\n",
      "6 & classificacao & TF & 256 & -0.002799 \\\\\n",
      "7 & classificacao & TF & 32 & -0.002561 \\\\\n",
      "8 & classificacao & TF & 512 & 0.008892 \\\\\n",
      "9 & classificacao & TF & 64 & -0.007565 \\\\\n",
      "10 & classificacao & d2v & 128 & -0.003676 \\\\\n",
      "11 & classificacao & d2v & 256 & 0.000965 \\\\\n",
      "12 & classificacao & d2v & 32 & -0.004194 \\\\\n",
      "13 & classificacao & d2v & 512 & 0.010375 \\\\\n",
      "14 & classificacao & d2v & 64 & 0.002954 \\\\\n",
      "15 & regressao & LSI & 128 & 0.013114 \\\\\n",
      "16 & regressao & LSI & 256 & 0.003602 \\\\\n",
      "17 & regressao & LSI & 32 & 0.012377 \\\\\n",
      "18 & regressao & LSI & 512 & -0.005016 \\\\\n",
      "19 & regressao & LSI & 64 & -0.003283 \\\\\n",
      "20 & regressao & TF & 128 & -0.006496 \\\\\n",
      "21 & regressao & TF & 256 & -0.002799 \\\\\n",
      "22 & regressao & TF & 32 & -0.002561 \\\\\n",
      "23 & regressao & TF & 512 & 0.008892 \\\\\n",
      "24 & regressao & TF & 64 & -0.007565 \\\\\n",
      "25 & regressao & d2v & 128 & -0.003676 \\\\\n",
      "26 & regressao & d2v & 256 & 0.000965 \\\\\n",
      "27 & regressao & d2v & 32 & -0.004194 \\\\\n",
      "28 & regressao & d2v & 512 & 0.010375 \\\\\n",
      "29 & regressao & d2v & 64 & 0.002954 \\\\\n",
      "\\bottomrule\n",
      "\\end{tabular}\n",
      "\n"
     ]
    }
   ],
   "source": [
    "resultado.columns = ['Abordagem','Embedding','Dimensionalidade','Score']\n",
    "print(resultado.to_latex())"
   ]
  },
  {
   "cell_type": "code",
   "execution_count": 12,
   "id": "3e6cd814-c9b8-4cd2-82fa-deaea1b831f5",
   "metadata": {},
   "outputs": [
    {
     "data": {
      "text/html": [
       "<pre style=\"white-space:pre;overflow-x:auto;line-height:normal;font-family:Menlo,'DejaVu Sans Mono',consolas,'Courier New',monospace\"></pre>\n"
      ],
      "text/plain": []
     },
     "metadata": {},
     "output_type": "display_data"
    },
    {
     "data": {
      "text/plain": [
       "\u001b[1;36m-0.00017315860876832012\u001b[0m"
      ]
     },
     "execution_count": 12,
     "metadata": {},
     "output_type": "execute_result"
    }
   ],
   "source": [
    "cohen_kappa_score(elef['SOMA_PREDS'],elef['TARGET'])"
   ]
  },
  {
   "cell_type": "code",
   "execution_count": 13,
   "id": "37fe57d0-aed9-45d1-913d-099bd978d012",
   "metadata": {},
   "outputs": [
    {
     "data": {
      "text/html": [
       "<pre style=\"white-space:pre;overflow-x:auto;line-height:normal;font-family:Menlo,'DejaVu Sans Mono',consolas,'Courier New',monospace\"></pre>\n"
      ],
      "text/plain": []
     },
     "metadata": {},
     "output_type": "display_data"
    },
    {
     "data": {
      "text/plain": [
       "\u001b[1;36m0.0009445858059033974\u001b[0m"
      ]
     },
     "execution_count": 13,
     "metadata": {},
     "output_type": "execute_result"
    }
   ],
   "source": [
    "cohen_kappa_score(elef['PRED_GERAL'],elef['TARGET'])"
   ]
  },
  {
   "cell_type": "code",
   "execution_count": 6,
   "id": "de482578-3444-430a-9bc6-8c756f9e6443",
   "metadata": {},
   "outputs": [],
   "source": [
    "a = dicio['TF_IDF_32']()\n",
    "b = dicio['TF_IDF_64']()\n",
    "c = dicio['d2v_32']()\n",
    "d = dicio['d2v_64']()"
   ]
  },
  {
   "cell_type": "code",
   "execution_count": 8,
   "id": "3d820a05-93b3-43a9-af67-e9b978e0d540",
   "metadata": {},
   "outputs": [
    {
     "data": {
      "text/html": [
       "<pre style=\"white-space:pre;overflow-x:auto;line-height:normal;font-family:Menlo,'DejaVu Sans Mono',consolas,'Courier New',monospace\"></pre>\n"
      ],
      "text/plain": []
     },
     "metadata": {},
     "output_type": "display_data"
    },
    {
     "data": {
      "text/plain": [
       "\u001b[1;36m-0.0008146381831632965\u001b[0m"
      ]
     },
     "execution_count": 8,
     "metadata": {},
     "output_type": "execute_result"
    }
   ],
   "source": [
    "cohen_kappa_score(d['PRED_GERAL'],d['TARGET'])"
   ]
  },
  {
   "cell_type": "code",
   "execution_count": 16,
   "id": "c4e6dd26-5728-4d79-a815-6a6511d65912",
   "metadata": {},
   "outputs": [
    {
     "data": {
      "text/html": [
       "<pre style=\"white-space:pre;overflow-x:auto;line-height:normal;font-family:Menlo,'DejaVu Sans Mono',consolas,'Courier New',monospace\"></pre>\n"
      ],
      "text/plain": []
     },
     "metadata": {},
     "output_type": "display_data"
    },
    {
     "data": {
      "text/plain": [
       "\u001b[1;36m0.0019551957261074726\u001b[0m"
      ]
     },
     "execution_count": 16,
     "metadata": {},
     "output_type": "execute_result"
    }
   ],
   "source": [
    "cohen_kappa_score(b['PRED_GERAL'],b['TARGET'])"
   ]
  },
  {
   "cell_type": "code",
   "execution_count": null,
   "id": "78b6e101-6a6c-4534-b379-850be51f415a",
   "metadata": {},
   "outputs": [],
   "source": []
  }
 ],
 "metadata": {
  "kernelspec": {
   "display_name": "Kedro (textgrader)",
   "language": "python",
   "name": "kedro_textgrader"
  },
  "language_info": {
   "codemirror_mode": {
    "name": "ipython",
    "version": 3
   },
   "file_extension": ".py",
   "mimetype": "text/x-python",
   "name": "python",
   "nbconvert_exporter": "python",
   "pygments_lexer": "ipython3",
   "version": "3.9.18"
  }
 },
 "nbformat": 4,
 "nbformat_minor": 5
}
