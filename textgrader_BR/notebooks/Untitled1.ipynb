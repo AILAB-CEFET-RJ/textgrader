{
 "cells": [
  {
   "cell_type": "code",
   "execution_count": 59,
   "id": "5e5cd4ad-230e-447d-bd5d-c946686cdcea",
   "metadata": {},
   "outputs": [
    {
     "data": {
      "text/html": [
       "<pre style=\"white-space:pre;overflow-x:auto;line-height:normal;font-family:Menlo,'DejaVu Sans Mono',consolas,'Courier New',monospace\"><span style=\"color: #7fbfbf; text-decoration-color: #7fbfbf\">[01/28/24 02:01:47] </span><span style=\"color: #000080; text-decoration-color: #000080\">INFO    </span> Loading data from <span style=\"color: #008000; text-decoration-color: #008000\">'pred_geral_lista'</span> <span style=\"font-weight: bold\">(</span>PartitionedDataset<span style=\"font-weight: bold\">)</span><span style=\"color: #808000; text-decoration-color: #808000\">...</span>       <a href=\"file://C:\\Users\\ramon.boucas\\.conda\\envs\\my_env\\lib\\site-packages\\kedro\\io\\data_catalog.py\" target=\"_blank\"><span style=\"color: #7f7f7f; text-decoration-color: #7f7f7f\">data_catalog.py</span></a><span style=\"color: #7f7f7f; text-decoration-color: #7f7f7f\">:</span><a href=\"file://C:\\Users\\ramon.boucas\\.conda\\envs\\my_env\\lib\\site-packages\\kedro\\io\\data_catalog.py#502\" target=\"_blank\"><span style=\"color: #7f7f7f; text-decoration-color: #7f7f7f\">502</span></a>\n",
       "</pre>\n"
      ],
      "text/plain": [
       "\u001b[2;36m[01/28/24 02:01:47]\u001b[0m\u001b[2;36m \u001b[0m\u001b[34mINFO    \u001b[0m Loading data from \u001b[32m'pred_geral_lista'\u001b[0m \u001b[1m(\u001b[0mPartitionedDataset\u001b[1m)\u001b[0m\u001b[33m...\u001b[0m       \u001b]8;id=445861;file://C:\\Users\\ramon.boucas\\.conda\\envs\\my_env\\lib\\site-packages\\kedro\\io\\data_catalog.py\u001b\\\u001b[2mdata_catalog.py\u001b[0m\u001b]8;;\u001b\\\u001b[2m:\u001b[0m\u001b]8;id=159111;file://C:\\Users\\ramon.boucas\\.conda\\envs\\my_env\\lib\\site-packages\\kedro\\io\\data_catalog.py#502\u001b\\\u001b[2m502\u001b[0m\u001b]8;;\u001b\\\n"
      ]
     },
     "metadata": {},
     "output_type": "display_data"
    }
   ],
   "source": [
    "import pandas as pd\n",
    "dicio = catalog.load('pred_geral_lista')\n",
    " "
   ]
  },
  {
   "cell_type": "code",
   "execution_count": 60,
   "id": "24b83ff2-3f3a-4dab-bbcb-ed40d7127bb9",
   "metadata": {},
   "outputs": [
    {
     "data": {
      "text/html": [
       "<pre style=\"white-space:pre;overflow-x:auto;line-height:normal;font-family:Menlo,'DejaVu Sans Mono',consolas,'Courier New',monospace\"></pre>\n"
      ],
      "text/plain": []
     },
     "metadata": {},
     "output_type": "display_data"
    },
    {
     "data": {
      "text/html": [
       "<div>\n",
       "<style scoped>\n",
       "    .dataframe tbody tr th:only-of-type {\n",
       "        vertical-align: middle;\n",
       "    }\n",
       "\n",
       "    .dataframe tbody tr th {\n",
       "        vertical-align: top;\n",
       "    }\n",
       "\n",
       "    .dataframe thead th {\n",
       "        text-align: right;\n",
       "    }\n",
       "</style>\n",
       "<table border=\"1\" class=\"dataframe\">\n",
       "  <thead>\n",
       "    <tr style=\"text-align: right;\">\n",
       "      <th></th>\n",
       "      <th>index</th>\n",
       "      <th>sindex</th>\n",
       "      <th>tema</th>\n",
       "      <th>conjunto</th>\n",
       "      <th>SOMA_PREDS</th>\n",
       "      <th>PRED_GERAL</th>\n",
       "      <th>TARGET</th>\n",
       "      <th>modelo</th>\n",
       "    </tr>\n",
       "  </thead>\n",
       "  <tbody>\n",
       "    <tr>\n",
       "      <th>0</th>\n",
       "      <td>0</td>\n",
       "      <td>14</td>\n",
       "      <td>2</td>\n",
       "      <td>1</td>\n",
       "      <td>735</td>\n",
       "      <td>839</td>\n",
       "      <td>840.0</td>\n",
       "      <td>TF_IDF_32</td>\n",
       "    </tr>\n",
       "    <tr>\n",
       "      <th>1</th>\n",
       "      <td>1</td>\n",
       "      <td>104</td>\n",
       "      <td>39</td>\n",
       "      <td>1</td>\n",
       "      <td>772</td>\n",
       "      <td>839</td>\n",
       "      <td>840.0</td>\n",
       "      <td>TF_IDF_32</td>\n",
       "    </tr>\n",
       "    <tr>\n",
       "      <th>2</th>\n",
       "      <td>2</td>\n",
       "      <td>80</td>\n",
       "      <td>13</td>\n",
       "      <td>1</td>\n",
       "      <td>703</td>\n",
       "      <td>520</td>\n",
       "      <td>520.0</td>\n",
       "      <td>TF_IDF_32</td>\n",
       "    </tr>\n",
       "    <tr>\n",
       "      <th>3</th>\n",
       "      <td>3</td>\n",
       "      <td>77</td>\n",
       "      <td>2</td>\n",
       "      <td>1</td>\n",
       "      <td>615</td>\n",
       "      <td>919</td>\n",
       "      <td>920.0</td>\n",
       "      <td>TF_IDF_32</td>\n",
       "    </tr>\n",
       "    <tr>\n",
       "      <th>4</th>\n",
       "      <td>4</td>\n",
       "      <td>40</td>\n",
       "      <td>54</td>\n",
       "      <td>1</td>\n",
       "      <td>763</td>\n",
       "      <td>640</td>\n",
       "      <td>640.0</td>\n",
       "      <td>TF_IDF_32</td>\n",
       "    </tr>\n",
       "    <tr>\n",
       "      <th>...</th>\n",
       "      <td>...</td>\n",
       "      <td>...</td>\n",
       "      <td>...</td>\n",
       "      <td>...</td>\n",
       "      <td>...</td>\n",
       "      <td>...</td>\n",
       "      <td>...</td>\n",
       "      <td>...</td>\n",
       "    </tr>\n",
       "    <tr>\n",
       "      <th>1521</th>\n",
       "      <td>1521</td>\n",
       "      <td>77</td>\n",
       "      <td>46</td>\n",
       "      <td>1</td>\n",
       "      <td>724</td>\n",
       "      <td>919</td>\n",
       "      <td>920.0</td>\n",
       "      <td>TF_IDF_64</td>\n",
       "    </tr>\n",
       "    <tr>\n",
       "      <th>1522</th>\n",
       "      <td>1522</td>\n",
       "      <td>16</td>\n",
       "      <td>43</td>\n",
       "      <td>1</td>\n",
       "      <td>707</td>\n",
       "      <td>680</td>\n",
       "      <td>680.0</td>\n",
       "      <td>TF_IDF_64</td>\n",
       "    </tr>\n",
       "    <tr>\n",
       "      <th>1523</th>\n",
       "      <td>1523</td>\n",
       "      <td>54</td>\n",
       "      <td>45</td>\n",
       "      <td>1</td>\n",
       "      <td>642</td>\n",
       "      <td>759</td>\n",
       "      <td>760.0</td>\n",
       "      <td>TF_IDF_64</td>\n",
       "    </tr>\n",
       "    <tr>\n",
       "      <th>1524</th>\n",
       "      <td>1524</td>\n",
       "      <td>125</td>\n",
       "      <td>81</td>\n",
       "      <td>1</td>\n",
       "      <td>677</td>\n",
       "      <td>759</td>\n",
       "      <td>760.0</td>\n",
       "      <td>TF_IDF_64</td>\n",
       "    </tr>\n",
       "    <tr>\n",
       "      <th>1525</th>\n",
       "      <td>1525</td>\n",
       "      <td>117</td>\n",
       "      <td>37</td>\n",
       "      <td>1</td>\n",
       "      <td>771</td>\n",
       "      <td>640</td>\n",
       "      <td>640.0</td>\n",
       "      <td>TF_IDF_64</td>\n",
       "    </tr>\n",
       "  </tbody>\n",
       "</table>\n",
       "<p>3052 rows × 8 columns</p>\n",
       "</div>"
      ],
      "text/plain": [
       "\n",
       "      index  sindex  tema  conjunto  SOMA_PREDS  PRED_GERAL  TARGET     modelo\n",
       "\u001b[1;36m0\u001b[0m         \u001b[1;36m0\u001b[0m      \u001b[1;36m14\u001b[0m     \u001b[1;36m2\u001b[0m         \u001b[1;36m1\u001b[0m         \u001b[1;36m735\u001b[0m         \u001b[1;36m839\u001b[0m   \u001b[1;36m840.0\u001b[0m  TF_IDF_32\n",
       "\u001b[1;36m1\u001b[0m         \u001b[1;36m1\u001b[0m     \u001b[1;36m104\u001b[0m    \u001b[1;36m39\u001b[0m         \u001b[1;36m1\u001b[0m         \u001b[1;36m772\u001b[0m         \u001b[1;36m839\u001b[0m   \u001b[1;36m840.0\u001b[0m  TF_IDF_32\n",
       "\u001b[1;36m2\u001b[0m         \u001b[1;36m2\u001b[0m      \u001b[1;36m80\u001b[0m    \u001b[1;36m13\u001b[0m         \u001b[1;36m1\u001b[0m         \u001b[1;36m703\u001b[0m         \u001b[1;36m520\u001b[0m   \u001b[1;36m520.0\u001b[0m  TF_IDF_32\n",
       "\u001b[1;36m3\u001b[0m         \u001b[1;36m3\u001b[0m      \u001b[1;36m77\u001b[0m     \u001b[1;36m2\u001b[0m         \u001b[1;36m1\u001b[0m         \u001b[1;36m615\u001b[0m         \u001b[1;36m919\u001b[0m   \u001b[1;36m920.0\u001b[0m  TF_IDF_32\n",
       "\u001b[1;36m4\u001b[0m         \u001b[1;36m4\u001b[0m      \u001b[1;36m40\u001b[0m    \u001b[1;36m54\u001b[0m         \u001b[1;36m1\u001b[0m         \u001b[1;36m763\u001b[0m         \u001b[1;36m640\u001b[0m   \u001b[1;36m640.0\u001b[0m  TF_IDF_32\n",
       "\u001b[33m...\u001b[0m     \u001b[33m...\u001b[0m     \u001b[33m...\u001b[0m   \u001b[33m...\u001b[0m       \u001b[33m...\u001b[0m         \u001b[33m...\u001b[0m         \u001b[33m...\u001b[0m     \u001b[33m...\u001b[0m        \u001b[33m...\u001b[0m\n",
       "\u001b[1;36m1521\u001b[0m   \u001b[1;36m1521\u001b[0m      \u001b[1;36m77\u001b[0m    \u001b[1;36m46\u001b[0m         \u001b[1;36m1\u001b[0m         \u001b[1;36m724\u001b[0m         \u001b[1;36m919\u001b[0m   \u001b[1;36m920.0\u001b[0m  TF_IDF_64\n",
       "\u001b[1;36m1522\u001b[0m   \u001b[1;36m1522\u001b[0m      \u001b[1;36m16\u001b[0m    \u001b[1;36m43\u001b[0m         \u001b[1;36m1\u001b[0m         \u001b[1;36m707\u001b[0m         \u001b[1;36m680\u001b[0m   \u001b[1;36m680.0\u001b[0m  TF_IDF_64\n",
       "\u001b[1;36m1523\u001b[0m   \u001b[1;36m1523\u001b[0m      \u001b[1;36m54\u001b[0m    \u001b[1;36m45\u001b[0m         \u001b[1;36m1\u001b[0m         \u001b[1;36m642\u001b[0m         \u001b[1;36m759\u001b[0m   \u001b[1;36m760.0\u001b[0m  TF_IDF_64\n",
       "\u001b[1;36m1524\u001b[0m   \u001b[1;36m1524\u001b[0m     \u001b[1;36m125\u001b[0m    \u001b[1;36m81\u001b[0m         \u001b[1;36m1\u001b[0m         \u001b[1;36m677\u001b[0m         \u001b[1;36m759\u001b[0m   \u001b[1;36m760.0\u001b[0m  TF_IDF_64\n",
       "\u001b[1;36m1525\u001b[0m   \u001b[1;36m1525\u001b[0m     \u001b[1;36m117\u001b[0m    \u001b[1;36m37\u001b[0m         \u001b[1;36m1\u001b[0m         \u001b[1;36m771\u001b[0m         \u001b[1;36m640\u001b[0m   \u001b[1;36m640.0\u001b[0m  TF_IDF_64\n",
       "\n",
       "\u001b[1m[\u001b[0m\u001b[1;36m3052\u001b[0m rows x \u001b[1;36m8\u001b[0m columns\u001b[1m]\u001b[0m"
      ]
     },
     "execution_count": 60,
     "metadata": {},
     "output_type": "execute_result"
    }
   ],
   "source": [
    "lista = []\n",
    "\n",
    "for key, value in dicio.items():\n",
    "    df = value()\n",
    "    df['modelo'] = key\n",
    "    lista.append(df)\n",
    "\n",
    "\n",
    "dfzao = pd.concat(lista)\n",
    "dfzao"
   ]
  },
  {
   "cell_type": "code",
   "execution_count": 65,
   "id": "02bacb6e-8ba2-4b11-83d1-aae9b08ec517",
   "metadata": {},
   "outputs": [
    {
     "data": {
      "text/html": [
       "<pre style=\"white-space:pre;overflow-x:auto;line-height:normal;font-family:Menlo,'DejaVu Sans Mono',consolas,'Courier New',monospace\"></pre>\n"
      ],
      "text/plain": []
     },
     "metadata": {},
     "output_type": "display_data"
    },
    {
     "data": {
      "text/html": [
       "<div>\n",
       "<style scoped>\n",
       "    .dataframe tbody tr th:only-of-type {\n",
       "        vertical-align: middle;\n",
       "    }\n",
       "\n",
       "    .dataframe tbody tr th {\n",
       "        vertical-align: top;\n",
       "    }\n",
       "\n",
       "    .dataframe thead th {\n",
       "        text-align: right;\n",
       "    }\n",
       "</style>\n",
       "<table border=\"1\" class=\"dataframe\">\n",
       "  <thead>\n",
       "    <tr style=\"text-align: right;\">\n",
       "      <th></th>\n",
       "      <th>index</th>\n",
       "      <th>sindex</th>\n",
       "      <th>tema</th>\n",
       "      <th>conjunto</th>\n",
       "      <th>SOMA_PREDS</th>\n",
       "      <th>PRED_GERAL</th>\n",
       "      <th>TARGET</th>\n",
       "    </tr>\n",
       "  </thead>\n",
       "  <tbody>\n",
       "    <tr>\n",
       "      <th>0</th>\n",
       "      <td>0</td>\n",
       "      <td>14</td>\n",
       "      <td>2</td>\n",
       "      <td>1</td>\n",
       "      <td>735</td>\n",
       "      <td>839</td>\n",
       "      <td>840.0</td>\n",
       "    </tr>\n",
       "    <tr>\n",
       "      <th>1</th>\n",
       "      <td>1</td>\n",
       "      <td>104</td>\n",
       "      <td>39</td>\n",
       "      <td>1</td>\n",
       "      <td>772</td>\n",
       "      <td>839</td>\n",
       "      <td>840.0</td>\n",
       "    </tr>\n",
       "    <tr>\n",
       "      <th>2</th>\n",
       "      <td>2</td>\n",
       "      <td>80</td>\n",
       "      <td>13</td>\n",
       "      <td>1</td>\n",
       "      <td>703</td>\n",
       "      <td>520</td>\n",
       "      <td>520.0</td>\n",
       "    </tr>\n",
       "    <tr>\n",
       "      <th>3</th>\n",
       "      <td>3</td>\n",
       "      <td>77</td>\n",
       "      <td>2</td>\n",
       "      <td>1</td>\n",
       "      <td>615</td>\n",
       "      <td>919</td>\n",
       "      <td>920.0</td>\n",
       "    </tr>\n",
       "    <tr>\n",
       "      <th>4</th>\n",
       "      <td>4</td>\n",
       "      <td>40</td>\n",
       "      <td>54</td>\n",
       "      <td>1</td>\n",
       "      <td>763</td>\n",
       "      <td>640</td>\n",
       "      <td>640.0</td>\n",
       "    </tr>\n",
       "    <tr>\n",
       "      <th>...</th>\n",
       "      <td>...</td>\n",
       "      <td>...</td>\n",
       "      <td>...</td>\n",
       "      <td>...</td>\n",
       "      <td>...</td>\n",
       "      <td>...</td>\n",
       "      <td>...</td>\n",
       "    </tr>\n",
       "    <tr>\n",
       "      <th>1521</th>\n",
       "      <td>1521</td>\n",
       "      <td>77</td>\n",
       "      <td>46</td>\n",
       "      <td>1</td>\n",
       "      <td>702</td>\n",
       "      <td>919</td>\n",
       "      <td>920.0</td>\n",
       "    </tr>\n",
       "    <tr>\n",
       "      <th>1522</th>\n",
       "      <td>1522</td>\n",
       "      <td>16</td>\n",
       "      <td>43</td>\n",
       "      <td>1</td>\n",
       "      <td>717</td>\n",
       "      <td>680</td>\n",
       "      <td>680.0</td>\n",
       "    </tr>\n",
       "    <tr>\n",
       "      <th>1523</th>\n",
       "      <td>1523</td>\n",
       "      <td>54</td>\n",
       "      <td>45</td>\n",
       "      <td>1</td>\n",
       "      <td>731</td>\n",
       "      <td>759</td>\n",
       "      <td>760.0</td>\n",
       "    </tr>\n",
       "    <tr>\n",
       "      <th>1524</th>\n",
       "      <td>1524</td>\n",
       "      <td>125</td>\n",
       "      <td>81</td>\n",
       "      <td>1</td>\n",
       "      <td>705</td>\n",
       "      <td>759</td>\n",
       "      <td>760.0</td>\n",
       "    </tr>\n",
       "    <tr>\n",
       "      <th>1525</th>\n",
       "      <td>1525</td>\n",
       "      <td>117</td>\n",
       "      <td>37</td>\n",
       "      <td>1</td>\n",
       "      <td>752</td>\n",
       "      <td>640</td>\n",
       "      <td>640.0</td>\n",
       "    </tr>\n",
       "  </tbody>\n",
       "</table>\n",
       "<p>1526 rows × 7 columns</p>\n",
       "</div>"
      ],
      "text/plain": [
       "\n",
       "      index  sindex  tema  conjunto  SOMA_PREDS  PRED_GERAL  TARGET\n",
       "\u001b[1;36m0\u001b[0m         \u001b[1;36m0\u001b[0m      \u001b[1;36m14\u001b[0m     \u001b[1;36m2\u001b[0m         \u001b[1;36m1\u001b[0m         \u001b[1;36m735\u001b[0m         \u001b[1;36m839\u001b[0m   \u001b[1;36m840.0\u001b[0m\n",
       "\u001b[1;36m1\u001b[0m         \u001b[1;36m1\u001b[0m     \u001b[1;36m104\u001b[0m    \u001b[1;36m39\u001b[0m         \u001b[1;36m1\u001b[0m         \u001b[1;36m772\u001b[0m         \u001b[1;36m839\u001b[0m   \u001b[1;36m840.0\u001b[0m\n",
       "\u001b[1;36m2\u001b[0m         \u001b[1;36m2\u001b[0m      \u001b[1;36m80\u001b[0m    \u001b[1;36m13\u001b[0m         \u001b[1;36m1\u001b[0m         \u001b[1;36m703\u001b[0m         \u001b[1;36m520\u001b[0m   \u001b[1;36m520.0\u001b[0m\n",
       "\u001b[1;36m3\u001b[0m         \u001b[1;36m3\u001b[0m      \u001b[1;36m77\u001b[0m     \u001b[1;36m2\u001b[0m         \u001b[1;36m1\u001b[0m         \u001b[1;36m615\u001b[0m         \u001b[1;36m919\u001b[0m   \u001b[1;36m920.0\u001b[0m\n",
       "\u001b[1;36m4\u001b[0m         \u001b[1;36m4\u001b[0m      \u001b[1;36m40\u001b[0m    \u001b[1;36m54\u001b[0m         \u001b[1;36m1\u001b[0m         \u001b[1;36m763\u001b[0m         \u001b[1;36m640\u001b[0m   \u001b[1;36m640.0\u001b[0m\n",
       "\u001b[33m...\u001b[0m     \u001b[33m...\u001b[0m     \u001b[33m...\u001b[0m   \u001b[33m...\u001b[0m       \u001b[33m...\u001b[0m         \u001b[33m...\u001b[0m         \u001b[33m...\u001b[0m     \u001b[33m...\u001b[0m\n",
       "\u001b[1;36m1521\u001b[0m   \u001b[1;36m1521\u001b[0m      \u001b[1;36m77\u001b[0m    \u001b[1;36m46\u001b[0m         \u001b[1;36m1\u001b[0m         \u001b[1;36m702\u001b[0m         \u001b[1;36m919\u001b[0m   \u001b[1;36m920.0\u001b[0m\n",
       "\u001b[1;36m1522\u001b[0m   \u001b[1;36m1522\u001b[0m      \u001b[1;36m16\u001b[0m    \u001b[1;36m43\u001b[0m         \u001b[1;36m1\u001b[0m         \u001b[1;36m717\u001b[0m         \u001b[1;36m680\u001b[0m   \u001b[1;36m680.0\u001b[0m\n",
       "\u001b[1;36m1523\u001b[0m   \u001b[1;36m1523\u001b[0m      \u001b[1;36m54\u001b[0m    \u001b[1;36m45\u001b[0m         \u001b[1;36m1\u001b[0m         \u001b[1;36m731\u001b[0m         \u001b[1;36m759\u001b[0m   \u001b[1;36m760.0\u001b[0m\n",
       "\u001b[1;36m1524\u001b[0m   \u001b[1;36m1524\u001b[0m     \u001b[1;36m125\u001b[0m    \u001b[1;36m81\u001b[0m         \u001b[1;36m1\u001b[0m         \u001b[1;36m705\u001b[0m         \u001b[1;36m759\u001b[0m   \u001b[1;36m760.0\u001b[0m\n",
       "\u001b[1;36m1525\u001b[0m   \u001b[1;36m1525\u001b[0m     \u001b[1;36m117\u001b[0m    \u001b[1;36m37\u001b[0m         \u001b[1;36m1\u001b[0m         \u001b[1;36m752\u001b[0m         \u001b[1;36m640\u001b[0m   \u001b[1;36m640.0\u001b[0m\n",
       "\n",
       "\u001b[1m[\u001b[0m\u001b[1;36m1526\u001b[0m rows x \u001b[1;36m7\u001b[0m columns\u001b[1m]\u001b[0m"
      ]
     },
     "execution_count": 65,
     "metadata": {},
     "output_type": "execute_result"
    }
   ],
   "source": [
    "dicio['TF_IDF_32']()"
   ]
  },
  {
   "cell_type": "code",
   "execution_count": 66,
   "id": "848981f9-512e-4f8d-b30a-f524cc6ee001",
   "metadata": {},
   "outputs": [
    {
     "data": {
      "text/html": [
       "<pre style=\"white-space:pre;overflow-x:auto;line-height:normal;font-family:Menlo,'DejaVu Sans Mono',consolas,'Courier New',monospace\"></pre>\n"
      ],
      "text/plain": []
     },
     "metadata": {},
     "output_type": "display_data"
    },
    {
     "data": {
      "text/html": [
       "<div>\n",
       "<style scoped>\n",
       "    .dataframe tbody tr th:only-of-type {\n",
       "        vertical-align: middle;\n",
       "    }\n",
       "\n",
       "    .dataframe tbody tr th {\n",
       "        vertical-align: top;\n",
       "    }\n",
       "\n",
       "    .dataframe thead th {\n",
       "        text-align: right;\n",
       "    }\n",
       "</style>\n",
       "<table border=\"1\" class=\"dataframe\">\n",
       "  <thead>\n",
       "    <tr style=\"text-align: right;\">\n",
       "      <th></th>\n",
       "      <th>index</th>\n",
       "      <th>sindex</th>\n",
       "      <th>tema</th>\n",
       "      <th>conjunto</th>\n",
       "      <th>SOMA_PREDS</th>\n",
       "      <th>PRED_GERAL</th>\n",
       "      <th>TARGET</th>\n",
       "    </tr>\n",
       "  </thead>\n",
       "  <tbody>\n",
       "    <tr>\n",
       "      <th>0</th>\n",
       "      <td>0</td>\n",
       "      <td>14</td>\n",
       "      <td>2</td>\n",
       "      <td>1</td>\n",
       "      <td>671</td>\n",
       "      <td>839</td>\n",
       "      <td>840.0</td>\n",
       "    </tr>\n",
       "    <tr>\n",
       "      <th>1</th>\n",
       "      <td>1</td>\n",
       "      <td>104</td>\n",
       "      <td>39</td>\n",
       "      <td>1</td>\n",
       "      <td>747</td>\n",
       "      <td>839</td>\n",
       "      <td>840.0</td>\n",
       "    </tr>\n",
       "    <tr>\n",
       "      <th>2</th>\n",
       "      <td>2</td>\n",
       "      <td>80</td>\n",
       "      <td>13</td>\n",
       "      <td>1</td>\n",
       "      <td>713</td>\n",
       "      <td>520</td>\n",
       "      <td>520.0</td>\n",
       "    </tr>\n",
       "    <tr>\n",
       "      <th>3</th>\n",
       "      <td>3</td>\n",
       "      <td>77</td>\n",
       "      <td>2</td>\n",
       "      <td>1</td>\n",
       "      <td>721</td>\n",
       "      <td>919</td>\n",
       "      <td>920.0</td>\n",
       "    </tr>\n",
       "    <tr>\n",
       "      <th>4</th>\n",
       "      <td>4</td>\n",
       "      <td>40</td>\n",
       "      <td>54</td>\n",
       "      <td>1</td>\n",
       "      <td>770</td>\n",
       "      <td>640</td>\n",
       "      <td>640.0</td>\n",
       "    </tr>\n",
       "    <tr>\n",
       "      <th>...</th>\n",
       "      <td>...</td>\n",
       "      <td>...</td>\n",
       "      <td>...</td>\n",
       "      <td>...</td>\n",
       "      <td>...</td>\n",
       "      <td>...</td>\n",
       "      <td>...</td>\n",
       "    </tr>\n",
       "    <tr>\n",
       "      <th>1521</th>\n",
       "      <td>1521</td>\n",
       "      <td>77</td>\n",
       "      <td>46</td>\n",
       "      <td>1</td>\n",
       "      <td>724</td>\n",
       "      <td>919</td>\n",
       "      <td>920.0</td>\n",
       "    </tr>\n",
       "    <tr>\n",
       "      <th>1522</th>\n",
       "      <td>1522</td>\n",
       "      <td>16</td>\n",
       "      <td>43</td>\n",
       "      <td>1</td>\n",
       "      <td>707</td>\n",
       "      <td>680</td>\n",
       "      <td>680.0</td>\n",
       "    </tr>\n",
       "    <tr>\n",
       "      <th>1523</th>\n",
       "      <td>1523</td>\n",
       "      <td>54</td>\n",
       "      <td>45</td>\n",
       "      <td>1</td>\n",
       "      <td>642</td>\n",
       "      <td>759</td>\n",
       "      <td>760.0</td>\n",
       "    </tr>\n",
       "    <tr>\n",
       "      <th>1524</th>\n",
       "      <td>1524</td>\n",
       "      <td>125</td>\n",
       "      <td>81</td>\n",
       "      <td>1</td>\n",
       "      <td>677</td>\n",
       "      <td>759</td>\n",
       "      <td>760.0</td>\n",
       "    </tr>\n",
       "    <tr>\n",
       "      <th>1525</th>\n",
       "      <td>1525</td>\n",
       "      <td>117</td>\n",
       "      <td>37</td>\n",
       "      <td>1</td>\n",
       "      <td>771</td>\n",
       "      <td>640</td>\n",
       "      <td>640.0</td>\n",
       "    </tr>\n",
       "  </tbody>\n",
       "</table>\n",
       "<p>1526 rows × 7 columns</p>\n",
       "</div>"
      ],
      "text/plain": [
       "\n",
       "      index  sindex  tema  conjunto  SOMA_PREDS  PRED_GERAL  TARGET\n",
       "\u001b[1;36m0\u001b[0m         \u001b[1;36m0\u001b[0m      \u001b[1;36m14\u001b[0m     \u001b[1;36m2\u001b[0m         \u001b[1;36m1\u001b[0m         \u001b[1;36m671\u001b[0m         \u001b[1;36m839\u001b[0m   \u001b[1;36m840.0\u001b[0m\n",
       "\u001b[1;36m1\u001b[0m         \u001b[1;36m1\u001b[0m     \u001b[1;36m104\u001b[0m    \u001b[1;36m39\u001b[0m         \u001b[1;36m1\u001b[0m         \u001b[1;36m747\u001b[0m         \u001b[1;36m839\u001b[0m   \u001b[1;36m840.0\u001b[0m\n",
       "\u001b[1;36m2\u001b[0m         \u001b[1;36m2\u001b[0m      \u001b[1;36m80\u001b[0m    \u001b[1;36m13\u001b[0m         \u001b[1;36m1\u001b[0m         \u001b[1;36m713\u001b[0m         \u001b[1;36m520\u001b[0m   \u001b[1;36m520.0\u001b[0m\n",
       "\u001b[1;36m3\u001b[0m         \u001b[1;36m3\u001b[0m      \u001b[1;36m77\u001b[0m     \u001b[1;36m2\u001b[0m         \u001b[1;36m1\u001b[0m         \u001b[1;36m721\u001b[0m         \u001b[1;36m919\u001b[0m   \u001b[1;36m920.0\u001b[0m\n",
       "\u001b[1;36m4\u001b[0m         \u001b[1;36m4\u001b[0m      \u001b[1;36m40\u001b[0m    \u001b[1;36m54\u001b[0m         \u001b[1;36m1\u001b[0m         \u001b[1;36m770\u001b[0m         \u001b[1;36m640\u001b[0m   \u001b[1;36m640.0\u001b[0m\n",
       "\u001b[33m...\u001b[0m     \u001b[33m...\u001b[0m     \u001b[33m...\u001b[0m   \u001b[33m...\u001b[0m       \u001b[33m...\u001b[0m         \u001b[33m...\u001b[0m         \u001b[33m...\u001b[0m     \u001b[33m...\u001b[0m\n",
       "\u001b[1;36m1521\u001b[0m   \u001b[1;36m1521\u001b[0m      \u001b[1;36m77\u001b[0m    \u001b[1;36m46\u001b[0m         \u001b[1;36m1\u001b[0m         \u001b[1;36m724\u001b[0m         \u001b[1;36m919\u001b[0m   \u001b[1;36m920.0\u001b[0m\n",
       "\u001b[1;36m1522\u001b[0m   \u001b[1;36m1522\u001b[0m      \u001b[1;36m16\u001b[0m    \u001b[1;36m43\u001b[0m         \u001b[1;36m1\u001b[0m         \u001b[1;36m707\u001b[0m         \u001b[1;36m680\u001b[0m   \u001b[1;36m680.0\u001b[0m\n",
       "\u001b[1;36m1523\u001b[0m   \u001b[1;36m1523\u001b[0m      \u001b[1;36m54\u001b[0m    \u001b[1;36m45\u001b[0m         \u001b[1;36m1\u001b[0m         \u001b[1;36m642\u001b[0m         \u001b[1;36m759\u001b[0m   \u001b[1;36m760.0\u001b[0m\n",
       "\u001b[1;36m1524\u001b[0m   \u001b[1;36m1524\u001b[0m     \u001b[1;36m125\u001b[0m    \u001b[1;36m81\u001b[0m         \u001b[1;36m1\u001b[0m         \u001b[1;36m677\u001b[0m         \u001b[1;36m759\u001b[0m   \u001b[1;36m760.0\u001b[0m\n",
       "\u001b[1;36m1525\u001b[0m   \u001b[1;36m1525\u001b[0m     \u001b[1;36m117\u001b[0m    \u001b[1;36m37\u001b[0m         \u001b[1;36m1\u001b[0m         \u001b[1;36m771\u001b[0m         \u001b[1;36m640\u001b[0m   \u001b[1;36m640.0\u001b[0m\n",
       "\n",
       "\u001b[1m[\u001b[0m\u001b[1;36m1526\u001b[0m rows x \u001b[1;36m7\u001b[0m columns\u001b[1m]\u001b[0m"
      ]
     },
     "execution_count": 66,
     "metadata": {},
     "output_type": "execute_result"
    }
   ],
   "source": [
    "dicio['TF_IDF_64']()"
   ]
  },
  {
   "cell_type": "code",
   "execution_count": 61,
   "id": "3e6cd814-c9b8-4cd2-82fa-deaea1b831f5",
   "metadata": {},
   "outputs": [
    {
     "data": {
      "text/html": [
       "<pre style=\"white-space:pre;overflow-x:auto;line-height:normal;font-family:Menlo,'DejaVu Sans Mono',consolas,'Courier New',monospace\"></pre>\n"
      ],
      "text/plain": []
     },
     "metadata": {},
     "output_type": "display_data"
    },
    {
     "data": {
      "text/plain": [
       "\u001b[1;36m-1.592040828524155e-05\u001b[0m"
      ]
     },
     "execution_count": 61,
     "metadata": {},
     "output_type": "execute_result"
    }
   ],
   "source": [
    "cohen_kappa_score(elef['SOMA_PREDS'],elef['TARGET'])"
   ]
  },
  {
   "cell_type": "code",
   "execution_count": 62,
   "id": "37fe57d0-aed9-45d1-913d-099bd978d012",
   "metadata": {},
   "outputs": [
    {
     "data": {
      "text/html": [
       "<pre style=\"white-space:pre;overflow-x:auto;line-height:normal;font-family:Menlo,'DejaVu Sans Mono',consolas,'Courier New',monospace\"></pre>\n"
      ],
      "text/plain": []
     },
     "metadata": {},
     "output_type": "display_data"
    },
    {
     "data": {
      "text/plain": [
       "\u001b[1;36m0.3934496446500084\u001b[0m"
      ]
     },
     "execution_count": 62,
     "metadata": {},
     "output_type": "execute_result"
    }
   ],
   "source": [
    "df1=\n",
    "cohen_kappa_score(elef['PRED_GERAL'],elef['TARGET'])"
   ]
  },
  {
   "cell_type": "code",
   "execution_count": 74,
   "id": "de482578-3444-430a-9bc6-8c756f9e6443",
   "metadata": {},
   "outputs": [],
   "source": [
    "a = dicio['TF_IDF_32']()\n",
    "b = dicio['TF_IDF_64']()"
   ]
  },
  {
   "cell_type": "code",
   "execution_count": 75,
   "id": "3d820a05-93b3-43a9-af67-e9b978e0d540",
   "metadata": {},
   "outputs": [
    {
     "data": {
      "text/html": [
       "<pre style=\"white-space:pre;overflow-x:auto;line-height:normal;font-family:Menlo,'DejaVu Sans Mono',consolas,'Courier New',monospace\"></pre>\n"
      ],
      "text/plain": []
     },
     "metadata": {},
     "output_type": "display_data"
    },
    {
     "data": {
      "text/plain": [
       "\u001b[1;36m0.3934496446500084\u001b[0m"
      ]
     },
     "execution_count": 75,
     "metadata": {},
     "output_type": "execute_result"
    }
   ],
   "source": [
    "cohen_kappa_score(a['PRED_GERAL'],a['TARGET'])"
   ]
  },
  {
   "cell_type": "code",
   "execution_count": 77,
   "id": "c4e6dd26-5728-4d79-a815-6a6511d65912",
   "metadata": {},
   "outputs": [
    {
     "data": {
      "text/html": [
       "<pre style=\"white-space:pre;overflow-x:auto;line-height:normal;font-family:Menlo,'DejaVu Sans Mono',consolas,'Courier New',monospace\"></pre>\n"
      ],
      "text/plain": []
     },
     "metadata": {},
     "output_type": "display_data"
    },
    {
     "data": {
      "text/plain": [
       "\u001b[1;36m0.3934496446500084\u001b[0m"
      ]
     },
     "execution_count": 77,
     "metadata": {},
     "output_type": "execute_result"
    }
   ],
   "source": [
    "cohen_kappa_score(b['PRED_GERAL'],b['TARGET'])"
   ]
  },
  {
   "cell_type": "code",
   "execution_count": null,
   "id": "78b6e101-6a6c-4534-b379-850be51f415a",
   "metadata": {},
   "outputs": [],
   "source": []
  }
 ],
 "metadata": {
  "kernelspec": {
   "display_name": "Kedro (textgrader)",
   "language": "python",
   "name": "kedro_textgrader"
  },
  "language_info": {
   "codemirror_mode": {
    "name": "ipython",
    "version": 3
   },
   "file_extension": ".py",
   "mimetype": "text/x-python",
   "name": "python",
   "nbconvert_exporter": "python",
   "pygments_lexer": "ipython3",
   "version": "3.9.18"
  }
 },
 "nbformat": 4,
 "nbformat_minor": 5
}
