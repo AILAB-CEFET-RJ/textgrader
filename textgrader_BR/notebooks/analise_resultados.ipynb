{
 "cells": [
  {
   "cell_type": "code",
   "execution_count": 8,
   "id": "a1bf8782",
   "metadata": {},
   "outputs": [
    {
     "data": {
      "text/html": [
       "<pre style=\"white-space:pre;overflow-x:auto;line-height:normal;font-family:Menlo,'DejaVu Sans Mono',consolas,'Courier New',monospace\"><span style=\"color: #7fbfbf; text-decoration-color: #7fbfbf\">[02/07/24 19:40:56] </span><span style=\"color: #000080; text-decoration-color: #000080\">INFO    </span> Loading data from <span style=\"color: #008000; text-decoration-color: #008000\">'pred_geral_lista'</span> <span style=\"font-weight: bold\">(</span>PartitionedDataset<span style=\"font-weight: bold\">)</span><span style=\"color: #808000; text-decoration-color: #808000\">...</span>       <a href=\"file://C:\\Users\\ramon.boucas\\.conda\\envs\\my_env\\lib\\site-packages\\kedro\\io\\data_catalog.py\" target=\"_blank\"><span style=\"color: #7f7f7f; text-decoration-color: #7f7f7f\">data_catalog.py</span></a><span style=\"color: #7f7f7f; text-decoration-color: #7f7f7f\">:</span><a href=\"file://C:\\Users\\ramon.boucas\\.conda\\envs\\my_env\\lib\\site-packages\\kedro\\io\\data_catalog.py#502\" target=\"_blank\"><span style=\"color: #7f7f7f; text-decoration-color: #7f7f7f\">502</span></a>\n",
       "</pre>\n"
      ],
      "text/plain": [
       "\u001b[2;36m[02/07/24 19:40:56]\u001b[0m\u001b[2;36m \u001b[0m\u001b[34mINFO    \u001b[0m Loading data from \u001b[32m'pred_geral_lista'\u001b[0m \u001b[1m(\u001b[0mPartitionedDataset\u001b[1m)\u001b[0m\u001b[33m...\u001b[0m       \u001b]8;id=494095;file://C:\\Users\\ramon.boucas\\.conda\\envs\\my_env\\lib\\site-packages\\kedro\\io\\data_catalog.py\u001b\\\u001b[2mdata_catalog.py\u001b[0m\u001b]8;;\u001b\\\u001b[2m:\u001b[0m\u001b]8;id=706971;file://C:\\Users\\ramon.boucas\\.conda\\envs\\my_env\\lib\\site-packages\\kedro\\io\\data_catalog.py#502\u001b\\\u001b[2m502\u001b[0m\u001b]8;;\u001b\\\n"
      ]
     },
     "metadata": {},
     "output_type": "display_data"
    }
   ],
   "source": [
    "import pandas as pd\n",
    "from sklearn.metrics import cohen_kappa_score\n",
    "dicio = catalog.load('pred_geral_lista')\n"
   ]
  },
  {
   "cell_type": "code",
   "execution_count": 9,
   "id": "dc1aeb3a-1991-486d-ac99-e35bc02dcf8a",
   "metadata": {},
   "outputs": [],
   "source": [
    "lista = []\n",
    "\n",
    "for key, value in dicio.items():\n",
    "    df = value()\n",
    "    df['chave'] = key\n",
    "    lista.append(df)"
   ]
  },
  {
   "cell_type": "code",
   "execution_count": 37,
   "id": "9c12c1f5-15be-419f-ade8-8b6a59ddce89",
   "metadata": {},
   "outputs": [
    {
     "data": {
      "text/html": [
       "<pre style=\"white-space:pre;overflow-x:auto;line-height:normal;font-family:Menlo,'DejaVu Sans Mono',consolas,'Courier New',monospace\"><span style=\"color: #7fbfbf; text-decoration-color: #7fbfbf\">[02/07/24 19:52:06] </span><span style=\"color: #800000; text-decoration-color: #800000\">WARNING </span> C:\\Users\\ramon.boucas\\AppData\\Local\\Temp\\ipykernel_7672\\<span style=\"color: #008080; text-decoration-color: #008080; font-weight: bold\">1171170701.</span>py: <a href=\"file://C:\\Users\\ramon.boucas\\.conda\\envs\\my_env\\lib\\warnings.py\" target=\"_blank\"><span style=\"color: #7f7f7f; text-decoration-color: #7f7f7f\">warnings.py</span></a><span style=\"color: #7f7f7f; text-decoration-color: #7f7f7f\">:</span><a href=\"file://C:\\Users\\ramon.boucas\\.conda\\envs\\my_env\\lib\\warnings.py#109\" target=\"_blank\"><span style=\"color: #7f7f7f; text-decoration-color: #7f7f7f\">109</span></a>\n",
       "<span style=\"color: #7fbfbf; text-decoration-color: #7fbfbf\">                    </span>         <span style=\"color: #008080; text-decoration-color: #008080; font-weight: bold\">2</span>: DeprecationWarning: DataFrameGroupBy.apply operated on the grouping <span style=\"color: #7f7f7f; text-decoration-color: #7f7f7f\">               </span>\n",
       "<span style=\"color: #7fbfbf; text-decoration-color: #7fbfbf\">                    </span>         columns. This behavior is deprecated, and in a future version of       <span style=\"color: #7f7f7f; text-decoration-color: #7f7f7f\">               </span>\n",
       "<span style=\"color: #7fbfbf; text-decoration-color: #7fbfbf\">                    </span>         pandas the grouping columns will be excluded from the operation.       <span style=\"color: #7f7f7f; text-decoration-color: #7f7f7f\">               </span>\n",
       "<span style=\"color: #7fbfbf; text-decoration-color: #7fbfbf\">                    </span>         Either pass `<span style=\"color: #808000; text-decoration-color: #808000\">include_groups</span>=<span style=\"color: #ff0000; text-decoration-color: #ff0000; font-style: italic\">False</span>` to exclude the groupings or         <span style=\"color: #7f7f7f; text-decoration-color: #7f7f7f\">               </span>\n",
       "<span style=\"color: #7fbfbf; text-decoration-color: #7fbfbf\">                    </span>         explicitly select the grouping columns after groupby to silence this   <span style=\"color: #7f7f7f; text-decoration-color: #7f7f7f\">               </span>\n",
       "<span style=\"color: #7fbfbf; text-decoration-color: #7fbfbf\">                    </span>         warning.                                                               <span style=\"color: #7f7f7f; text-decoration-color: #7f7f7f\">               </span>\n",
       "<span style=\"color: #7fbfbf; text-decoration-color: #7fbfbf\">                    </span>           df_pred_geral = <span style=\"color: #800080; text-decoration-color: #800080; font-weight: bold\">dfzao.groupby</span><span style=\"font-weight: bold\">([</span><span style=\"color: #008000; text-decoration-color: #008000\">'chave'</span><span style=\"font-weight: bold\">])</span><span style=\"color: #800080; text-decoration-color: #800080; font-weight: bold\">.apply</span><span style=\"font-weight: bold\">(</span>lambda                <span style=\"color: #7f7f7f; text-decoration-color: #7f7f7f\">               </span>\n",
       "<span style=\"color: #7fbfbf; text-decoration-color: #7fbfbf\">                    </span>         x:<span style=\"color: #800080; text-decoration-color: #800080; font-weight: bold\">cohen_kappa_score</span><span style=\"font-weight: bold\">(</span>x<span style=\"font-weight: bold\">[</span><span style=\"color: #008000; text-decoration-color: #008000\">'TAR</span><span style=\"color: #808000; text-decoration-color: #808000; font-weight: bold\">GET</span><span style=\"color: #008000; text-decoration-color: #008000\">'</span><span style=\"font-weight: bold\">]</span>,x<span style=\"font-weight: bold\">[</span><span style=\"color: #008000; text-decoration-color: #008000\">'PRED_GERAL'</span><span style=\"font-weight: bold\">]))</span><span style=\"color: #800080; text-decoration-color: #800080; font-weight: bold\">.reset_index</span><span style=\"font-weight: bold\">()</span>        <span style=\"color: #7f7f7f; text-decoration-color: #7f7f7f\">               </span>\n",
       "<span style=\"color: #7fbfbf; text-decoration-color: #7fbfbf\">                    </span>                                                                                <span style=\"color: #7f7f7f; text-decoration-color: #7f7f7f\">               </span>\n",
       "</pre>\n"
      ],
      "text/plain": [
       "\u001b[2;36m[02/07/24 19:52:06]\u001b[0m\u001b[2;36m \u001b[0m\u001b[31mWARNING \u001b[0m C:\\Users\\ramon.boucas\\AppData\\Local\\Temp\\ipykernel_7672\\\u001b[1;36m1171170701.\u001b[0mpy: \u001b]8;id=31981;file://C:\\Users\\ramon.boucas\\.conda\\envs\\my_env\\lib\\warnings.py\u001b\\\u001b[2mwarnings.py\u001b[0m\u001b]8;;\u001b\\\u001b[2m:\u001b[0m\u001b]8;id=207156;file://C:\\Users\\ramon.boucas\\.conda\\envs\\my_env\\lib\\warnings.py#109\u001b\\\u001b[2m109\u001b[0m\u001b]8;;\u001b\\\n",
       "\u001b[2;36m                    \u001b[0m         \u001b[1;36m2\u001b[0m: DeprecationWarning: DataFrameGroupBy.apply operated on the grouping \u001b[2m               \u001b[0m\n",
       "\u001b[2;36m                    \u001b[0m         columns. This behavior is deprecated, and in a future version of       \u001b[2m               \u001b[0m\n",
       "\u001b[2;36m                    \u001b[0m         pandas the grouping columns will be excluded from the operation.       \u001b[2m               \u001b[0m\n",
       "\u001b[2;36m                    \u001b[0m         Either pass `\u001b[33minclude_groups\u001b[0m=\u001b[3;91mFalse\u001b[0m` to exclude the groupings or         \u001b[2m               \u001b[0m\n",
       "\u001b[2;36m                    \u001b[0m         explicitly select the grouping columns after groupby to silence this   \u001b[2m               \u001b[0m\n",
       "\u001b[2;36m                    \u001b[0m         warning.                                                               \u001b[2m               \u001b[0m\n",
       "\u001b[2;36m                    \u001b[0m           df_pred_geral = \u001b[1;35mdfzao.groupby\u001b[0m\u001b[1m(\u001b[0m\u001b[1m[\u001b[0m\u001b[32m'chave'\u001b[0m\u001b[1m]\u001b[0m\u001b[1m)\u001b[0m\u001b[1;35m.apply\u001b[0m\u001b[1m(\u001b[0mlambda                \u001b[2m               \u001b[0m\n",
       "\u001b[2;36m                    \u001b[0m         x:\u001b[1;35mcohen_kappa_score\u001b[0m\u001b[1m(\u001b[0mx\u001b[1m[\u001b[0m\u001b[32m'TAR\u001b[0m\u001b[1;33mGET\u001b[0m\u001b[32m'\u001b[0m\u001b[1m]\u001b[0m,x\u001b[1m[\u001b[0m\u001b[32m'PRED_GERAL'\u001b[0m\u001b[1m]\u001b[0m\u001b[1m)\u001b[0m\u001b[1m)\u001b[0m\u001b[1;35m.reset_index\u001b[0m\u001b[1m(\u001b[0m\u001b[1m)\u001b[0m        \u001b[2m               \u001b[0m\n",
       "\u001b[2;36m                    \u001b[0m                                                                                \u001b[2m               \u001b[0m\n"
      ]
     },
     "metadata": {},
     "output_type": "display_data"
    },
    {
     "data": {
      "text/html": [
       "<pre style=\"white-space:pre;overflow-x:auto;line-height:normal;font-family:Menlo,'DejaVu Sans Mono',consolas,'Courier New',monospace\"><span style=\"color: #7fbfbf; text-decoration-color: #7fbfbf\">                    </span><span style=\"color: #800000; text-decoration-color: #800000\">WARNING </span> C:\\Users\\ramon.boucas\\AppData\\Local\\Temp\\ipykernel_7672\\<span style=\"color: #008080; text-decoration-color: #008080; font-weight: bold\">1171170701.</span>py: <a href=\"file://C:\\Users\\ramon.boucas\\.conda\\envs\\my_env\\lib\\warnings.py\" target=\"_blank\"><span style=\"color: #7f7f7f; text-decoration-color: #7f7f7f\">warnings.py</span></a><span style=\"color: #7f7f7f; text-decoration-color: #7f7f7f\">:</span><a href=\"file://C:\\Users\\ramon.boucas\\.conda\\envs\\my_env\\lib\\warnings.py#109\" target=\"_blank\"><span style=\"color: #7f7f7f; text-decoration-color: #7f7f7f\">109</span></a>\n",
       "<span style=\"color: #7fbfbf; text-decoration-color: #7fbfbf\">                    </span>         <span style=\"color: #008080; text-decoration-color: #008080; font-weight: bold\">4</span>: DeprecationWarning: DataFrameGroupBy.apply operated on the grouping <span style=\"color: #7f7f7f; text-decoration-color: #7f7f7f\">               </span>\n",
       "<span style=\"color: #7fbfbf; text-decoration-color: #7fbfbf\">                    </span>         columns. This behavior is deprecated, and in a future version of       <span style=\"color: #7f7f7f; text-decoration-color: #7f7f7f\">               </span>\n",
       "<span style=\"color: #7fbfbf; text-decoration-color: #7fbfbf\">                    </span>         pandas the grouping columns will be excluded from the operation.       <span style=\"color: #7f7f7f; text-decoration-color: #7f7f7f\">               </span>\n",
       "<span style=\"color: #7fbfbf; text-decoration-color: #7fbfbf\">                    </span>         Either pass `<span style=\"color: #808000; text-decoration-color: #808000\">include_groups</span>=<span style=\"color: #ff0000; text-decoration-color: #ff0000; font-style: italic\">False</span>` to exclude the groupings or         <span style=\"color: #7f7f7f; text-decoration-color: #7f7f7f\">               </span>\n",
       "<span style=\"color: #7fbfbf; text-decoration-color: #7fbfbf\">                    </span>         explicitly select the grouping columns after groupby to silence this   <span style=\"color: #7f7f7f; text-decoration-color: #7f7f7f\">               </span>\n",
       "<span style=\"color: #7fbfbf; text-decoration-color: #7fbfbf\">                    </span>         warning.                                                               <span style=\"color: #7f7f7f; text-decoration-color: #7f7f7f\">               </span>\n",
       "<span style=\"color: #7fbfbf; text-decoration-color: #7fbfbf\">                    </span>           df_soma =  <span style=\"color: #800080; text-decoration-color: #800080; font-weight: bold\">dfzao.groupby</span><span style=\"font-weight: bold\">([</span><span style=\"color: #008000; text-decoration-color: #008000\">'chave'</span><span style=\"font-weight: bold\">])</span><span style=\"color: #800080; text-decoration-color: #800080; font-weight: bold\">.apply</span><span style=\"font-weight: bold\">(</span>lambda                     <span style=\"color: #7f7f7f; text-decoration-color: #7f7f7f\">               </span>\n",
       "<span style=\"color: #7fbfbf; text-decoration-color: #7fbfbf\">                    </span>         x:<span style=\"color: #800080; text-decoration-color: #800080; font-weight: bold\">cohen_kappa_score</span><span style=\"font-weight: bold\">(</span>x<span style=\"font-weight: bold\">[</span><span style=\"color: #008000; text-decoration-color: #008000\">'TAR</span><span style=\"color: #808000; text-decoration-color: #808000; font-weight: bold\">GET</span><span style=\"color: #008000; text-decoration-color: #008000\">'</span><span style=\"font-weight: bold\">]</span>,x<span style=\"font-weight: bold\">[</span><span style=\"color: #008000; text-decoration-color: #008000\">'SOMA_PREDS'</span><span style=\"font-weight: bold\">]))</span><span style=\"color: #800080; text-decoration-color: #800080; font-weight: bold\">.reset_index</span><span style=\"font-weight: bold\">()</span>        <span style=\"color: #7f7f7f; text-decoration-color: #7f7f7f\">               </span>\n",
       "<span style=\"color: #7fbfbf; text-decoration-color: #7fbfbf\">                    </span>                                                                                <span style=\"color: #7f7f7f; text-decoration-color: #7f7f7f\">               </span>\n",
       "</pre>\n"
      ],
      "text/plain": [
       "\u001b[2;36m                   \u001b[0m\u001b[2;36m \u001b[0m\u001b[31mWARNING \u001b[0m C:\\Users\\ramon.boucas\\AppData\\Local\\Temp\\ipykernel_7672\\\u001b[1;36m1171170701.\u001b[0mpy: \u001b]8;id=316468;file://C:\\Users\\ramon.boucas\\.conda\\envs\\my_env\\lib\\warnings.py\u001b\\\u001b[2mwarnings.py\u001b[0m\u001b]8;;\u001b\\\u001b[2m:\u001b[0m\u001b]8;id=308699;file://C:\\Users\\ramon.boucas\\.conda\\envs\\my_env\\lib\\warnings.py#109\u001b\\\u001b[2m109\u001b[0m\u001b]8;;\u001b\\\n",
       "\u001b[2;36m                    \u001b[0m         \u001b[1;36m4\u001b[0m: DeprecationWarning: DataFrameGroupBy.apply operated on the grouping \u001b[2m               \u001b[0m\n",
       "\u001b[2;36m                    \u001b[0m         columns. This behavior is deprecated, and in a future version of       \u001b[2m               \u001b[0m\n",
       "\u001b[2;36m                    \u001b[0m         pandas the grouping columns will be excluded from the operation.       \u001b[2m               \u001b[0m\n",
       "\u001b[2;36m                    \u001b[0m         Either pass `\u001b[33minclude_groups\u001b[0m=\u001b[3;91mFalse\u001b[0m` to exclude the groupings or         \u001b[2m               \u001b[0m\n",
       "\u001b[2;36m                    \u001b[0m         explicitly select the grouping columns after groupby to silence this   \u001b[2m               \u001b[0m\n",
       "\u001b[2;36m                    \u001b[0m         warning.                                                               \u001b[2m               \u001b[0m\n",
       "\u001b[2;36m                    \u001b[0m           df_soma =  \u001b[1;35mdfzao.groupby\u001b[0m\u001b[1m(\u001b[0m\u001b[1m[\u001b[0m\u001b[32m'chave'\u001b[0m\u001b[1m]\u001b[0m\u001b[1m)\u001b[0m\u001b[1;35m.apply\u001b[0m\u001b[1m(\u001b[0mlambda                     \u001b[2m               \u001b[0m\n",
       "\u001b[2;36m                    \u001b[0m         x:\u001b[1;35mcohen_kappa_score\u001b[0m\u001b[1m(\u001b[0mx\u001b[1m[\u001b[0m\u001b[32m'TAR\u001b[0m\u001b[1;33mGET\u001b[0m\u001b[32m'\u001b[0m\u001b[1m]\u001b[0m,x\u001b[1m[\u001b[0m\u001b[32m'SOMA_PREDS'\u001b[0m\u001b[1m]\u001b[0m\u001b[1m)\u001b[0m\u001b[1m)\u001b[0m\u001b[1;35m.reset_index\u001b[0m\u001b[1m(\u001b[0m\u001b[1m)\u001b[0m        \u001b[2m               \u001b[0m\n",
       "\u001b[2;36m                    \u001b[0m                                                                                \u001b[2m               \u001b[0m\n"
      ]
     },
     "metadata": {},
     "output_type": "display_data"
    }
   ],
   "source": [
    "dfzao = pd.concat(lista)\n",
    "df_pred_geral = dfzao.groupby(['chave']).apply(lambda x:cohen_kappa_score(x['TARGET'],x['PRED_GERAL'])).reset_index()\n",
    "df_pred_geral.columns = ['chave','pred_geral']\n",
    "df_soma =  dfzao.groupby(['chave']).apply(lambda x:cohen_kappa_score(x['TARGET'],x['SOMA_PREDS'])).reset_index()\n",
    "df_soma.columns = ['chave','soma_preds']"
   ]
  },
  {
   "cell_type": "code",
   "execution_count": 39,
   "id": "da672be1-73eb-4b95-af61-697a09ca8e3d",
   "metadata": {
    "scrolled": true
   },
   "outputs": [
    {
     "name": "stdout",
     "output_type": "stream",
     "text": [
      "\\begin{tabular}{llrr}\n",
      "\\toprule\n",
      " & chave & soma_preds & pred_geral \\\\\n",
      "\\midrule\n",
      "0 & TF_IDF_128 & 0.000461 & -0.000323 \\\\\n",
      "1 & TF_IDF_256 & 0.000987 & -0.001277 \\\\\n",
      "2 & TF_IDF_32 & 0.000987 & -0.001277 \\\\\n",
      "3 & TF_IDF_512 & -0.000023 & 0.000058 \\\\\n",
      "4 & TF_IDF_64 & -0.000023 & 0.000058 \\\\\n",
      "\\bottomrule\n",
      "\\end{tabular}\n",
      "\n"
     ]
    }
   ],
   "source": [
    "df_all = df_soma.merge(df_pred_geral, on = ['chave'])\n",
    "print(df_all.to_latex())"
   ]
  },
  {
   "cell_type": "code",
   "execution_count": null,
   "id": "b83e422b-fc5d-4e1d-a26b-889641a87564",
   "metadata": {},
   "outputs": [],
   "source": []
  }
 ],
 "metadata": {
  "kernelspec": {
   "display_name": "Kedro (textgrader)",
   "language": "python",
   "name": "kedro_textgrader"
  },
  "language_info": {
   "codemirror_mode": {
    "name": "ipython",
    "version": 3
   },
   "file_extension": ".py",
   "mimetype": "text/x-python",
   "name": "python",
   "nbconvert_exporter": "python",
   "pygments_lexer": "ipython3",
   "version": "3.9.18"
  }
 },
 "nbformat": 4,
 "nbformat_minor": 5
}
