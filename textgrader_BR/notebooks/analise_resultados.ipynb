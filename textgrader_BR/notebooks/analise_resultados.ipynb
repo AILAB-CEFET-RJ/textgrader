{
 "cells": [
  {
   "cell_type": "code",
   "execution_count": 3,
   "id": "a1bf8782",
   "metadata": {},
   "outputs": [
    {
     "data": {
      "text/html": [
       "<pre style=\"white-space:pre;overflow-x:auto;line-height:normal;font-family:Menlo,'DejaVu Sans Mono',consolas,'Courier New',monospace\"><span style=\"color: #7fbfbf; text-decoration-color: #7fbfbf\">[01/27/24 21:36:29] </span><span style=\"color: #000080; text-decoration-color: #000080\">INFO    </span> Loading data from <span style=\"color: #008000; text-decoration-color: #008000\">'final_scores_lista'</span> <span style=\"font-weight: bold\">(</span>PartitionedDataset<span style=\"font-weight: bold\">)</span><span style=\"color: #808000; text-decoration-color: #808000\">...</span>     <a href=\"file://C:\\Users\\ramon.boucas\\.conda\\envs\\my_env\\lib\\site-packages\\kedro\\io\\data_catalog.py\" target=\"_blank\"><span style=\"color: #7f7f7f; text-decoration-color: #7f7f7f\">data_catalog.py</span></a><span style=\"color: #7f7f7f; text-decoration-color: #7f7f7f\">:</span><a href=\"file://C:\\Users\\ramon.boucas\\.conda\\envs\\my_env\\lib\\site-packages\\kedro\\io\\data_catalog.py#502\" target=\"_blank\"><span style=\"color: #7f7f7f; text-decoration-color: #7f7f7f\">502</span></a>\n",
       "</pre>\n"
      ],
      "text/plain": [
       "\u001b[2;36m[01/27/24 21:36:29]\u001b[0m\u001b[2;36m \u001b[0m\u001b[34mINFO    \u001b[0m Loading data from \u001b[32m'final_scores_lista'\u001b[0m \u001b[1m(\u001b[0mPartitionedDataset\u001b[1m)\u001b[0m\u001b[33m...\u001b[0m     \u001b]8;id=857362;file://C:\\Users\\ramon.boucas\\.conda\\envs\\my_env\\lib\\site-packages\\kedro\\io\\data_catalog.py\u001b\\\u001b[2mdata_catalog.py\u001b[0m\u001b]8;;\u001b\\\u001b[2m:\u001b[0m\u001b]8;id=543620;file://C:\\Users\\ramon.boucas\\.conda\\envs\\my_env\\lib\\site-packages\\kedro\\io\\data_catalog.py#502\u001b\\\u001b[2m502\u001b[0m\u001b]8;;\u001b\\\n"
      ]
     },
     "metadata": {},
     "output_type": "display_data"
    }
   ],
   "source": [
    "dicio = catalog.load('final_scores_lista')"
   ]
  },
  {
   "cell_type": "code",
   "execution_count": 5,
   "id": "dc1aeb3a-1991-486d-ac99-e35bc02dcf8a",
   "metadata": {},
   "outputs": [],
   "source": [
    "lista = []\n",
    "\n",
    "for key, value in dicio.items():\n",
    "    df = value()\n",
    "    df['chave'] = key\n",
    "    lista.append(df)"
   ]
  },
  {
   "cell_type": "code",
   "execution_count": 6,
   "id": "eb8bde16-12b8-46a5-8b46-62c3c1b5f17d",
   "metadata": {},
   "outputs": [
    {
     "data": {
      "text/html": [
       "<pre style=\"white-space:pre;overflow-x:auto;line-height:normal;font-family:Menlo,'DejaVu Sans Mono',consolas,'Courier New',monospace\"></pre>\n"
      ],
      "text/plain": []
     },
     "metadata": {},
     "output_type": "display_data"
    },
    {
     "data": {
      "text/plain": [
       "\n",
       "\u001b[1m[\u001b[0m\n",
       "                                                conceito  score_geral  \\\n",
       "\u001b[1;36m0\u001b[0m  Compreender a proposta e aplicar conceitos das\u001b[33m...\u001b[0m    \u001b[1;36m-0.002910\u001b[0m   \n",
       "\u001b[1;36m1\u001b[0m  Conhecimento dos mecanismos linguísticos neces\u001b[33m...\u001b[0m    \u001b[1;36m-0.000776\u001b[0m   \n",
       "\u001b[1;36m2\u001b[0m               Domínio da modalidade escrita formal     \u001b[1;36m0.000289\u001b[0m   \n",
       "\u001b[1;36m3\u001b[0m  Proposta de intervenção com respeito aos direi\u001b[33m...\u001b[0m    \u001b[1;36m-0.001345\u001b[0m   \n",
       "\u001b[1;36m4\u001b[0m  Selecionar, relacionar, organizar e interpreta\u001b[33m...\u001b[0m     \u001b[1;36m0.000851\u001b[0m   \n",
       "\n",
       "   score_especifica      chave  \n",
       "\u001b[1;36m0\u001b[0m          \u001b[1;36m0.000570\u001b[0m  TF_IDF_32  \n",
       "\u001b[1;36m1\u001b[0m         \u001b[1;36m-0.001611\u001b[0m  TF_IDF_32  \n",
       "\u001b[1;36m2\u001b[0m         \u001b[1;36m-0.000716\u001b[0m  TF_IDF_32  \n",
       "\u001b[1;36m3\u001b[0m          \u001b[1;36m0.000524\u001b[0m  TF_IDF_32  \n",
       "\u001b[1;36m4\u001b[0m         \u001b[1;36m-0.000742\u001b[0m  TF_IDF_32  ,\n",
       "                                                conceito  score_geral  \\\n",
       "\u001b[1;36m0\u001b[0m  Compreender a proposta e aplicar conceitos das\u001b[33m...\u001b[0m    \u001b[1;36m-0.002802\u001b[0m   \n",
       "\u001b[1;36m1\u001b[0m  Conhecimento dos mecanismos linguísticos neces\u001b[33m...\u001b[0m    \u001b[1;36m-0.000818\u001b[0m   \n",
       "\u001b[1;36m2\u001b[0m               Domínio da modalidade escrita formal    \u001b[1;36m-0.001114\u001b[0m   \n",
       "\u001b[1;36m3\u001b[0m  Proposta de intervenção com respeito aos direi\u001b[33m...\u001b[0m    \u001b[1;36m-0.001489\u001b[0m   \n",
       "\u001b[1;36m4\u001b[0m  Selecionar, relacionar, organizar e interpreta\u001b[33m...\u001b[0m    \u001b[1;36m-0.000039\u001b[0m   \n",
       "\n",
       "   score_especifica      chave  \n",
       "\u001b[1;36m0\u001b[0m          \u001b[1;36m0.001364\u001b[0m  TF_IDF_64  \n",
       "\u001b[1;36m1\u001b[0m         \u001b[1;36m-0.000161\u001b[0m  TF_IDF_64  \n",
       "\u001b[1;36m2\u001b[0m         \u001b[1;36m-0.001394\u001b[0m  TF_IDF_64  \n",
       "\u001b[1;36m3\u001b[0m         \u001b[1;36m-0.000033\u001b[0m  TF_IDF_64  \n",
       "\u001b[1;36m4\u001b[0m         \u001b[1;36m-0.003712\u001b[0m  TF_IDF_64  \n",
       "\u001b[1m]\u001b[0m"
      ]
     },
     "execution_count": 6,
     "metadata": {},
     "output_type": "execute_result"
    }
   ],
   "source": []
  },
  {
   "cell_type": "code",
   "execution_count": null,
   "id": "9c12c1f5-15be-419f-ade8-8b6a59ddce89",
   "metadata": {},
   "outputs": [],
   "source": []
  }
 ],
 "metadata": {
  "kernelspec": {
   "display_name": "Kedro (textgrader)",
   "language": "python",
   "name": "kedro_textgrader"
  },
  "language_info": {
   "codemirror_mode": {
    "name": "ipython",
    "version": 3
   },
   "file_extension": ".py",
   "mimetype": "text/x-python",
   "name": "python",
   "nbconvert_exporter": "python",
   "pygments_lexer": "ipython3",
   "version": "3.9.18"
  }
 },
 "nbformat": 4,
 "nbformat_minor": 5
}
