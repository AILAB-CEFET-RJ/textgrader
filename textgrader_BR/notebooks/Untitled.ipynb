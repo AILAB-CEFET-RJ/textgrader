{
 "cells": [
  {
   "cell_type": "code",
   "execution_count": 1,
   "id": "a1bf8782",
   "metadata": {},
   "outputs": [
    {
     "data": {
      "text/html": [
       "<pre style=\"white-space:pre;overflow-x:auto;line-height:normal;font-family:Menlo,'DejaVu Sans Mono',consolas,'Courier New',monospace\"><span style=\"color: #7fbfbf; text-decoration-color: #7fbfbf\">[11/12/23 19:29:31] </span><span style=\"color: #000080; text-decoration-color: #000080\">INFO    </span> Loading data from <span style=\"color: #008000; text-decoration-color: #008000\">'final_scores_experiment'</span> <span style=\"font-weight: bold\">(</span>ParquetDataset<span style=\"font-weight: bold\">)</span><span style=\"color: #808000; text-decoration-color: #808000\">...</span>    <a href=\"file://C:\\Users\\ramon.boucas\\Miniconda3\\lib\\site-packages\\kedro\\io\\data_catalog.py\" target=\"_blank\"><span style=\"color: #7f7f7f; text-decoration-color: #7f7f7f\">data_catalog.py</span></a><span style=\"color: #7f7f7f; text-decoration-color: #7f7f7f\">:</span><a href=\"file://C:\\Users\\ramon.boucas\\Miniconda3\\lib\\site-packages\\kedro\\io\\data_catalog.py#503\" target=\"_blank\"><span style=\"color: #7f7f7f; text-decoration-color: #7f7f7f\">503</span></a>\n",
       "</pre>\n"
      ],
      "text/plain": [
       "\u001b[2;36m[11/12/23 19:29:31]\u001b[0m\u001b[2;36m \u001b[0m\u001b[34mINFO    \u001b[0m Loading data from \u001b[32m'final_scores_experiment'\u001b[0m \u001b[1m(\u001b[0mParquetDataset\u001b[1m)\u001b[0m\u001b[33m...\u001b[0m    \u001b]8;id=359540;file://C:\\Users\\ramon.boucas\\Miniconda3\\lib\\site-packages\\kedro\\io\\data_catalog.py\u001b\\\u001b[2mdata_catalog.py\u001b[0m\u001b]8;;\u001b\\\u001b[2m:\u001b[0m\u001b]8;id=220368;file://C:\\Users\\ramon.boucas\\Miniconda3\\lib\\site-packages\\kedro\\io\\data_catalog.py#503\u001b\\\u001b[2m503\u001b[0m\u001b]8;;\u001b\\\n"
      ]
     },
     "metadata": {},
     "output_type": "display_data"
    },
    {
     "data": {
      "text/html": [
       "<pre style=\"white-space:pre;overflow-x:auto;line-height:normal;font-family:Menlo,'DejaVu Sans Mono',consolas,'Courier New',monospace\"></pre>\n"
      ],
      "text/plain": []
     },
     "metadata": {},
     "output_type": "display_data"
    },
    {
     "data": {
      "text/html": [
       "<div>\n",
       "<style scoped>\n",
       "    .dataframe tbody tr th:only-of-type {\n",
       "        vertical-align: middle;\n",
       "    }\n",
       "\n",
       "    .dataframe tbody tr th {\n",
       "        vertical-align: top;\n",
       "    }\n",
       "\n",
       "    .dataframe thead th {\n",
       "        text-align: right;\n",
       "    }\n",
       "</style>\n",
       "<table border=\"1\" class=\"dataframe\">\n",
       "  <thead>\n",
       "    <tr style=\"text-align: right;\">\n",
       "      <th></th>\n",
       "      <th>conceito</th>\n",
       "      <th>score_geral</th>\n",
       "      <th>score_especifica</th>\n",
       "    </tr>\n",
       "  </thead>\n",
       "  <tbody>\n",
       "    <tr>\n",
       "      <th>0</th>\n",
       "      <td>Compreender a proposta e aplicar conceitos das...</td>\n",
       "      <td>0.001174</td>\n",
       "      <td>0.001927</td>\n",
       "    </tr>\n",
       "    <tr>\n",
       "      <th>1</th>\n",
       "      <td>Conhecimento dos mecanismos linguísticos neces...</td>\n",
       "      <td>0.000493</td>\n",
       "      <td>-0.000259</td>\n",
       "    </tr>\n",
       "    <tr>\n",
       "      <th>2</th>\n",
       "      <td>Domínio da modalidade escrita formal</td>\n",
       "      <td>0.000629</td>\n",
       "      <td>0.000335</td>\n",
       "    </tr>\n",
       "    <tr>\n",
       "      <th>3</th>\n",
       "      <td>Proposta de intervenção com respeito aos direi...</td>\n",
       "      <td>-0.001060</td>\n",
       "      <td>0.000826</td>\n",
       "    </tr>\n",
       "    <tr>\n",
       "      <th>4</th>\n",
       "      <td>Selecionar, relacionar, organizar e interpreta...</td>\n",
       "      <td>-0.005106</td>\n",
       "      <td>-0.002954</td>\n",
       "    </tr>\n",
       "  </tbody>\n",
       "</table>\n",
       "</div>"
      ],
      "text/plain": [
       "\n",
       "                                            conceito  score_geral  \\\n",
       "\u001b[1;36m0\u001b[0m  Compreender a proposta e aplicar conceitos das\u001b[33m...\u001b[0m     \u001b[1;36m0.001174\u001b[0m   \n",
       "\u001b[1;36m1\u001b[0m  Conhecimento dos mecanismos linguísticos neces\u001b[33m...\u001b[0m     \u001b[1;36m0.000493\u001b[0m   \n",
       "\u001b[1;36m2\u001b[0m               Domínio da modalidade escrita formal     \u001b[1;36m0.000629\u001b[0m   \n",
       "\u001b[1;36m3\u001b[0m  Proposta de intervenção com respeito aos direi\u001b[33m...\u001b[0m    \u001b[1;36m-0.001060\u001b[0m   \n",
       "\u001b[1;36m4\u001b[0m  Selecionar, relacionar, organizar e interpreta\u001b[33m...\u001b[0m    \u001b[1;36m-0.005106\u001b[0m   \n",
       "\n",
       "   score_especifica  \n",
       "\u001b[1;36m0\u001b[0m          \u001b[1;36m0.001927\u001b[0m  \n",
       "\u001b[1;36m1\u001b[0m         \u001b[1;36m-0.000259\u001b[0m  \n",
       "\u001b[1;36m2\u001b[0m          \u001b[1;36m0.000335\u001b[0m  \n",
       "\u001b[1;36m3\u001b[0m          \u001b[1;36m0.000826\u001b[0m  \n",
       "\u001b[1;36m4\u001b[0m         \u001b[1;36m-0.002954\u001b[0m  "
      ]
     },
     "execution_count": 1,
     "metadata": {},
     "output_type": "execute_result"
    }
   ],
   "source": [
    "df = catalog.load('final_scores_experiment')\n",
    "df"
   ]
  },
  {
   "cell_type": "code",
   "execution_count": null,
   "id": "6231b525",
   "metadata": {},
   "outputs": [],
   "source": []
  }
 ],
 "metadata": {
  "kernelspec": {
   "display_name": "Kedro (textgrader)",
   "language": "python",
   "name": "kedro_textgrader"
  },
  "language_info": {
   "codemirror_mode": {
    "name": "ipython",
    "version": 3
   },
   "file_extension": ".py",
   "mimetype": "text/x-python",
   "name": "python",
   "nbconvert_exporter": "python",
   "pygments_lexer": "ipython3",
   "version": "3.10.13"
  }
 },
 "nbformat": 4,
 "nbformat_minor": 5
}
