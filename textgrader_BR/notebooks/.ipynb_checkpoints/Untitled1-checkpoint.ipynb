{
 "cells": [
  {
   "cell_type": "code",
   "execution_count": 2,
   "id": "5e5cd4ad-230e-447d-bd5d-c946686cdcea",
   "metadata": {},
   "outputs": [
    {
     "data": {
      "text/html": [
       "<pre style=\"white-space:pre;overflow-x:auto;line-height:normal;font-family:Menlo,'DejaVu Sans Mono',consolas,'Courier New',monospace\"><span style=\"color: #7fbfbf; text-decoration-color: #7fbfbf\">[02/03/24 10:25:10] </span><span style=\"color: #000080; text-decoration-color: #000080\">INFO    </span> Loading data from <span style=\"color: #008000; text-decoration-color: #008000\">'basic_train'</span> <span style=\"font-weight: bold\">(</span>ParquetDataSet<span style=\"font-weight: bold\">)</span><span style=\"color: #808000; text-decoration-color: #808000\">...</span>                <a href=\"file://C:\\Users\\ramon.boucas\\.conda\\envs\\my_env\\lib\\site-packages\\kedro\\io\\data_catalog.py\" target=\"_blank\"><span style=\"color: #7f7f7f; text-decoration-color: #7f7f7f\">data_catalog.py</span></a><span style=\"color: #7f7f7f; text-decoration-color: #7f7f7f\">:</span><a href=\"file://C:\\Users\\ramon.boucas\\.conda\\envs\\my_env\\lib\\site-packages\\kedro\\io\\data_catalog.py#502\" target=\"_blank\"><span style=\"color: #7f7f7f; text-decoration-color: #7f7f7f\">502</span></a>\n",
       "</pre>\n"
      ],
      "text/plain": [
       "\u001b[2;36m[02/03/24 10:25:10]\u001b[0m\u001b[2;36m \u001b[0m\u001b[34mINFO    \u001b[0m Loading data from \u001b[32m'basic_train'\u001b[0m \u001b[1m(\u001b[0mParquetDataSet\u001b[1m)\u001b[0m\u001b[33m...\u001b[0m                \u001b]8;id=909999;file://C:\\Users\\ramon.boucas\\.conda\\envs\\my_env\\lib\\site-packages\\kedro\\io\\data_catalog.py\u001b\\\u001b[2mdata_catalog.py\u001b[0m\u001b]8;;\u001b\\\u001b[2m:\u001b[0m\u001b]8;id=948992;file://C:\\Users\\ramon.boucas\\.conda\\envs\\my_env\\lib\\site-packages\\kedro\\io\\data_catalog.py#502\u001b\\\u001b[2m502\u001b[0m\u001b]8;;\u001b\\\n"
      ]
     },
     "metadata": {},
     "output_type": "display_data"
    },
    {
     "data": {
      "text/html": [
       "<pre style=\"white-space:pre;overflow-x:auto;line-height:normal;font-family:Menlo,'DejaVu Sans Mono',consolas,'Courier New',monospace\"></pre>\n"
      ],
      "text/plain": []
     },
     "metadata": {},
     "output_type": "display_data"
    },
    {
     "data": {
      "text/plain": [
       "\n",
       "\u001b[1;36m0\u001b[0m       O tema em latim dos jogos Olímpicos \"Citius, a\u001b[33m...\u001b[0m\n",
       "\u001b[1;36m1\u001b[0m       “Um país soberano precisa ter instituições de \u001b[33m...\u001b[0m\n",
       "\u001b[1;36m2\u001b[0m       Para preservar a memória, a cultura e a identi\u001b[33m...\u001b[0m\n",
       "\u001b[1;36m3\u001b[0m       No ´´Mito da Caverna``, alegoria presente no l\u001b[33m...\u001b[0m\n",
       "\u001b[1;36m4\u001b[0m       A globalização provocou \"o encurtamento das di\u001b[33m...\u001b[0m\n",
       "                              \u001b[33m...\u001b[0m                        \n",
       "\u001b[1;36m6097\u001b[0m    Desde a Primeira Revolução Industrial, ocorrid\u001b[33m...\u001b[0m\n",
       "\u001b[1;36m6098\u001b[0m    A ciência é de extrema importância para os ava\u001b[33m...\u001b[0m\n",
       "\u001b[1;36m6099\u001b[0m    A floresta amazônica é famosa pela sua biodive\u001b[33m...\u001b[0m\n",
       "\u001b[1;36m6100\u001b[0m    A Cracolândia é um local em São Paulo, conheci\u001b[33m...\u001b[0m\n",
       "\u001b[1;36m6101\u001b[0m    O discurso de ódio se caracteriza por incitar \u001b[33m...\u001b[0m\n",
       "Name: texto, Length: \u001b[1;36m6102\u001b[0m, dtype: object"
      ]
     },
     "execution_count": 2,
     "metadata": {},
     "output_type": "execute_result"
    }
   ],
   "source": [
    "import pandas as pd\n",
    "from sklearn.metrics import cohen_kappa_score\n",
    "from nltk import word_tokenize\n",
    "\n",
    "basic_train = catalog.load('basic_train')\n",
    "basic_train['texto']"
   ]
  },
  {
   "cell_type": "code",
   "execution_count": 3,
   "id": "fd91948c-57aa-4068-bee4-d576bb4c7035",
   "metadata": {},
   "outputs": [
    {
     "data": {
      "text/html": [
       "<pre style=\"white-space:pre;overflow-x:auto;line-height:normal;font-family:Menlo,'DejaVu Sans Mono',consolas,'Courier New',monospace\"><span style=\"color: #800000; text-decoration-color: #800000\">╭─────────────────────────────── </span><span style=\"color: #800000; text-decoration-color: #800000; font-weight: bold\">Traceback </span><span style=\"color: #bf7f7f; text-decoration-color: #bf7f7f; font-weight: bold\">(most recent call last)</span><span style=\"color: #800000; text-decoration-color: #800000\"> ────────────────────────────────╮</span>\n",
       "<span style=\"color: #800000; text-decoration-color: #800000\">│</span> in <span style=\"color: #00ff00; text-decoration-color: #00ff00\">&lt;module&gt;</span>:<span style=\"color: #0000ff; text-decoration-color: #0000ff\">2</span>                                                                                    <span style=\"color: #800000; text-decoration-color: #800000\">│</span>\n",
       "<span style=\"color: #800000; text-decoration-color: #800000\">│</span>                                                                                                  <span style=\"color: #800000; text-decoration-color: #800000\">│</span>\n",
       "<span style=\"color: #800000; text-decoration-color: #800000\">│</span>   <span style=\"color: #7f7f7f; text-decoration-color: #7f7f7f\">1 </span>lista_ensaios = <span style=\"color: #00ffff; text-decoration-color: #00ffff\">list</span>(basic_train[<span style=\"color: #808000; text-decoration-color: #808000\">'texto'</span>])                                                   <span style=\"color: #800000; text-decoration-color: #800000\">│</span>\n",
       "<span style=\"color: #800000; text-decoration-color: #800000\">│</span> <span style=\"color: #800000; text-decoration-color: #800000\">❱ </span>2 essay_corpora = [word_tokenize(i) <span style=\"color: #0000ff; text-decoration-color: #0000ff\">for</span> i <span style=\"color: #ff00ff; text-decoration-color: #ff00ff\">in</span> lista_ensaios]                                    <span style=\"color: #800000; text-decoration-color: #800000\">│</span>\n",
       "<span style=\"color: #800000; text-decoration-color: #800000\">│</span>   <span style=\"color: #7f7f7f; text-decoration-color: #7f7f7f\">3 </span>essay_corpora                                                                                <span style=\"color: #800000; text-decoration-color: #800000\">│</span>\n",
       "<span style=\"color: #800000; text-decoration-color: #800000\">│</span>   <span style=\"color: #7f7f7f; text-decoration-color: #7f7f7f\">4 </span>                                                                                             <span style=\"color: #800000; text-decoration-color: #800000\">│</span>\n",
       "<span style=\"color: #800000; text-decoration-color: #800000\">│</span>                                                                                                  <span style=\"color: #800000; text-decoration-color: #800000\">│</span>\n",
       "<span style=\"color: #800000; text-decoration-color: #800000\">│</span> in <span style=\"color: #00ff00; text-decoration-color: #00ff00\">&lt;listcomp&gt;</span>:<span style=\"color: #0000ff; text-decoration-color: #0000ff\">2</span>                                                                                  <span style=\"color: #800000; text-decoration-color: #800000\">│</span>\n",
       "<span style=\"color: #800000; text-decoration-color: #800000\">│</span>                                                                                                  <span style=\"color: #800000; text-decoration-color: #800000\">│</span>\n",
       "<span style=\"color: #800000; text-decoration-color: #800000\">│</span>   <span style=\"color: #7f7f7f; text-decoration-color: #7f7f7f\">1 </span>lista_ensaios = <span style=\"color: #00ffff; text-decoration-color: #00ffff\">list</span>(basic_train[<span style=\"color: #808000; text-decoration-color: #808000\">'texto'</span>])                                                   <span style=\"color: #800000; text-decoration-color: #800000\">│</span>\n",
       "<span style=\"color: #800000; text-decoration-color: #800000\">│</span> <span style=\"color: #800000; text-decoration-color: #800000\">❱ </span>2 essay_corpora = [word_tokenize(i) <span style=\"color: #0000ff; text-decoration-color: #0000ff\">for</span> i <span style=\"color: #ff00ff; text-decoration-color: #ff00ff\">in</span> lista_ensaios]                                    <span style=\"color: #800000; text-decoration-color: #800000\">│</span>\n",
       "<span style=\"color: #800000; text-decoration-color: #800000\">│</span>   <span style=\"color: #7f7f7f; text-decoration-color: #7f7f7f\">3 </span>essay_corpora                                                                                <span style=\"color: #800000; text-decoration-color: #800000\">│</span>\n",
       "<span style=\"color: #800000; text-decoration-color: #800000\">│</span>   <span style=\"color: #7f7f7f; text-decoration-color: #7f7f7f\">4 </span>                                                                                             <span style=\"color: #800000; text-decoration-color: #800000\">│</span>\n",
       "<span style=\"color: #800000; text-decoration-color: #800000\">╰──────────────────────────────────────────────────────────────────────────────────────────────────╯</span>\n",
       "<span style=\"color: #ff0000; text-decoration-color: #ff0000; font-weight: bold\">NameError: </span>name <span style=\"color: #008000; text-decoration-color: #008000\">'word_tokenize'</span> is not defined\n",
       "</pre>\n"
      ],
      "text/plain": [
       "\u001b[31m╭─\u001b[0m\u001b[31m──────────────────────────────\u001b[0m\u001b[31m \u001b[0m\u001b[1;31mTraceback \u001b[0m\u001b[1;2;31m(most recent call last)\u001b[0m\u001b[31m \u001b[0m\u001b[31m───────────────────────────────\u001b[0m\u001b[31m─╮\u001b[0m\n",
       "\u001b[31m│\u001b[0m in \u001b[92m<module>\u001b[0m:\u001b[94m2\u001b[0m                                                                                    \u001b[31m│\u001b[0m\n",
       "\u001b[31m│\u001b[0m                                                                                                  \u001b[31m│\u001b[0m\n",
       "\u001b[31m│\u001b[0m   \u001b[2m1 \u001b[0mlista_ensaios = \u001b[96mlist\u001b[0m(basic_train[\u001b[33m'\u001b[0m\u001b[33mtexto\u001b[0m\u001b[33m'\u001b[0m])                                                   \u001b[31m│\u001b[0m\n",
       "\u001b[31m│\u001b[0m \u001b[31m❱ \u001b[0m2 essay_corpora = [word_tokenize(i) \u001b[94mfor\u001b[0m i \u001b[95min\u001b[0m lista_ensaios]                                    \u001b[31m│\u001b[0m\n",
       "\u001b[31m│\u001b[0m   \u001b[2m3 \u001b[0messay_corpora                                                                                \u001b[31m│\u001b[0m\n",
       "\u001b[31m│\u001b[0m   \u001b[2m4 \u001b[0m                                                                                             \u001b[31m│\u001b[0m\n",
       "\u001b[31m│\u001b[0m                                                                                                  \u001b[31m│\u001b[0m\n",
       "\u001b[31m│\u001b[0m in \u001b[92m<listcomp>\u001b[0m:\u001b[94m2\u001b[0m                                                                                  \u001b[31m│\u001b[0m\n",
       "\u001b[31m│\u001b[0m                                                                                                  \u001b[31m│\u001b[0m\n",
       "\u001b[31m│\u001b[0m   \u001b[2m1 \u001b[0mlista_ensaios = \u001b[96mlist\u001b[0m(basic_train[\u001b[33m'\u001b[0m\u001b[33mtexto\u001b[0m\u001b[33m'\u001b[0m])                                                   \u001b[31m│\u001b[0m\n",
       "\u001b[31m│\u001b[0m \u001b[31m❱ \u001b[0m2 essay_corpora = [word_tokenize(i) \u001b[94mfor\u001b[0m i \u001b[95min\u001b[0m lista_ensaios]                                    \u001b[31m│\u001b[0m\n",
       "\u001b[31m│\u001b[0m   \u001b[2m3 \u001b[0messay_corpora                                                                                \u001b[31m│\u001b[0m\n",
       "\u001b[31m│\u001b[0m   \u001b[2m4 \u001b[0m                                                                                             \u001b[31m│\u001b[0m\n",
       "\u001b[31m╰──────────────────────────────────────────────────────────────────────────────────────────────────╯\u001b[0m\n",
       "\u001b[1;91mNameError: \u001b[0mname \u001b[32m'word_tokenize'\u001b[0m is not defined\n"
      ]
     },
     "metadata": {},
     "output_type": "display_data"
    }
   ],
   "source": [
    "lista_ensaios = list(basic_train['texto'])\n",
    "essay_corpora = [word_tokenize(i) for i in lista_ensaios]\n",
    "essay_corpora"
   ]
  },
  {
   "cell_type": "code",
   "execution_count": 2,
   "id": "24b83ff2-3f3a-4dab-bbcb-ed40d7127bb9",
   "metadata": {},
   "outputs": [
    {
     "data": {
      "text/html": [
       "<pre style=\"white-space:pre;overflow-x:auto;line-height:normal;font-family:Menlo,'DejaVu Sans Mono',consolas,'Courier New',monospace\"></pre>\n"
      ],
      "text/plain": []
     },
     "metadata": {},
     "output_type": "display_data"
    },
    {
     "data": {
      "text/html": [
       "<div>\n",
       "<style scoped>\n",
       "    .dataframe tbody tr th:only-of-type {\n",
       "        vertical-align: middle;\n",
       "    }\n",
       "\n",
       "    .dataframe tbody tr th {\n",
       "        vertical-align: top;\n",
       "    }\n",
       "\n",
       "    .dataframe thead th {\n",
       "        text-align: right;\n",
       "    }\n",
       "</style>\n",
       "<table border=\"1\" class=\"dataframe\">\n",
       "  <thead>\n",
       "    <tr style=\"text-align: right;\">\n",
       "      <th></th>\n",
       "      <th>index</th>\n",
       "      <th>tema</th>\n",
       "      <th>conjunto</th>\n",
       "      <th>PRED_GERAL</th>\n",
       "      <th>TARGET</th>\n",
       "      <th>modelo</th>\n",
       "    </tr>\n",
       "  </thead>\n",
       "  <tbody>\n",
       "    <tr>\n",
       "      <th>0</th>\n",
       "      <td>14</td>\n",
       "      <td>2</td>\n",
       "      <td>1</td>\n",
       "      <td>731</td>\n",
       "      <td>840.0</td>\n",
       "      <td>TF_IDF_32</td>\n",
       "    </tr>\n",
       "    <tr>\n",
       "      <th>1</th>\n",
       "      <td>104</td>\n",
       "      <td>39</td>\n",
       "      <td>1</td>\n",
       "      <td>725</td>\n",
       "      <td>840.0</td>\n",
       "      <td>TF_IDF_32</td>\n",
       "    </tr>\n",
       "    <tr>\n",
       "      <th>2</th>\n",
       "      <td>80</td>\n",
       "      <td>13</td>\n",
       "      <td>1</td>\n",
       "      <td>703</td>\n",
       "      <td>520.0</td>\n",
       "      <td>TF_IDF_32</td>\n",
       "    </tr>\n",
       "    <tr>\n",
       "      <th>3</th>\n",
       "      <td>77</td>\n",
       "      <td>2</td>\n",
       "      <td>1</td>\n",
       "      <td>604</td>\n",
       "      <td>920.0</td>\n",
       "      <td>TF_IDF_32</td>\n",
       "    </tr>\n",
       "    <tr>\n",
       "      <th>4</th>\n",
       "      <td>40</td>\n",
       "      <td>54</td>\n",
       "      <td>1</td>\n",
       "      <td>709</td>\n",
       "      <td>640.0</td>\n",
       "      <td>TF_IDF_32</td>\n",
       "    </tr>\n",
       "    <tr>\n",
       "      <th>...</th>\n",
       "      <td>...</td>\n",
       "      <td>...</td>\n",
       "      <td>...</td>\n",
       "      <td>...</td>\n",
       "      <td>...</td>\n",
       "      <td>...</td>\n",
       "    </tr>\n",
       "    <tr>\n",
       "      <th>1521</th>\n",
       "      <td>77</td>\n",
       "      <td>46</td>\n",
       "      <td>1</td>\n",
       "      <td>762</td>\n",
       "      <td>920.0</td>\n",
       "      <td>TF_IDF_64</td>\n",
       "    </tr>\n",
       "    <tr>\n",
       "      <th>1522</th>\n",
       "      <td>16</td>\n",
       "      <td>43</td>\n",
       "      <td>1</td>\n",
       "      <td>749</td>\n",
       "      <td>680.0</td>\n",
       "      <td>TF_IDF_64</td>\n",
       "    </tr>\n",
       "    <tr>\n",
       "      <th>1523</th>\n",
       "      <td>54</td>\n",
       "      <td>45</td>\n",
       "      <td>1</td>\n",
       "      <td>754</td>\n",
       "      <td>760.0</td>\n",
       "      <td>TF_IDF_64</td>\n",
       "    </tr>\n",
       "    <tr>\n",
       "      <th>1524</th>\n",
       "      <td>125</td>\n",
       "      <td>81</td>\n",
       "      <td>1</td>\n",
       "      <td>717</td>\n",
       "      <td>760.0</td>\n",
       "      <td>TF_IDF_64</td>\n",
       "    </tr>\n",
       "    <tr>\n",
       "      <th>1525</th>\n",
       "      <td>117</td>\n",
       "      <td>37</td>\n",
       "      <td>1</td>\n",
       "      <td>777</td>\n",
       "      <td>640.0</td>\n",
       "      <td>TF_IDF_64</td>\n",
       "    </tr>\n",
       "  </tbody>\n",
       "</table>\n",
       "<p>3052 rows × 6 columns</p>\n",
       "</div>"
      ],
      "text/plain": [
       "\n",
       "      index  tema  conjunto  PRED_GERAL  TARGET     modelo\n",
       "\u001b[1;36m0\u001b[0m        \u001b[1;36m14\u001b[0m     \u001b[1;36m2\u001b[0m         \u001b[1;36m1\u001b[0m         \u001b[1;36m731\u001b[0m   \u001b[1;36m840.0\u001b[0m  TF_IDF_32\n",
       "\u001b[1;36m1\u001b[0m       \u001b[1;36m104\u001b[0m    \u001b[1;36m39\u001b[0m         \u001b[1;36m1\u001b[0m         \u001b[1;36m725\u001b[0m   \u001b[1;36m840.0\u001b[0m  TF_IDF_32\n",
       "\u001b[1;36m2\u001b[0m        \u001b[1;36m80\u001b[0m    \u001b[1;36m13\u001b[0m         \u001b[1;36m1\u001b[0m         \u001b[1;36m703\u001b[0m   \u001b[1;36m520.0\u001b[0m  TF_IDF_32\n",
       "\u001b[1;36m3\u001b[0m        \u001b[1;36m77\u001b[0m     \u001b[1;36m2\u001b[0m         \u001b[1;36m1\u001b[0m         \u001b[1;36m604\u001b[0m   \u001b[1;36m920.0\u001b[0m  TF_IDF_32\n",
       "\u001b[1;36m4\u001b[0m        \u001b[1;36m40\u001b[0m    \u001b[1;36m54\u001b[0m         \u001b[1;36m1\u001b[0m         \u001b[1;36m709\u001b[0m   \u001b[1;36m640.0\u001b[0m  TF_IDF_32\n",
       "\u001b[33m...\u001b[0m     \u001b[33m...\u001b[0m   \u001b[33m...\u001b[0m       \u001b[33m...\u001b[0m         \u001b[33m...\u001b[0m     \u001b[33m...\u001b[0m        \u001b[33m...\u001b[0m\n",
       "\u001b[1;36m1521\u001b[0m     \u001b[1;36m77\u001b[0m    \u001b[1;36m46\u001b[0m         \u001b[1;36m1\u001b[0m         \u001b[1;36m762\u001b[0m   \u001b[1;36m920.0\u001b[0m  TF_IDF_64\n",
       "\u001b[1;36m1522\u001b[0m     \u001b[1;36m16\u001b[0m    \u001b[1;36m43\u001b[0m         \u001b[1;36m1\u001b[0m         \u001b[1;36m749\u001b[0m   \u001b[1;36m680.0\u001b[0m  TF_IDF_64\n",
       "\u001b[1;36m1523\u001b[0m     \u001b[1;36m54\u001b[0m    \u001b[1;36m45\u001b[0m         \u001b[1;36m1\u001b[0m         \u001b[1;36m754\u001b[0m   \u001b[1;36m760.0\u001b[0m  TF_IDF_64\n",
       "\u001b[1;36m1524\u001b[0m    \u001b[1;36m125\u001b[0m    \u001b[1;36m81\u001b[0m         \u001b[1;36m1\u001b[0m         \u001b[1;36m717\u001b[0m   \u001b[1;36m760.0\u001b[0m  TF_IDF_64\n",
       "\u001b[1;36m1525\u001b[0m    \u001b[1;36m117\u001b[0m    \u001b[1;36m37\u001b[0m         \u001b[1;36m1\u001b[0m         \u001b[1;36m777\u001b[0m   \u001b[1;36m640.0\u001b[0m  TF_IDF_64\n",
       "\n",
       "\u001b[1m[\u001b[0m\u001b[1;36m3052\u001b[0m rows x \u001b[1;36m6\u001b[0m columns\u001b[1m]\u001b[0m"
      ]
     },
     "execution_count": 2,
     "metadata": {},
     "output_type": "execute_result"
    }
   ],
   "source": [
    "lista = []\n",
    "\n",
    "for key, value in dicio.items():\n",
    "    df = value()\n",
    "    df['modelo'] = key\n",
    "    lista.append(df)\n",
    "\n",
    "\n",
    "dfzao = pd.concat(lista)\n",
    "dfzao"
   ]
  },
  {
   "cell_type": "code",
   "execution_count": 11,
   "id": "3aef30c1-3ae9-46e2-91ca-24a3ee06489e",
   "metadata": {},
   "outputs": [],
   "source": [
    "elef = dfzao.copy()"
   ]
  },
  {
   "cell_type": "code",
   "execution_count": 12,
   "id": "3e6cd814-c9b8-4cd2-82fa-deaea1b831f5",
   "metadata": {},
   "outputs": [
    {
     "data": {
      "text/html": [
       "<pre style=\"white-space:pre;overflow-x:auto;line-height:normal;font-family:Menlo,'DejaVu Sans Mono',consolas,'Courier New',monospace\"></pre>\n"
      ],
      "text/plain": []
     },
     "metadata": {},
     "output_type": "display_data"
    },
    {
     "data": {
      "text/plain": [
       "\u001b[1;36m-0.00017315860876832012\u001b[0m"
      ]
     },
     "execution_count": 12,
     "metadata": {},
     "output_type": "execute_result"
    }
   ],
   "source": [
    "cohen_kappa_score(elef['SOMA_PREDS'],elef['TARGET'])"
   ]
  },
  {
   "cell_type": "code",
   "execution_count": 13,
   "id": "37fe57d0-aed9-45d1-913d-099bd978d012",
   "metadata": {},
   "outputs": [
    {
     "data": {
      "text/html": [
       "<pre style=\"white-space:pre;overflow-x:auto;line-height:normal;font-family:Menlo,'DejaVu Sans Mono',consolas,'Courier New',monospace\"></pre>\n"
      ],
      "text/plain": []
     },
     "metadata": {},
     "output_type": "display_data"
    },
    {
     "data": {
      "text/plain": [
       "\u001b[1;36m0.0009445858059033974\u001b[0m"
      ]
     },
     "execution_count": 13,
     "metadata": {},
     "output_type": "execute_result"
    }
   ],
   "source": [
    "cohen_kappa_score(elef['PRED_GERAL'],elef['TARGET'])"
   ]
  },
  {
   "cell_type": "code",
   "execution_count": 14,
   "id": "de482578-3444-430a-9bc6-8c756f9e6443",
   "metadata": {},
   "outputs": [],
   "source": [
    "a = dicio['TF_IDF_32']()\n",
    "b = dicio['TF_IDF_64']()"
   ]
  },
  {
   "cell_type": "code",
   "execution_count": 15,
   "id": "3d820a05-93b3-43a9-af67-e9b978e0d540",
   "metadata": {},
   "outputs": [
    {
     "data": {
      "text/html": [
       "<pre style=\"white-space:pre;overflow-x:auto;line-height:normal;font-family:Menlo,'DejaVu Sans Mono',consolas,'Courier New',monospace\"></pre>\n"
      ],
      "text/plain": []
     },
     "metadata": {},
     "output_type": "display_data"
    },
    {
     "data": {
      "text/plain": [
       "\u001b[1;36m-6.674081355750872e-05\u001b[0m"
      ]
     },
     "execution_count": 15,
     "metadata": {},
     "output_type": "execute_result"
    }
   ],
   "source": [
    "cohen_kappa_score(a['PRED_GERAL'],a['TARGET'])"
   ]
  },
  {
   "cell_type": "code",
   "execution_count": 16,
   "id": "c4e6dd26-5728-4d79-a815-6a6511d65912",
   "metadata": {},
   "outputs": [
    {
     "data": {
      "text/html": [
       "<pre style=\"white-space:pre;overflow-x:auto;line-height:normal;font-family:Menlo,'DejaVu Sans Mono',consolas,'Courier New',monospace\"></pre>\n"
      ],
      "text/plain": []
     },
     "metadata": {},
     "output_type": "display_data"
    },
    {
     "data": {
      "text/plain": [
       "\u001b[1;36m0.0019551957261074726\u001b[0m"
      ]
     },
     "execution_count": 16,
     "metadata": {},
     "output_type": "execute_result"
    }
   ],
   "source": [
    "cohen_kappa_score(b['PRED_GERAL'],b['TARGET'])"
   ]
  },
  {
   "cell_type": "code",
   "execution_count": null,
   "id": "78b6e101-6a6c-4534-b379-850be51f415a",
   "metadata": {},
   "outputs": [],
   "source": []
  }
 ],
 "metadata": {
  "kernelspec": {
   "display_name": "Kedro (textgrader)",
   "language": "python",
   "name": "kedro_textgrader"
  },
  "language_info": {
   "codemirror_mode": {
    "name": "ipython",
    "version": 3
   },
   "file_extension": ".py",
   "mimetype": "text/x-python",
   "name": "python",
   "nbconvert_exporter": "python",
   "pygments_lexer": "ipython3",
   "version": "3.9.18"
  }
 },
 "nbformat": 4,
 "nbformat_minor": 5
}
