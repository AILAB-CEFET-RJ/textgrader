{
 "cells": [
  {
   "cell_type": "code",
   "execution_count": 21,
   "id": "3bf03ca9-d5bc-4193-98fe-433f90cd26ea",
   "metadata": {},
   "outputs": [
    {
     "data": {
      "text/html": [
       "<pre style=\"white-space:pre;overflow-x:auto;line-height:normal;font-family:Menlo,'DejaVu Sans Mono',consolas,'Courier New',monospace\"><span style=\"color: #7fbfbf; text-decoration-color: #7fbfbf\">[02/03/24 13:23:01] </span><span style=\"color: #000080; text-decoration-color: #000080\">INFO    </span> Loading data from <span style=\"color: #008000; text-decoration-color: #008000\">'basic_train'</span> <span style=\"font-weight: bold\">(</span>ParquetDataSet<span style=\"font-weight: bold\">)</span><span style=\"color: #808000; text-decoration-color: #808000\">...</span>                <a href=\"file://C:\\Users\\ramon.boucas\\.conda\\envs\\my_env\\lib\\site-packages\\kedro\\io\\data_catalog.py\" target=\"_blank\"><span style=\"color: #7f7f7f; text-decoration-color: #7f7f7f\">data_catalog.py</span></a><span style=\"color: #7f7f7f; text-decoration-color: #7f7f7f\">:</span><a href=\"file://C:\\Users\\ramon.boucas\\.conda\\envs\\my_env\\lib\\site-packages\\kedro\\io\\data_catalog.py#502\" target=\"_blank\"><span style=\"color: #7f7f7f; text-decoration-color: #7f7f7f\">502</span></a>\n",
       "</pre>\n"
      ],
      "text/plain": [
       "\u001b[2;36m[02/03/24 13:23:01]\u001b[0m\u001b[2;36m \u001b[0m\u001b[34mINFO    \u001b[0m Loading data from \u001b[32m'basic_train'\u001b[0m \u001b[1m(\u001b[0mParquetDataSet\u001b[1m)\u001b[0m\u001b[33m...\u001b[0m                \u001b]8;id=624226;file://C:\\Users\\ramon.boucas\\.conda\\envs\\my_env\\lib\\site-packages\\kedro\\io\\data_catalog.py\u001b\\\u001b[2mdata_catalog.py\u001b[0m\u001b]8;;\u001b\\\u001b[2m:\u001b[0m\u001b]8;id=815330;file://C:\\Users\\ramon.boucas\\.conda\\envs\\my_env\\lib\\site-packages\\kedro\\io\\data_catalog.py#502\u001b\\\u001b[2m502\u001b[0m\u001b]8;;\u001b\\\n"
      ]
     },
     "metadata": {},
     "output_type": "display_data"
    }
   ],
   "source": [
    "from gensim import corpora\n",
    "from nltk import word_tokenize\n",
    "from gensim.models import LsiModel\n",
    "\n",
    "df = catalog.load('basic_train')\n",
    "\n",
    "lista = list(df['texto'])\n",
    "\n",
    "texts = []\n",
    "for essay in lista:\n",
    "    ## tokeniza o ensaio\n",
    "    tokenized = word_tokenize(essay)\n",
    "    ## adiciona a lista de palavras na lista de listas que representa o corpus\n",
    "    texts.append(tokenized)"
   ]
  },
  {
   "cell_type": "code",
   "execution_count": 23,
   "id": "ee4e884b-d806-4f88-a54b-95ecf0c23240",
   "metadata": {},
   "outputs": [],
   "source": [
    "## constroi o dicionario a partir da lista de listas que representa o nosso corpus\n",
    "dictionary = corpora.Dictionary(texts)\n",
    "\n",
    "## constroi a matriz termo-documento a partir da lista de listas que representa o nosso corpus\n",
    "doc_term_matrix = [dictionary.doc2bow(doc) for doc in texts]\n",
    "\n",
    "## constroi o modelo LSI a partir da matriz termo-documento, do numero de tópicos e do dicionario\n",
    "lsamodel = LsiModel(doc_term_matrix,num_topics = 10, id2word = dictionary)\n"
   ]
  },
  {
   "cell_type": "code",
   "execution_count": null,
   "id": "07b882df-1b66-44e4-8487-08a0c19ecb09",
   "metadata": {},
   "outputs": [],
   "source": []
  }
 ],
 "metadata": {
  "kernelspec": {
   "display_name": "Kedro (textgrader)",
   "language": "python",
   "name": "kedro_textgrader"
  },
  "language_info": {
   "codemirror_mode": {
    "name": "ipython",
    "version": 3
   },
   "file_extension": ".py",
   "mimetype": "text/x-python",
   "name": "python",
   "nbconvert_exporter": "python",
   "pygments_lexer": "ipython3",
   "version": "3.9.18"
  }
 },
 "nbformat": 4,
 "nbformat_minor": 5
}
