{
 "cells": [
  {
   "cell_type": "code",
   "execution_count": 27,
   "id": "ce0c98e8",
   "metadata": {},
   "outputs": [
    {
     "data": {
      "text/html": [
       "<div>\n",
       "<style scoped>\n",
       "    .dataframe tbody tr th:only-of-type {\n",
       "        vertical-align: middle;\n",
       "    }\n",
       "\n",
       "    .dataframe tbody tr th {\n",
       "        vertical-align: top;\n",
       "    }\n",
       "\n",
       "    .dataframe thead th {\n",
       "        text-align: right;\n",
       "    }\n",
       "</style>\n",
       "<table border=\"1\" class=\"dataframe\">\n",
       "  <thead>\n",
       "    <tr style=\"text-align: right;\">\n",
       "      <th></th>\n",
       "      <th>conjunto</th>\n",
       "      <th>quantidade_textos</th>\n",
       "      <th>média de palavras</th>\n",
       "      <th>desvio padrão palavras</th>\n",
       "      <th>média palavras unicas</th>\n",
       "      <th>média sentencas</th>\n",
       "    </tr>\n",
       "  </thead>\n",
       "  <tbody>\n",
       "    <tr>\n",
       "      <th>0</th>\n",
       "      <td>1</td>\n",
       "      <td>1783</td>\n",
       "      <td>413.949523</td>\n",
       "      <td>139.115426</td>\n",
       "      <td>181.564778</td>\n",
       "      <td>22.788559</td>\n",
       "    </tr>\n",
       "    <tr>\n",
       "      <th>1</th>\n",
       "      <td>2</td>\n",
       "      <td>3600</td>\n",
       "      <td>424.047778</td>\n",
       "      <td>175.142195</td>\n",
       "      <td>174.016111</td>\n",
       "      <td>20.952778</td>\n",
       "    </tr>\n",
       "    <tr>\n",
       "      <th>2</th>\n",
       "      <td>3</td>\n",
       "      <td>1726</td>\n",
       "      <td>120.710892</td>\n",
       "      <td>60.175178</td>\n",
       "      <td>75.802433</td>\n",
       "      <td>6.395133</td>\n",
       "    </tr>\n",
       "    <tr>\n",
       "      <th>3</th>\n",
       "      <td>4</td>\n",
       "      <td>1771</td>\n",
       "      <td>103.220215</td>\n",
       "      <td>57.810240</td>\n",
       "      <td>62.734613</td>\n",
       "      <td>4.731225</td>\n",
       "    </tr>\n",
       "    <tr>\n",
       "      <th>4</th>\n",
       "      <td>5</td>\n",
       "      <td>1805</td>\n",
       "      <td>139.519114</td>\n",
       "      <td>67.438395</td>\n",
       "      <td>78.824377</td>\n",
       "      <td>6.382271</td>\n",
       "    </tr>\n",
       "    <tr>\n",
       "      <th>5</th>\n",
       "      <td>6</td>\n",
       "      <td>1800</td>\n",
       "      <td>170.863889</td>\n",
       "      <td>63.508621</td>\n",
       "      <td>99.078333</td>\n",
       "      <td>7.610000</td>\n",
       "    </tr>\n",
       "    <tr>\n",
       "      <th>6</th>\n",
       "      <td>7</td>\n",
       "      <td>1569</td>\n",
       "      <td>195.386871</td>\n",
       "      <td>103.561706</td>\n",
       "      <td>99.956660</td>\n",
       "      <td>12.197578</td>\n",
       "    </tr>\n",
       "    <tr>\n",
       "      <th>7</th>\n",
       "      <td>8</td>\n",
       "      <td>723</td>\n",
       "      <td>694.370678</td>\n",
       "      <td>239.262882</td>\n",
       "      <td>265.215768</td>\n",
       "      <td>35.116183</td>\n",
       "    </tr>\n",
       "  </tbody>\n",
       "</table>\n",
       "</div>"
      ],
      "text/plain": [
       "   conjunto  quantidade_textos  média de palavras  desvio padrão palavras  \\\n",
       "0         1               1783         413.949523              139.115426   \n",
       "1         2               3600         424.047778              175.142195   \n",
       "2         3               1726         120.710892               60.175178   \n",
       "3         4               1771         103.220215               57.810240   \n",
       "4         5               1805         139.519114               67.438395   \n",
       "5         6               1800         170.863889               63.508621   \n",
       "6         7               1569         195.386871              103.561706   \n",
       "7         8                723         694.370678              239.262882   \n",
       "\n",
       "   média palavras unicas  média sentencas  \n",
       "0             181.564778        22.788559  \n",
       "1             174.016111        20.952778  \n",
       "2              75.802433         6.395133  \n",
       "3              62.734613         4.731225  \n",
       "4              78.824377         6.382271  \n",
       "5              99.078333         7.610000  \n",
       "6              99.956660        12.197578  \n",
       "7             265.215768        35.116183  "
      ]
     },
     "execution_count": 27,
     "metadata": {},
     "output_type": "execute_result"
    }
   ],
   "source": [
    "import pandas as pd\n",
    "import numpy as np\n",
    "df = pd.read_parquet('enriched_texts.parquet')\n",
    "\n",
    "test = df.groupby(['text_set']).agg({'text_id':'count','word_count':['mean','std'],'unique_word_count':'mean','sentence_count':'mean'}).reset_index()\n",
    "test.columns = ['conjunto','quantidade_textos','média de palavras','desvio padrão palavras','média palavras unicas','média sentencas']\n",
    "test"
   ]
  },
  {
   "cell_type": "code",
   "execution_count": 28,
   "id": "2d00c546",
   "metadata": {},
   "outputs": [
    {
     "data": {
      "text/html": [
       "<div>\n",
       "<style scoped>\n",
       "    .dataframe tbody tr th:only-of-type {\n",
       "        vertical-align: middle;\n",
       "    }\n",
       "\n",
       "    .dataframe tbody tr th {\n",
       "        vertical-align: top;\n",
       "    }\n",
       "\n",
       "    .dataframe thead th {\n",
       "        text-align: right;\n",
       "    }\n",
       "</style>\n",
       "<table border=\"1\" class=\"dataframe\">\n",
       "  <thead>\n",
       "    <tr style=\"text-align: right;\">\n",
       "      <th>score</th>\n",
       "      <th>text_set</th>\n",
       "      <th>0.0</th>\n",
       "      <th>1.0</th>\n",
       "      <th>2.0</th>\n",
       "      <th>3.0</th>\n",
       "      <th>4.0</th>\n",
       "      <th>5.0</th>\n",
       "      <th>6.0</th>\n",
       "    </tr>\n",
       "  </thead>\n",
       "  <tbody>\n",
       "    <tr>\n",
       "      <th>0</th>\n",
       "      <td>2</td>\n",
       "      <td>0.0</td>\n",
       "      <td>53.0</td>\n",
       "      <td>344.0</td>\n",
       "      <td>1493.0</td>\n",
       "      <td>1628.0</td>\n",
       "      <td>75.0</td>\n",
       "      <td>7.0</td>\n",
       "    </tr>\n",
       "    <tr>\n",
       "      <th>1</th>\n",
       "      <td>3</td>\n",
       "      <td>39.0</td>\n",
       "      <td>607.0</td>\n",
       "      <td>657.0</td>\n",
       "      <td>423.0</td>\n",
       "      <td>0.0</td>\n",
       "      <td>0.0</td>\n",
       "      <td>0.0</td>\n",
       "    </tr>\n",
       "    <tr>\n",
       "      <th>2</th>\n",
       "      <td>4</td>\n",
       "      <td>312.0</td>\n",
       "      <td>636.0</td>\n",
       "      <td>570.0</td>\n",
       "      <td>253.0</td>\n",
       "      <td>0.0</td>\n",
       "      <td>0.0</td>\n",
       "      <td>0.0</td>\n",
       "    </tr>\n",
       "    <tr>\n",
       "      <th>3</th>\n",
       "      <td>5</td>\n",
       "      <td>24.0</td>\n",
       "      <td>302.0</td>\n",
       "      <td>649.0</td>\n",
       "      <td>572.0</td>\n",
       "      <td>258.0</td>\n",
       "      <td>0.0</td>\n",
       "      <td>0.0</td>\n",
       "    </tr>\n",
       "    <tr>\n",
       "      <th>4</th>\n",
       "      <td>6</td>\n",
       "      <td>44.0</td>\n",
       "      <td>167.0</td>\n",
       "      <td>405.0</td>\n",
       "      <td>817.0</td>\n",
       "      <td>367.0</td>\n",
       "      <td>0.0</td>\n",
       "      <td>0.0</td>\n",
       "    </tr>\n",
       "  </tbody>\n",
       "</table>\n",
       "</div>"
      ],
      "text/plain": [
       "score  text_set    0.0    1.0    2.0     3.0     4.0   5.0  6.0\n",
       "0             2    0.0   53.0  344.0  1493.0  1628.0  75.0  7.0\n",
       "1             3   39.0  607.0  657.0   423.0     0.0   0.0  0.0\n",
       "2             4  312.0  636.0  570.0   253.0     0.0   0.0  0.0\n",
       "3             5   24.0  302.0  649.0   572.0   258.0   0.0  0.0\n",
       "4             6   44.0  167.0  405.0   817.0   367.0   0.0  0.0"
      ]
     },
     "execution_count": 28,
     "metadata": {},
     "output_type": "execute_result"
    }
   ],
   "source": [
    "df2 = df[df['text_set'].isin([2,3,4,5,6])]\n",
    "df2.pivot_table(index = 'text_set',values= 'text_id', columns = 'score',aggfunc = 'count').replace(np.NaN,0).reset_index()\n",
    " "
   ]
  },
  {
   "cell_type": "code",
   "execution_count": 42,
   "id": "a80cf3a5",
   "metadata": {},
   "outputs": [
    {
     "ename": "SyntaxError",
     "evalue": "invalid syntax (2045549601.py, line 1)",
     "output_type": "error",
     "traceback": [
      "\u001b[1;36m  Input \u001b[1;32mIn [42]\u001b[1;36m\u001b[0m\n\u001b[1;33m    df[df['text_set'] = 1]\u001b[0m\n\u001b[1;37m                      ^\u001b[0m\n\u001b[1;31mSyntaxError\u001b[0m\u001b[1;31m:\u001b[0m invalid syntax\n"
     ]
    }
   ],
   "source": [
    "df[df['text_set'] = 1]"
   ]
  },
  {
   "cell_type": "code",
   "execution_count": 29,
   "id": "4dd836e4",
   "metadata": {},
   "outputs": [
    {
     "name": "stderr",
     "output_type": "stream",
     "text": [
      "C:\\Users\\ramon.boucas\\AppData\\Local\\Temp\\ipykernel_2504\\241262631.py:2: SettingWithCopyWarning: \n",
      "A value is trying to be set on a copy of a slice from a DataFrame.\n",
      "Try using .loc[row_indexer,col_indexer] = value instead\n",
      "\n",
      "See the caveats in the documentation: https://pandas.pydata.org/pandas-docs/stable/user_guide/indexing.html#returning-a-view-versus-a-copy\n",
      "  df3['score'] = np.where(df3['score'] <= 5,5,df3['score'])\n"
     ]
    }
   ],
   "source": [
    "df3 = df[df['text_set'].isin([1])]\n",
    "df3['score'] = np.where(df3['score'] <= 5,5,df3['score'])\n",
    " \n",
    "test = df3.pivot_table(index = 'text_set',values= 'text_id', columns = 'score',aggfunc = 'count').replace(np.NaN,0).reset_index()\n",
    "\n"
   ]
  },
  {
   "cell_type": "code",
   "execution_count": 41,
   "id": "590484d6",
   "metadata": {},
   "outputs": [
    {
     "name": "stderr",
     "output_type": "stream",
     "text": [
      "C:\\Users\\ramon.boucas\\AppData\\Local\\Temp\\ipykernel_2504\\588324681.py:2: SettingWithCopyWarning: \n",
      "A value is trying to be set on a copy of a slice from a DataFrame.\n",
      "Try using .loc[row_indexer,col_indexer] = value instead\n",
      "\n",
      "See the caveats in the documentation: https://pandas.pydata.org/pandas-docs/stable/user_guide/indexing.html#returning-a-view-versus-a-copy\n",
      "  df4['score'] = pd.cut(df4['score'],[0,5,8,10,12,15,17,20,25,30])\n"
     ]
    },
    {
     "data": {
      "text/html": [
       "<div>\n",
       "<style scoped>\n",
       "    .dataframe tbody tr th:only-of-type {\n",
       "        vertical-align: middle;\n",
       "    }\n",
       "\n",
       "    .dataframe tbody tr th {\n",
       "        vertical-align: top;\n",
       "    }\n",
       "\n",
       "    .dataframe thead th {\n",
       "        text-align: right;\n",
       "    }\n",
       "</style>\n",
       "<table border=\"1\" class=\"dataframe\">\n",
       "  <thead>\n",
       "    <tr style=\"text-align: right;\">\n",
       "      <th>score</th>\n",
       "      <th>text_set</th>\n",
       "      <th>(0, 5]</th>\n",
       "      <th>(5, 8]</th>\n",
       "      <th>(8, 10]</th>\n",
       "      <th>(10, 12]</th>\n",
       "      <th>(12, 15]</th>\n",
       "      <th>(15, 17]</th>\n",
       "      <th>(17, 20]</th>\n",
       "      <th>(20, 25]</th>\n",
       "      <th>(25, 30]</th>\n",
       "    </tr>\n",
       "  </thead>\n",
       "  <tbody>\n",
       "    <tr>\n",
       "      <th>0</th>\n",
       "      <td>7</td>\n",
       "      <td>10</td>\n",
       "      <td>98</td>\n",
       "      <td>104</td>\n",
       "      <td>142</td>\n",
       "      <td>272</td>\n",
       "      <td>359</td>\n",
       "      <td>305</td>\n",
       "      <td>279</td>\n",
       "      <td>0</td>\n",
       "    </tr>\n",
       "  </tbody>\n",
       "</table>\n",
       "</div>"
      ],
      "text/plain": [
       "score  text_set  (0, 5]  (5, 8]  (8, 10]  (10, 12]  (12, 15]  (15, 17]  \\\n",
       "0             7      10      98      104       142       272       359   \n",
       "\n",
       "score  (17, 20]  (20, 25]  (25, 30]  \n",
       "0           305       279         0  "
      ]
     },
     "execution_count": 41,
     "metadata": {},
     "output_type": "execute_result"
    }
   ],
   "source": [
    "df4 = df[df['text_set'].isin([7])]\n",
    "df4['score'] = pd.cut(df4['score'],[0,5,8,10,12,15,17,20,25,30])\n",
    "df4.pivot_table(index = 'text_set',values= 'text_id', columns = 'score',aggfunc = 'count').replace(np.NaN,0).reset_index()"
   ]
  },
  {
   "cell_type": "code",
   "execution_count": null,
   "id": "bd5f7403",
   "metadata": {},
   "outputs": [],
   "source": [
    "df5 = df[df['text_set'].isin([7])]\n",
    "df4['score'] = pd.cut(df4['score'],[0,5,8,10,12,15,17,20,25,30])\n",
    "df4.pivot_table(index = 'text_set',values= 'text_id', columns = 'score',aggfunc = 'count').replace(np.NaN,0).reset_index()"
   ]
  },
  {
   "cell_type": "code",
   "execution_count": null,
   "id": "06d8d76b",
   "metadata": {},
   "outputs": [],
   "source": [
    "df1 = df3[df3['text_set'] == 1] \n",
    "\n",
    "df1.groupby"
   ]
  },
  {
   "cell_type": "code",
   "execution_count": null,
   "id": "f0bf5c4f",
   "metadata": {},
   "outputs": [],
   "source": [
    "df3[df3['text_set'] == 7]['score'].hist()"
   ]
  },
  {
   "cell_type": "code",
   "execution_count": null,
   "id": "ae8c05fe",
   "metadata": {},
   "outputs": [],
   "source": [
    "df3[df3['text_set'] == 8]['score'].hist()"
   ]
  },
  {
   "cell_type": "code",
   "execution_count": null,
   "id": "cbc9d776",
   "metadata": {},
   "outputs": [],
   "source": [
    "df3['faixa'] = np.where((df3['text_set'] == 2) & (df['score'] <= 6), '<= 6' , df['score']) \n",
    "df3"
   ]
  },
  {
   "cell_type": "code",
   "execution_count": null,
   "id": "da796559",
   "metadata": {},
   "outputs": [],
   "source": []
  }
 ],
 "metadata": {
  "kernelspec": {
   "display_name": "Python 3 (ipykernel)",
   "language": "python",
   "name": "python3"
  },
  "language_info": {
   "codemirror_mode": {
    "name": "ipython",
    "version": 3
   },
   "file_extension": ".py",
   "mimetype": "text/x-python",
   "name": "python",
   "nbconvert_exporter": "python",
   "pygments_lexer": "ipython3",
   "version": "3.9.13"
  }
 },
 "nbformat": 4,
 "nbformat_minor": 5
}
