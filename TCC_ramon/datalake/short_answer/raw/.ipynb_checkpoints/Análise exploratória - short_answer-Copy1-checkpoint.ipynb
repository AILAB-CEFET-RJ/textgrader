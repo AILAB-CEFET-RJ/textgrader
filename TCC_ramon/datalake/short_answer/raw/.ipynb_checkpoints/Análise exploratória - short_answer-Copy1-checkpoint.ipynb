{
 "cells": [
  {
   "cell_type": "code",
   "execution_count": 46,
   "id": "ce0c98e8",
   "metadata": {},
   "outputs": [],
   "source": [
    "import pandas as pd\n",
    "import numpy as np\n",
    "import seaborn as sns"
   ]
  },
  {
   "cell_type": "code",
   "execution_count": 60,
   "id": "5d656cad",
   "metadata": {},
   "outputs": [],
   "source": [
    "def plot(df,text_set):\n",
    "    df['score'] = df['score'].astype(str)\n",
    "    df_set = df[(df['text_set'] == text_set)]\n",
    "    sns.boxplot(data = df_set, x = df_set['word_count'],y = 'score', order = ['0','1','2','3'])"
   ]
  },
  {
   "cell_type": "code",
   "execution_count": 61,
   "id": "b905615a",
   "metadata": {},
   "outputs": [],
   "source": [
    "def plot2(df,text_set):\n",
    "    df['score'] = df['score'].astype(str)\n",
    "    df_set = df[(df['text_set'] == text_set)]\n",
    "    sns.boxplot(data = df_set, x = df_set['unique_word_count'],y = 'score', order = ['0','1','2','3'])"
   ]
  },
  {
   "cell_type": "code",
   "execution_count": 70,
   "id": "ecb18bbe",
   "metadata": {},
   "outputs": [
    {
     "data": {
      "text/html": [
       "<div>\n",
       "<style scoped>\n",
       "    .dataframe tbody tr th:only-of-type {\n",
       "        vertical-align: middle;\n",
       "    }\n",
       "\n",
       "    .dataframe tbody tr th {\n",
       "        vertical-align: top;\n",
       "    }\n",
       "\n",
       "    .dataframe thead th {\n",
       "        text-align: right;\n",
       "    }\n",
       "</style>\n",
       "<table border=\"1\" class=\"dataframe\">\n",
       "  <thead>\n",
       "    <tr style=\"text-align: right;\">\n",
       "      <th></th>\n",
       "      <th>conjunto</th>\n",
       "      <th>quantidade_textos</th>\n",
       "      <th>média de palavras</th>\n",
       "      <th>desvio padrão palavras</th>\n",
       "      <th>média palavras unicas</th>\n",
       "      <th>média sentencas</th>\n",
       "    </tr>\n",
       "  </thead>\n",
       "  <tbody>\n",
       "    <tr>\n",
       "      <th>0</th>\n",
       "      <td>1</td>\n",
       "      <td>1672</td>\n",
       "      <td>51.698565</td>\n",
       "      <td>24.255523</td>\n",
       "      <td>35.372010</td>\n",
       "      <td>2.639354</td>\n",
       "    </tr>\n",
       "    <tr>\n",
       "      <th>1</th>\n",
       "      <td>2</td>\n",
       "      <td>1278</td>\n",
       "      <td>65.282473</td>\n",
       "      <td>24.720315</td>\n",
       "      <td>45.809077</td>\n",
       "      <td>3.366980</td>\n",
       "    </tr>\n",
       "    <tr>\n",
       "      <th>2</th>\n",
       "      <td>3</td>\n",
       "      <td>1891</td>\n",
       "      <td>52.707562</td>\n",
       "      <td>16.561402</td>\n",
       "      <td>38.418297</td>\n",
       "      <td>2.880487</td>\n",
       "    </tr>\n",
       "    <tr>\n",
       "      <th>3</th>\n",
       "      <td>4</td>\n",
       "      <td>1738</td>\n",
       "      <td>45.576525</td>\n",
       "      <td>17.905180</td>\n",
       "      <td>34.605293</td>\n",
       "      <td>2.386076</td>\n",
       "    </tr>\n",
       "    <tr>\n",
       "      <th>4</th>\n",
       "      <td>5</td>\n",
       "      <td>1795</td>\n",
       "      <td>28.572702</td>\n",
       "      <td>24.628627</td>\n",
       "      <td>19.518663</td>\n",
       "      <td>2.398329</td>\n",
       "    </tr>\n",
       "    <tr>\n",
       "      <th>5</th>\n",
       "      <td>6</td>\n",
       "      <td>1797</td>\n",
       "      <td>26.388425</td>\n",
       "      <td>23.891841</td>\n",
       "      <td>18.199777</td>\n",
       "      <td>2.125209</td>\n",
       "    </tr>\n",
       "    <tr>\n",
       "      <th>6</th>\n",
       "      <td>7</td>\n",
       "      <td>1799</td>\n",
       "      <td>45.341857</td>\n",
       "      <td>27.168927</td>\n",
       "      <td>33.754308</td>\n",
       "      <td>2.594219</td>\n",
       "    </tr>\n",
       "    <tr>\n",
       "      <th>7</th>\n",
       "      <td>8</td>\n",
       "      <td>1799</td>\n",
       "      <td>57.700945</td>\n",
       "      <td>35.923469</td>\n",
       "      <td>40.051695</td>\n",
       "      <td>3.015008</td>\n",
       "    </tr>\n",
       "    <tr>\n",
       "      <th>8</th>\n",
       "      <td>9</td>\n",
       "      <td>1798</td>\n",
       "      <td>54.820912</td>\n",
       "      <td>40.122048</td>\n",
       "      <td>38.388209</td>\n",
       "      <td>3.047275</td>\n",
       "    </tr>\n",
       "    <tr>\n",
       "      <th>9</th>\n",
       "      <td>10</td>\n",
       "      <td>1640</td>\n",
       "      <td>47.439634</td>\n",
       "      <td>34.409922</td>\n",
       "      <td>31.915244</td>\n",
       "      <td>1.772561</td>\n",
       "    </tr>\n",
       "  </tbody>\n",
       "</table>\n",
       "</div>"
      ],
      "text/plain": [
       "   conjunto  quantidade_textos  média de palavras  desvio padrão palavras  \\\n",
       "0         1               1672          51.698565               24.255523   \n",
       "1         2               1278          65.282473               24.720315   \n",
       "2         3               1891          52.707562               16.561402   \n",
       "3         4               1738          45.576525               17.905180   \n",
       "4         5               1795          28.572702               24.628627   \n",
       "5         6               1797          26.388425               23.891841   \n",
       "6         7               1799          45.341857               27.168927   \n",
       "7         8               1799          57.700945               35.923469   \n",
       "8         9               1798          54.820912               40.122048   \n",
       "9        10               1640          47.439634               34.409922   \n",
       "\n",
       "   média palavras unicas  média sentencas  \n",
       "0              35.372010         2.639354  \n",
       "1              45.809077         3.366980  \n",
       "2              38.418297         2.880487  \n",
       "3              34.605293         2.386076  \n",
       "4              19.518663         2.398329  \n",
       "5              18.199777         2.125209  \n",
       "6              33.754308         2.594219  \n",
       "7              40.051695         3.015008  \n",
       "8              38.388209         3.047275  \n",
       "9              31.915244         1.772561  "
      ]
     },
     "execution_count": 70,
     "metadata": {},
     "output_type": "execute_result"
    }
   ],
   "source": [
    "df = pd.read_parquet('enriched_texts.parquet')\n",
    "\n",
    "test = df.groupby(['text_set']).agg({'text_id':'count','word_count':['mean','std'],'unique_word_count':'mean','sentence_count':'mean'}).reset_index()\n",
    "test.columns = ['conjunto','quantidade_textos','média de palavras','desvio padrão palavras','média palavras unicas','média sentencas']\n",
    "test"
   ]
  },
  {
   "cell_type": "markdown",
   "id": "c6b145b9",
   "metadata": {},
   "source": [
    "## pivot table essay "
   ]
  },
  {
   "cell_type": "code",
   "execution_count": 49,
   "id": "481d37db",
   "metadata": {},
   "outputs": [
    {
     "data": {
      "text/html": [
       "<div>\n",
       "<style scoped>\n",
       "    .dataframe tbody tr th:only-of-type {\n",
       "        vertical-align: middle;\n",
       "    }\n",
       "\n",
       "    .dataframe tbody tr th {\n",
       "        vertical-align: top;\n",
       "    }\n",
       "\n",
       "    .dataframe thead th {\n",
       "        text-align: right;\n",
       "    }\n",
       "</style>\n",
       "<table border=\"1\" class=\"dataframe\">\n",
       "  <thead>\n",
       "    <tr style=\"text-align: right;\">\n",
       "      <th>score</th>\n",
       "      <th>text_set</th>\n",
       "      <th>0</th>\n",
       "      <th>1</th>\n",
       "      <th>2</th>\n",
       "      <th>3</th>\n",
       "    </tr>\n",
       "  </thead>\n",
       "  <tbody>\n",
       "    <tr>\n",
       "      <th>0</th>\n",
       "      <td>1</td>\n",
       "      <td>380.0</td>\n",
       "      <td>429.0</td>\n",
       "      <td>524.0</td>\n",
       "      <td>339.0</td>\n",
       "    </tr>\n",
       "    <tr>\n",
       "      <th>1</th>\n",
       "      <td>2</td>\n",
       "      <td>168.0</td>\n",
       "      <td>326.0</td>\n",
       "      <td>467.0</td>\n",
       "      <td>317.0</td>\n",
       "    </tr>\n",
       "    <tr>\n",
       "      <th>2</th>\n",
       "      <td>3</td>\n",
       "      <td>451.0</td>\n",
       "      <td>999.0</td>\n",
       "      <td>441.0</td>\n",
       "      <td>0.0</td>\n",
       "    </tr>\n",
       "    <tr>\n",
       "      <th>3</th>\n",
       "      <td>4</td>\n",
       "      <td>669.0</td>\n",
       "      <td>937.0</td>\n",
       "      <td>132.0</td>\n",
       "      <td>0.0</td>\n",
       "    </tr>\n",
       "    <tr>\n",
       "      <th>4</th>\n",
       "      <td>5</td>\n",
       "      <td>1391.0</td>\n",
       "      <td>328.0</td>\n",
       "      <td>42.0</td>\n",
       "      <td>34.0</td>\n",
       "    </tr>\n",
       "    <tr>\n",
       "      <th>5</th>\n",
       "      <td>6</td>\n",
       "      <td>1515.0</td>\n",
       "      <td>160.0</td>\n",
       "      <td>71.0</td>\n",
       "      <td>51.0</td>\n",
       "    </tr>\n",
       "    <tr>\n",
       "      <th>6</th>\n",
       "      <td>7</td>\n",
       "      <td>932.0</td>\n",
       "      <td>448.0</td>\n",
       "      <td>419.0</td>\n",
       "      <td>0.0</td>\n",
       "    </tr>\n",
       "    <tr>\n",
       "      <th>7</th>\n",
       "      <td>8</td>\n",
       "      <td>549.0</td>\n",
       "      <td>473.0</td>\n",
       "      <td>777.0</td>\n",
       "      <td>0.0</td>\n",
       "    </tr>\n",
       "    <tr>\n",
       "      <th>8</th>\n",
       "      <td>9</td>\n",
       "      <td>434.0</td>\n",
       "      <td>742.0</td>\n",
       "      <td>622.0</td>\n",
       "      <td>0.0</td>\n",
       "    </tr>\n",
       "    <tr>\n",
       "      <th>9</th>\n",
       "      <td>10</td>\n",
       "      <td>290.0</td>\n",
       "      <td>770.0</td>\n",
       "      <td>580.0</td>\n",
       "      <td>0.0</td>\n",
       "    </tr>\n",
       "  </tbody>\n",
       "</table>\n",
       "</div>"
      ],
      "text/plain": [
       "score  text_set       0      1      2      3\n",
       "0             1   380.0  429.0  524.0  339.0\n",
       "1             2   168.0  326.0  467.0  317.0\n",
       "2             3   451.0  999.0  441.0    0.0\n",
       "3             4   669.0  937.0  132.0    0.0\n",
       "4             5  1391.0  328.0   42.0   34.0\n",
       "5             6  1515.0  160.0   71.0   51.0\n",
       "6             7   932.0  448.0  419.0    0.0\n",
       "7             8   549.0  473.0  777.0    0.0\n",
       "8             9   434.0  742.0  622.0    0.0\n",
       "9            10   290.0  770.0  580.0    0.0"
      ]
     },
     "execution_count": 49,
     "metadata": {},
     "output_type": "execute_result"
    }
   ],
   "source": [
    "df2 = df[df['text_set'].isin([1,2,3,4,5,6,7,8,9,10])]\n",
    "df2.pivot_table(index = 'text_set',values= 'text_id', columns = 'score',aggfunc = 'count').replace(np.NaN,0).reset_index()"
   ]
  },
  {
   "cell_type": "markdown",
   "id": "d9c91765",
   "metadata": {},
   "source": [
    "## refazer gráficos essay\n"
   ]
  },
  {
   "cell_type": "code",
   "execution_count": 50,
   "id": "17300bd2",
   "metadata": {},
   "outputs": [
    {
     "data": {
      "image/png": "[encoded data removed]",
      "text/plain": [
       "<Figure size 432x288 with 1 Axes>"
      ]
     },
     "metadata": {
      "needs_background": "light"
     },
     "output_type": "display_data"
    }
   ],
   "source": [
    "plot(df,text_set = 1)"
   ]
  },
  {
   "cell_type": "code",
   "execution_count": 51,
   "id": "6ebc215f",
   "metadata": {},
   "outputs": [
    {
     "data": {
      "image/png": "[encoded data removed]",
      "text/plain": [
       "<Figure size 432x288 with 1 Axes>"
      ]
     },
     "metadata": {
      "needs_background": "light"
     },
     "output_type": "display_data"
    }
   ],
   "source": [
    "plot(df,text_set = 2)"
   ]
  },
  {
   "cell_type": "code",
   "execution_count": 52,
   "id": "6da0b20f",
   "metadata": {},
   "outputs": [
    {
     "data": {
      "image/png": "[encoded data removed]",
      "text/plain": [
       "<Figure size 432x288 with 1 Axes>"
      ]
     },
     "metadata": {
      "needs_background": "light"
     },
     "output_type": "display_data"
    }
   ],
   "source": [
    "plot(df,text_set = 3)"
   ]
  },
  {
   "cell_type": "code",
   "execution_count": 53,
   "id": "0af109fe",
   "metadata": {},
   "outputs": [
    {
     "data": {
      "image/png": "[encoded data removed]",
      "text/plain": [
       "<Figure size 432x288 with 1 Axes>"
      ]
     },
     "metadata": {
      "needs_background": "light"
     },
     "output_type": "display_data"
    }
   ],
   "source": [
    "plot(df,text_set = 4)"
   ]
  },
  {
   "cell_type": "code",
   "execution_count": 54,
   "id": "9f959eee",
   "metadata": {},
   "outputs": [
    {
     "data": {
      "image/png": "[encoded data removed]",
      "text/plain": [
       "<Figure size 432x288 with 1 Axes>"
      ]
     },
     "metadata": {
      "needs_background": "light"
     },
     "output_type": "display_data"
    }
   ],
   "source": [
    "plot(df,text_set = 5)"
   ]
  },
  {
   "cell_type": "code",
   "execution_count": 55,
   "id": "bd6f51e6",
   "metadata": {},
   "outputs": [
    {
     "data": {
      "image/png": "[encoded data removed]",
      "text/plain": [
       "<Figure size 432x288 with 1 Axes>"
      ]
     },
     "metadata": {
      "needs_background": "light"
     },
     "output_type": "display_data"
    }
   ],
   "source": [
    "plot(df,text_set = 6)"
   ]
  },
  {
   "cell_type": "code",
   "execution_count": 56,
   "id": "e5aa3389",
   "metadata": {},
   "outputs": [
    {
     "data": {
      "image/png": "[encoded data removed]",
      "text/plain": [
       "<Figure size 432x288 with 1 Axes>"
      ]
     },
     "metadata": {
      "needs_background": "light"
     },
     "output_type": "display_data"
    }
   ],
   "source": [
    "plot(df,text_set = 7)"
   ]
  },
  {
   "cell_type": "code",
   "execution_count": 57,
   "id": "7070af0f",
   "metadata": {},
   "outputs": [
    {
     "data": {
      "image/png": "[encoded data removed]",
      "text/plain": [
       "<Figure size 432x288 with 1 Axes>"
      ]
     },
     "metadata": {
      "needs_background": "light"
     },
     "output_type": "display_data"
    }
   ],
   "source": [
    "plot(df,text_set = 8)"
   ]
  },
  {
   "cell_type": "code",
   "execution_count": 58,
   "id": "a0b373a5",
   "metadata": {},
   "outputs": [
    {
     "data": {
      "image/png": "[encoded data removed]",
      "text/plain": [
       "<Figure size 432x288 with 1 Axes>"
      ]
     },
     "metadata": {
      "needs_background": "light"
     },
     "output_type": "display_data"
    }
   ],
   "source": [
    "plot(df,text_set = 9)"
   ]
  },
  {
   "cell_type": "code",
   "execution_count": 59,
   "id": "94fc9d42",
   "metadata": {},
   "outputs": [
    {
     "data": {
      "image/png": "[encoded data removed]",
      "text/plain": [
       "<Figure size 432x288 with 1 Axes>"
      ]
     },
     "metadata": {
      "needs_background": "light"
     },
     "output_type": "display_data"
    }
   ],
   "source": [
    "plot(df,text_set = 10)"
   ]
  },
  {
   "cell_type": "code",
   "execution_count": null,
   "id": "458c363b",
   "metadata": {},
   "outputs": [],
   "source": []
  },
  {
   "cell_type": "code",
   "execution_count": 82,
   "id": "2b5452ee",
   "metadata": {},
   "outputs": [],
   "source": [
    "import scipy.stats as stats \n",
    "\n",
    "df_set = df[df['text_set'] == 1]\n",
    "\n",
    "df0 = df_set[df_set['score'] == 0]['word_count']\n",
    "df1 = df_set[df_set['score'] == 1]['word_count']\n",
    "df2 = df_set[df_set['score'] == 2]['word_count']\n",
    "df3 = df_set[df_set['score'] == 3]['word_count']\n",
    "\n",
    "fvalue,pvalue = stats.f_oneway(df0,df1,df2,df3)"
   ]
  },
  {
   "cell_type": "code",
   "execution_count": 83,
   "id": "4de2731a",
   "metadata": {},
   "outputs": [
    {
     "data": {
      "text/plain": [
       "2.9300738861661784e-47"
      ]
     },
     "execution_count": 83,
     "metadata": {},
     "output_type": "execute_result"
    }
   ],
   "source": [
    "pvalue"
   ]
  },
  {
   "cell_type": "code",
   "execution_count": 86,
   "id": "3c717365",
   "metadata": {},
   "outputs": [
    {
     "name": "stdout",
     "output_type": "stream",
     "text": [
      "37.97894736842105\n",
      "20.692868488368305\n"
     ]
    }
   ],
   "source": [
    "print(df0.mean())\n",
    "print(df0.std())"
   ]
  },
  {
   "cell_type": "code",
   "execution_count": 84,
   "id": "6ba0f803",
   "metadata": {},
   "outputs": [
    {
     "name": "stdout",
     "output_type": "stream",
     "text": [
      "49.76689976689977\n",
      "23.02267725895137\n"
     ]
    }
   ],
   "source": [
    "print(df1.mean())\n",
    "print(df1.std())"
   ]
  },
  {
   "cell_type": "code",
   "execution_count": 85,
   "id": "2284e39c",
   "metadata": {},
   "outputs": [
    {
     "name": "stdout",
     "output_type": "stream",
     "text": [
      "56.646946564885496\n",
      "22.802321387077825\n"
     ]
    }
   ],
   "source": [
    "print(df2.mean())\n",
    "print(df2.std())"
   ]
  },
  {
   "cell_type": "code",
   "execution_count": null,
   "id": "b0c27362",
   "metadata": {},
   "outputs": [],
   "source": [
    "print(df3.mean())\n",
    "print(df3.std())"
   ]
  },
  {
   "cell_type": "code",
   "execution_count": null,
   "id": "cf4e7145",
   "metadata": {},
   "outputs": [],
   "source": []
  }
 ],
 "metadata": {
  "kernelspec": {
   "display_name": "Python 3 (ipykernel)",
   "language": "python",
   "name": "python3"
  },
  "language_info": {
   "codemirror_mode": {
    "name": "ipython",
    "version": 3
   },
   "file_extension": ".py",
   "mimetype": "text/x-python",
   "name": "python",
   "nbconvert_exporter": "python",
   "pygments_lexer": "ipython3",
   "version": "3.9.13"
  }
 },
 "nbformat": 4,
 "nbformat_minor": 5
}
