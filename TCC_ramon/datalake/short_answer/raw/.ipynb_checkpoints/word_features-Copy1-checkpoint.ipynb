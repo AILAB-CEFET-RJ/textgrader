{
 "cells": [
  {
   "cell_type": "code",
   "execution_count": null,
   "id": "e9bf4177",
   "metadata": {},
   "outputs": [],
   "source": [
    "import pandas as pd\n",
    "df = pd.read_parquet('corrected_texts.parquet')\n"
   ]
  },
  {
   "cell_type": "code",
   "execution_count": null,
   "id": "e08027a9",
   "metadata": {},
   "outputs": [],
   "source": [
    "from nltk import word_tokenize,sent_tokenize"
   ]
  },
  {
   "cell_type": "code",
   "execution_count": 7,
   "id": "14ece7ba",
   "metadata": {},
   "outputs": [],
   "source": [
    "def word_count(x):\n",
    "    lista = word_tokenize(x)\n",
    "    return len(lista)"
   ]
  },
  {
   "cell_type": "code",
   "execution_count": 8,
   "id": "a6591f64",
   "metadata": {},
   "outputs": [],
   "source": [
    "def word_count_unique(x):\n",
    "    lista = set(word_tokenize(x))\n",
    "    return len(lista)"
   ]
  },
  {
   "cell_type": "code",
   "execution_count": 9,
   "id": "38c880ba",
   "metadata": {},
   "outputs": [],
   "source": [
    "def sentence_count(x):\n",
    "    lista = sent_tokenize(x)\n",
    "    return len(lista)"
   ]
  },
  {
   "cell_type": "code",
   "execution_count": 12,
   "id": "95bff116",
   "metadata": {},
   "outputs": [],
   "source": [
    "def generate_word_sentence_features(df,coluna):\n",
    "    df['word_count'] = df[column].apply(lambda x: word_count(x))\n",
    "    df['unique_word_count'] = df[column].apply(lambda x: word_count_unique(x))\n",
    "    df['sentence_count'] = df[column].apply(lambda x: sentence_count(x))\n",
    "    \n",
    "    return df"
   ]
  },
  {
   "cell_type": "code",
   "execution_count": 11,
   "id": "436ea3d6",
   "metadata": {},
   "outputs": [
    {
     "data": {
      "text/plain": [
       "<AxesSubplot:>"
      ]
     },
     "execution_count": 11,
     "metadata": {},
     "output_type": "execute_result"
    },
    {
     "data": {
      "image/png": "[encoded data removed]",
      "text/plain": [
       "<Figure size 432x288 with 1 Axes>"
      ]
     },
     "metadata": {
      "needs_background": "light"
     },
     "output_type": "display_data"
    }
   ],
   "source": [
    "df[\"sentence_count\"].hist()"
   ]
  },
  {
   "cell_type": "code",
   "execution_count": null,
   "id": "b0610c49",
   "metadata": {},
   "outputs": [],
   "source": []
  },
  {
   "cell_type": "code",
   "execution_count": null,
   "id": "4cf60568",
   "metadata": {},
   "outputs": [],
   "source": []
  }
 ],
 "metadata": {
  "kernelspec": {
   "display_name": "Python 3 (ipykernel)",
   "language": "python",
   "name": "python3"
  },
  "language_info": {
   "codemirror_mode": {
    "name": "ipython",
    "version": 3
   },
   "file_extension": ".py",
   "mimetype": "text/x-python",
   "name": "python",
   "nbconvert_exporter": "python",
   "pygments_lexer": "ipython3",
   "version": "3.9.13"
  }
 },
 "nbformat": 4,
 "nbformat_minor": 5
}
