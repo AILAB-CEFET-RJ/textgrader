{
 "cells": [
  {
   "cell_type": "code",
   "execution_count": 1,
   "id": "ce0c98e8",
   "metadata": {},
   "outputs": [],
   "source": [
    "import pandas as pd\n",
    "import numpy as np\n",
    "import seaborn as sns\n",
    "import os"
   ]
  },
  {
   "cell_type": "code",
   "execution_count": 2,
   "id": "487f3e82",
   "metadata": {},
   "outputs": [],
   "source": [
    "def save_string_as_txt(text,directory,file):\n",
    "    \n",
    "    if not os.path.exists(directory):\n",
    "        os.makedirs(directory)\n",
    "        \n",
    "    path = os.path.join(directory,file)\n",
    "\n",
    "    text_file = open(path, \"w+\")\n",
    "    text_file.write(text)\n",
    "    text_file.close()"
   ]
  },
  {
   "cell_type": "code",
   "execution_count": 3,
   "id": "16312fcd",
   "metadata": {},
   "outputs": [],
   "source": [
    "def dataframe_to_string(path,caption = '',label = ''):\n",
    "    df = pd.read_parquet(path)\n",
    "    \n",
    "    ## trocamos o nome da coluna conjunto\n",
    "    df = df.rename(columns = {\"text_set\":\"Conjunto\",'quantidade_textos':'quantidade de textos'})\n",
    "    ## arredondamos para 3 casas\n",
    "    df = df.round(3)\n",
    "    \n",
    "    ## preparamos o formato para XXXX ao inves de r ou l \n",
    "    column_format = len(df.columns) * 'X'\n",
    "    column_format = column_format\n",
    "    \n",
    "    ## geramos o latex, sem indice, com legenda, com label , posicionando com o H,\n",
    "    ## sem caracteres de escape e com o formato de coluna definido anteriormente\n",
    "    text = str(df.to_latex(index = False,caption = caption,label = label,position = 'htb',escape = False,column_format = column_format))\n",
    "    ## trocamos o tabular pelo tabular x\n",
    "    text = text.replace('tabular','tabularx')\n",
    "    text = text.replace('begin{tabularx}','begin{tabularx}\\linewidth')\n",
    "    text = text.replace('_',' ')\n",
    "    \n",
    "    return text"
   ]
  },
  {
   "cell_type": "code",
   "execution_count": 4,
   "id": "4a5ed395",
   "metadata": {},
   "outputs": [],
   "source": [
    "tipo_texto = 'Redações'\n",
    "text_type = 'essay'\n",
    "opcao_doc_to_vec = '32_dimensoes'\n",
    "opcao_lsi = '10_topicos'"
   ]
  },
  {
   "cell_type": "code",
   "execution_count": 5,
   "id": "a3a52d2b",
   "metadata": {},
   "outputs": [],
   "source": [
    "RESULT_DATASETS = os.path.join(text_type,'predictions','experiment_results')\n",
    "OUTPUT_FOLDER = os.path.join('tabelas_latex','results',text_type)"
   ]
  },
  {
   "cell_type": "code",
   "execution_count": 6,
   "id": "193d12d6",
   "metadata": {},
   "outputs": [
    {
     "name": "stderr",
     "output_type": "stream",
     "text": [
      "C:\\Users\\ramon.boucas\\AppData\\Local\\Temp\\ipykernel_8608\\2170456800.py:15: FutureWarning: In future versions `DataFrame.to_latex` is expected to utilise the base implementation of `Styler.to_latex` for formatting and rendering. The arguments signature may therefore change. It is recommended instead to use `DataFrame.style.to_latex` which also contains additional functionality.\n",
      "  text = str(df.to_latex(index = False,caption = caption,label = label,position = 'htb',escape = False,column_format = column_format))\n"
     ]
    }
   ],
   "source": [
    "input_file = os.path.join('essay','predictions','experiment_results','classificao.parquet') \n",
    "output_file = f'classificacao_{text_type}'\n",
    "caption = ('''Visão do desempenho preditivo obtido na tarefa de avaliação de redações\n",
    "            para instâncias que usam a abordagem de classificação, mostramos os resultados através das diferentes técnicas de representação vetorial usadas e em suas diferentes dimensionalidades. Cabe ressaltar que, nas colunas, D \n",
    "            significa documento e M significa método. Nos valores da coluna M usamos D2V para indicar doc-to-vec.''',\n",
    "            f'Classificação em {tipo_texto}.')\n",
    "\n",
    "\n",
    "texto = dataframe_to_string(path = input_file,caption = caption,label = output_file)\n",
    " \n",
    "save_string_as_txt(texto,OUTPUT_FOLDER,output_file + '.tex')"
   ]
  },
  {
   "cell_type": "code",
   "execution_count": 7,
   "id": "3f80654e",
   "metadata": {},
   "outputs": [
    {
     "name": "stderr",
     "output_type": "stream",
     "text": [
      "C:\\Users\\ramon.boucas\\AppData\\Local\\Temp\\ipykernel_8608\\2170456800.py:15: FutureWarning: In future versions `DataFrame.to_latex` is expected to utilise the base implementation of `Styler.to_latex` for formatting and rendering. The arguments signature may therefore change. It is recommended instead to use `DataFrame.style.to_latex` which also contains additional functionality.\n",
      "  text = str(df.to_latex(index = False,caption = caption,label = label,position = 'htb',escape = False,column_format = column_format))\n"
     ]
    }
   ],
   "source": [
    "input_file = os.path.join('essay','predictions','experiment_results','classificao_ordinal.parquet') \n",
    "output_file = f'classificacao_ordinal_{text_type}'\n",
    "caption = ('''Visão do desempenho preditivo obtido na tarefa de avaliação de redações \n",
    "            para instâncias que usam a abordagem de classificação ordinal, mostramos os resultados através das diferentes técnicas de representação vetorial usadas e em suas diferentes dimensionalidades. Cabe ressaltar que, nas colunas, D \n",
    "            significa documento e M significa método. Nos valores da coluna M usamos D2V para indicar doc-to-vec.''',\n",
    "            f'Classificação ordinal em {tipo_texto}.')\n",
    "\n",
    " \n",
    "texto = dataframe_to_string(path = input_file,caption = caption,label = output_file)\n",
    " \n",
    "save_string_as_txt(texto,OUTPUT_FOLDER,output_file + '.tex')"
   ]
  },
  {
   "cell_type": "code",
   "execution_count": 8,
   "id": "af92dbaf",
   "metadata": {},
   "outputs": [
    {
     "name": "stderr",
     "output_type": "stream",
     "text": [
      "C:\\Users\\ramon.boucas\\AppData\\Local\\Temp\\ipykernel_8608\\2170456800.py:15: FutureWarning: In future versions `DataFrame.to_latex` is expected to utilise the base implementation of `Styler.to_latex` for formatting and rendering. The arguments signature may therefore change. It is recommended instead to use `DataFrame.style.to_latex` which also contains additional functionality.\n",
      "  text = str(df.to_latex(index = False,caption = caption,label = label,position = 'htb',escape = False,column_format = column_format))\n"
     ]
    }
   ],
   "source": [
    "input_file = os.path.join('essay','predictions','experiment_results','regressao.parquet') \n",
    "output_file = f'regressao_{text_type}'\n",
    "caption = ('''Visão do desempenho preditivo obtido na tarefa de avaliação de redações\n",
    "            para instancias que usam a abordagem de regressão, mostramos os resultados através das diferentes \n",
    "            técnicas de representação vetorial usadas e em suas diferentes dimensionalidades. Cabe ressaltar que, nas colunas, D \n",
    "            significa documento e M significa método. Nos valores da coluna M usamos D2V para indicar doc-to-vec.''',f'Regressao em {tipo_texto}')\n",
    "\n",
    "texto = dataframe_to_string(path = input_file,caption = caption,label = output_file)\n",
    " \n",
    "save_string_as_txt(texto,OUTPUT_FOLDER,output_file + '.tex')"
   ]
  },
  {
   "cell_type": "code",
   "execution_count": 9,
   "id": "125928c1",
   "metadata": {},
   "outputs": [
    {
     "name": "stderr",
     "output_type": "stream",
     "text": [
      "C:\\Users\\ramon.boucas\\AppData\\Local\\Temp\\ipykernel_8608\\2170456800.py:15: FutureWarning: In future versions `DataFrame.to_latex` is expected to utilise the base implementation of `Styler.to_latex` for formatting and rendering. The arguments signature may therefore change. It is recommended instead to use `DataFrame.style.to_latex` which also contains additional functionality.\n",
      "  text = str(df.to_latex(index = False,caption = caption,label = label,position = 'htb',escape = False,column_format = column_format))\n"
     ]
    }
   ],
   "source": [
    "input_file = 'sumario_redacao.parquet'\n",
    "output_file = f'diferencas_abordagens_redacao_{text_type}'\n",
    "caption = ('''A tabela mostra uma visão comparativa da diferença média de \n",
    "              desempenho preditivo obtido entre as abordagens de classificação e regressão obtidas \n",
    "              através dos diferentes conjuntos de redações''',\n",
    "            f'Comparação entre classificação e regressão em {tipo_texto}.')\n",
    "\n",
    "texto = dataframe_to_string(path = input_file,caption = caption,label = output_file)\n",
    " \n",
    "save_string_as_txt(texto,OUTPUT_FOLDER,output_file + '.tex')"
   ]
  },
  {
   "cell_type": "code",
   "execution_count": 10,
   "id": "d8609340",
   "metadata": {},
   "outputs": [
    {
     "ename": "SyntaxError",
     "evalue": "invalid syntax (2324883328.py, line 1)",
     "output_type": "error",
     "traceback": [
      "\u001b[1;36m  Input \u001b[1;32mIn [10]\u001b[1;36m\u001b[0m\n\u001b[1;33m    Para comparar as abordagens de classificação e regressão, utilizamos a seguinte lógica, pareamos os resultados em que no pipeline foi usada a mesma técnica representação vetorial, com mesma dimensionalidade para o mesmo texto e calculamos a diferença entre os resultados obtidos obtendo uma matriz com mesma organização das tabelas\u001b[0m\n\u001b[1;37m         ^\u001b[0m\n\u001b[1;31mSyntaxError\u001b[0m\u001b[1;31m:\u001b[0m invalid syntax\n"
     ]
    }
   ],
   "source": [
    "Para comparar as abordagens de classificação e regressão, utilizamos a seguinte lógica, pareamos os resultados em que no pipeline foi usada a mesma técnica representação vetorial, com mesma dimensionalidade para o mesmo texto e calculamos a diferença entre os resultados obtidos obtendo uma matriz com mesma organização das tabelas \n",
    "              [CITAR TABELAS], a qual não exibiremos para não poluir a explicação, nessa matriz, calculamos a média das diferenças \n",
    "              para cada texto e obtivemos um sumário que é exibido nessa tabela"
   ]
  }
 ],
 "metadata": {
  "kernelspec": {
   "display_name": "Python 3 (ipykernel)",
   "language": "python",
   "name": "python3"
  },
  "language_info": {
   "codemirror_mode": {
    "name": "ipython",
    "version": 3
   },
   "file_extension": ".py",
   "mimetype": "text/x-python",
   "name": "python",
   "nbconvert_exporter": "python",
   "pygments_lexer": "ipython3",
   "version": "3.9.13"
  }
 },
 "nbformat": 4,
 "nbformat_minor": 5
}
