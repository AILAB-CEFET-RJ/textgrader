{
 "cells": [
  {
   "cell_type": "code",
   "execution_count": 1,
   "id": "ce0c98e8",
   "metadata": {},
   "outputs": [],
   "source": [
    "import pandas as pd\n",
    "import numpy as np\n",
    "import seaborn as sns\n",
    "import os"
   ]
  },
  {
   "cell_type": "code",
   "execution_count": 2,
   "id": "487f3e82",
   "metadata": {},
   "outputs": [],
   "source": [
    "def save_string_as_txt(text,directory,file):\n",
    "    \n",
    "    if not os.path.exists(directory):\n",
    "        os.makedirs(directory)\n",
    "        \n",
    "    path = os.path.join(directory,file)\n",
    "\n",
    "    text_file = open(path, \"w+\")\n",
    "    text_file.write(text)\n",
    "    text_file.close()"
   ]
  },
  {
   "cell_type": "code",
   "execution_count": 3,
   "id": "16312fcd",
   "metadata": {},
   "outputs": [],
   "source": [
    "def dataframe_to_string(path,caption = '',label = ''):\n",
    "    df = pd.read_parquet(path)\n",
    "    \n",
    "    ## trocamos o nome da coluna conjunto\n",
    "    df = df.rename(columns = {\"text_set\":\"Conjunto\",'quantidade_textos':'quantidade de textos'})\n",
    "    ## arredondamos para 3 casas\n",
    "    df = df.round(3)\n",
    "    \n",
    "    ## preparamos o formato para XXXX ao inves de r ou l \n",
    "    column_format = len(df.columns) * 'X'\n",
    "    column_format = column_format\n",
    "    \n",
    "    ## geramos o latex, sem indice, com legenda, com label , posicionando com o H,\n",
    "    ## sem caracteres de escape e com o formato de coluna definido anteriormente\n",
    "    text = str(df.to_latex(index = False,caption = caption,label = label,position = 'H',escape = False,column_format = column_format))\n",
    "    ## trocamos o tabular pelo tabular x\n",
    "    text = text.replace('tabular','tabularx')\n",
    "    text = text.replace('begin{tabularx}','begin{tabularx}\\linewidth')\n",
    "    text = text.replace('_',' ')\n",
    "    \n",
    "    return text"
   ]
  },
  {
   "cell_type": "code",
   "execution_count": 4,
   "id": "4a5ed395",
   "metadata": {},
   "outputs": [],
   "source": [
    "tipo_texto = 'respostas curtas'\n",
    "text_type = 'short_answer'\n",
    "opcao_doc_to_vec = '32_dimensoes'\n",
    "opcao_lsi = '10_topicos'"
   ]
  },
  {
   "cell_type": "code",
   "execution_count": 5,
   "id": "a3a52d2b",
   "metadata": {},
   "outputs": [],
   "source": [
    "RESULT_DATASETS = os.path.join(text_type,'predictions','experiment_results')\n",
    "OUTPUT_FOLDER = os.path.join('tabelas_latex','results',text_type)"
   ]
  },
  {
   "cell_type": "code",
   "execution_count": 6,
   "id": "193d12d6",
   "metadata": {},
   "outputs": [
    {
     "name": "stderr",
     "output_type": "stream",
     "text": [
      "C:\\Users\\ramon.boucas\\AppData\\Local\\Temp\\ipykernel_26408\\1307135153.py:15: FutureWarning: In future versions `DataFrame.to_latex` is expected to utilise the base implementation of `Styler.to_latex` for formatting and rendering. The arguments signature may therefore change. It is recommended instead to use `DataFrame.style.to_latex` which also contains additional functionality.\n",
      "  text = str(df.to_latex(index = False,caption = caption,label = label,position = 'H',escape = False,column_format = column_format))\n"
     ]
    }
   ],
   "source": [
    "input_file = os.path.join(RESULT_DATASETS,'doc_to_vec.parquet')\n",
    "output_file = f'resultados_doc_to_vec_{text_type}'\n",
    "caption = f'Análise do desempenho do pipeline com diferentes dimensionalidades do doc-to-vec em {tipo_texto}'\n",
    "\n",
    "df_doc_2_vec = pd.read_parquet(input_file)\n",
    "texto = dataframe_to_string(path = input_file,caption = caption,label = output_file)\n",
    " \n",
    "save_string_as_txt(texto,OUTPUT_FOLDER,output_file + '.tex')"
   ]
  },
  {
   "cell_type": "code",
   "execution_count": 7,
   "id": "8d730f27",
   "metadata": {},
   "outputs": [
    {
     "name": "stderr",
     "output_type": "stream",
     "text": [
      "C:\\Users\\ramon.boucas\\AppData\\Local\\Temp\\ipykernel_26408\\1307135153.py:15: FutureWarning: In future versions `DataFrame.to_latex` is expected to utilise the base implementation of `Styler.to_latex` for formatting and rendering. The arguments signature may therefore change. It is recommended instead to use `DataFrame.style.to_latex` which also contains additional functionality.\n",
      "  text = str(df.to_latex(index = False,caption = caption,label = label,position = 'H',escape = False,column_format = column_format))\n"
     ]
    }
   ],
   "source": [
    "input_file = os.path.join(RESULT_DATASETS,'lsi_topics_results.parquet')\n",
    "output_file = f'resultados_lsi_{text_type}'\n",
    "caption = f'Análise dos resultados do pipeline usando LSI com diferentes dimensionalidades em {tipo_texto}'\n",
    "\n",
    "df_lsi = pd.read_parquet(input_file)\n",
    "texto = dataframe_to_string(path = input_file,caption = caption,label = output_file)\n",
    " \n",
    "save_string_as_txt(texto,OUTPUT_FOLDER,output_file + '.tex')"
   ]
  },
  {
   "cell_type": "code",
   "execution_count": 8,
   "id": "5901fce2",
   "metadata": {
    "scrolled": true
   },
   "outputs": [],
   "source": [
    "input_file = os.path.join(RESULT_DATASETS,'universal_sentence_encoder_results.parquet')\n",
    "df_use = pd.read_parquet(input_file) \n",
    "df_ensemble = pd.read_parquet('kappa_cohen_ensemble_short_answer.parquet').rename(columns = {'Conjunto':'text_set','kappa de cohen':'Ensemble'})\n",
    " \n",
    "\n",
    " \n",
    "df = pd.merge(df_doc_2_vec,df_lsi, on =['text_set'])\n",
    "df = pd.merge(df,df_use, on = 'text_set')\n",
    "df = pd.merge(df,df_ensemble, on = 'text_set')\n",
    "novo_df = df[['text_set',opcao_doc_to_vec,opcao_lsi,'USE','Ensemble']]\n",
    "\n",
    "novo_df = novo_df.rename({opcao_doc_to_vec:'doc 2 vec',opcao_lsi:'LSI'})\n",
    "novo_df.to_parquet(os.path.join(RESULT_DATASETS,'comparative_vision.parquet'))"
   ]
  },
  {
   "cell_type": "code",
   "execution_count": 9,
   "id": "a7fc9af3",
   "metadata": {},
   "outputs": [
    {
     "name": "stderr",
     "output_type": "stream",
     "text": [
      "C:\\Users\\ramon.boucas\\AppData\\Local\\Temp\\ipykernel_26408\\1307135153.py:15: FutureWarning: In future versions `DataFrame.to_latex` is expected to utilise the base implementation of `Styler.to_latex` for formatting and rendering. The arguments signature may therefore change. It is recommended instead to use `DataFrame.style.to_latex` which also contains additional functionality.\n",
      "  text = str(df.to_latex(index = False,caption = caption,label = label,position = 'H',escape = False,column_format = column_format))\n"
     ]
    }
   ],
   "source": [
    "input_file = os.path.join(RESULT_DATASETS,'comparative_vision.parquet')\n",
    "output_file = f'visao_comparativa_{text_type}'\n",
    "caption = f'comparação dos diferentes métodos em {tipo_texto}'\n",
    "\n",
    "compara = pd.read_parquet(input_file)\n",
    "texto = dataframe_to_string(path = input_file,caption = caption,label = output_file)\n",
    "\n",
    "save_string_as_txt(texto,OUTPUT_FOLDER,output_file + '.tex')"
   ]
  },
  {
   "cell_type": "code",
   "execution_count": null,
   "id": "f5ecac7d",
   "metadata": {},
   "outputs": [],
   "source": []
  }
 ],
 "metadata": {
  "kernelspec": {
   "display_name": "Python 3 (ipykernel)",
   "language": "python",
   "name": "python3"
  },
  "language_info": {
   "codemirror_mode": {
    "name": "ipython",
    "version": 3
   },
   "file_extension": ".py",
   "mimetype": "text/x-python",
   "name": "python",
   "nbconvert_exporter": "python",
   "pygments_lexer": "ipython3",
   "version": "3.9.13"
  }
 },
 "nbformat": 4,
 "nbformat_minor": 5
}
