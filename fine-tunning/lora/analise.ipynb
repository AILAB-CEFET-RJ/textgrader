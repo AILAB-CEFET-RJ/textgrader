{
 "cells": [
  {
   "cell_type": "code",
   "id": "initial_id",
   "metadata": {
    "collapsed": true,
    "ExecuteTime": {
     "end_time": "2024-06-19T23:15:53.234354Z",
     "start_time": "2024-06-19T23:15:52.400617Z"
    }
   },
   "source": "import pandas as pd",
   "outputs": [],
   "execution_count": 1
  },
  {
   "metadata": {
    "ExecuteTime": {
     "end_time": "2024-06-19T23:18:15.278526Z",
     "start_time": "2024-06-19T23:18:15.018317Z"
    }
   },
   "cell_type": "code",
   "source": [
    "df = pd.read_csv(\"preprocessing/output.csv\")\n",
    "df"
   ],
   "id": "73f0ebf31e0d2aa1",
   "outputs": [
    {
     "data": {
      "text/plain": [
       "                                                  texto  nota\n",
       "0     É notório que as notícias falsas  em ano de el...   100\n",
       "1     No atual mundo contemporâneo , com tantos aces...   100\n",
       "2     O livro ''Notícias: Manual de Usuário'', do es...   150\n",
       "3     Desde o começo dos tempos, o homem busca forma...   100\n",
       "4     Atualmente, com o rápido avanço da tecnologia ...   100\n",
       "...                                                 ...   ...\n",
       "7623  Do Google à Apple e à Amazon, o truque está em...   100\n",
       "7624  A respeito do tema \"Manipulação do comportamen...   100\n",
       "7625  Ao longo da história da humanidade, vários alm...   150\n",
       "7626  As redes sóciassociais no Brasil se tornaram u...   100\n",
       "7627  Nos dias atuais vivemosem um mundo totalmente ...   100\n",
       "\n",
       "[7628 rows x 2 columns]"
      ],
      "text/html": [
       "<div>\n",
       "<style scoped>\n",
       "    .dataframe tbody tr th:only-of-type {\n",
       "        vertical-align: middle;\n",
       "    }\n",
       "\n",
       "    .dataframe tbody tr th {\n",
       "        vertical-align: top;\n",
       "    }\n",
       "\n",
       "    .dataframe thead th {\n",
       "        text-align: right;\n",
       "    }\n",
       "</style>\n",
       "<table border=\"1\" class=\"dataframe\">\n",
       "  <thead>\n",
       "    <tr style=\"text-align: right;\">\n",
       "      <th></th>\n",
       "      <th>texto</th>\n",
       "      <th>nota</th>\n",
       "    </tr>\n",
       "  </thead>\n",
       "  <tbody>\n",
       "    <tr>\n",
       "      <th>0</th>\n",
       "      <td>É notório que as notícias falsas  em ano de el...</td>\n",
       "      <td>100</td>\n",
       "    </tr>\n",
       "    <tr>\n",
       "      <th>1</th>\n",
       "      <td>No atual mundo contemporâneo , com tantos aces...</td>\n",
       "      <td>100</td>\n",
       "    </tr>\n",
       "    <tr>\n",
       "      <th>2</th>\n",
       "      <td>O livro ''Notícias: Manual de Usuário'', do es...</td>\n",
       "      <td>150</td>\n",
       "    </tr>\n",
       "    <tr>\n",
       "      <th>3</th>\n",
       "      <td>Desde o começo dos tempos, o homem busca forma...</td>\n",
       "      <td>100</td>\n",
       "    </tr>\n",
       "    <tr>\n",
       "      <th>4</th>\n",
       "      <td>Atualmente, com o rápido avanço da tecnologia ...</td>\n",
       "      <td>100</td>\n",
       "    </tr>\n",
       "    <tr>\n",
       "      <th>...</th>\n",
       "      <td>...</td>\n",
       "      <td>...</td>\n",
       "    </tr>\n",
       "    <tr>\n",
       "      <th>7623</th>\n",
       "      <td>Do Google à Apple e à Amazon, o truque está em...</td>\n",
       "      <td>100</td>\n",
       "    </tr>\n",
       "    <tr>\n",
       "      <th>7624</th>\n",
       "      <td>A respeito do tema \"Manipulação do comportamen...</td>\n",
       "      <td>100</td>\n",
       "    </tr>\n",
       "    <tr>\n",
       "      <th>7625</th>\n",
       "      <td>Ao longo da história da humanidade, vários alm...</td>\n",
       "      <td>150</td>\n",
       "    </tr>\n",
       "    <tr>\n",
       "      <th>7626</th>\n",
       "      <td>As redes sóciassociais no Brasil se tornaram u...</td>\n",
       "      <td>100</td>\n",
       "    </tr>\n",
       "    <tr>\n",
       "      <th>7627</th>\n",
       "      <td>Nos dias atuais vivemosem um mundo totalmente ...</td>\n",
       "      <td>100</td>\n",
       "    </tr>\n",
       "  </tbody>\n",
       "</table>\n",
       "<p>7628 rows × 2 columns</p>\n",
       "</div>"
      ]
     },
     "execution_count": 3,
     "metadata": {},
     "output_type": "execute_result"
    }
   ],
   "execution_count": 3
  },
  {
   "metadata": {
    "ExecuteTime": {
     "end_time": "2024-06-19T23:19:44.302605Z",
     "start_time": "2024-06-19T23:19:44.291009Z"
    }
   },
   "cell_type": "code",
   "source": "df[\"nota\"].unique()",
   "id": "af871feede5aad11",
   "outputs": [
    {
     "data": {
      "text/plain": [
       "array([100, 150, 120, 160, 200,  40,  80,  50,   0,  20])"
      ]
     },
     "execution_count": 4,
     "metadata": {},
     "output_type": "execute_result"
    }
   ],
   "execution_count": 4
  },
  {
   "metadata": {
    "ExecuteTime": {
     "end_time": "2024-06-19T23:20:15.552097Z",
     "start_time": "2024-06-19T23:20:15.541046Z"
    }
   },
   "cell_type": "code",
   "source": "df[\"nota\"].value_counts()\n",
   "id": "9cd07187aef2b46e",
   "outputs": [
    {
     "data": {
      "text/plain": [
       "nota\n",
       "100    2647\n",
       "160    2442\n",
       "150    1230\n",
       "120     529\n",
       "50      385\n",
       "200     311\n",
       "0        40\n",
       "20       25\n",
       "80       17\n",
       "40        2\n",
       "Name: count, dtype: int64"
      ]
     },
     "execution_count": 5,
     "metadata": {},
     "output_type": "execute_result"
    }
   ],
   "execution_count": 5
  },
  {
   "metadata": {},
   "cell_type": "code",
   "outputs": [],
   "execution_count": null,
   "source": "",
   "id": "2ebba230997ac9b2"
  }
 ],
 "metadata": {
  "kernelspec": {
   "display_name": "Python 3",
   "language": "python",
   "name": "python3"
  },
  "language_info": {
   "codemirror_mode": {
    "name": "ipython",
    "version": 2
   },
   "file_extension": ".py",
   "mimetype": "text/x-python",
   "name": "python",
   "nbconvert_exporter": "python",
   "pygments_lexer": "ipython2",
   "version": "2.7.6"
  }
 },
 "nbformat": 4,
 "nbformat_minor": 5
}
